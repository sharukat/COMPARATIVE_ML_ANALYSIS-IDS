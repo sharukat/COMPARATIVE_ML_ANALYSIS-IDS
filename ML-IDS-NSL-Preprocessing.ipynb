{
 "cells": [
  {
   "cell_type": "markdown",
   "metadata": {},
   "source": [
    "# NSL Pre-processing"
   ]
  },
  {
   "cell_type": "code",
   "execution_count": 1,
   "metadata": {},
   "outputs": [
    {
     "name": "stdout",
     "output_type": "stream",
     "text": [
      "C:\\Users\\Sharuka Thirimanne\\Desktop\\FYP-ML-IDS\n"
     ]
    }
   ],
   "source": [
    "cd C:\\\\Users\\\\Sharuka Thirimanne\\\\Desktop\\\\FYP-ML-IDS"
   ]
  },
  {
   "cell_type": "code",
   "execution_count": 2,
   "metadata": {},
   "outputs": [],
   "source": [
    "import numpy as np\n",
    "import pandas as pd\n",
    "import seaborn as sns\n",
    "import matplotlib.pyplot as plt\n",
    "from sklearn.decomposition import PCA\n",
    "from sklearn.model_selection import train_test_split\n",
    "from sklearn.preprocessing import StandardScaler\n",
    "from sklearn.preprocessing import MinMaxScaler\n",
    "from sklearn.preprocessing import OneHotEncoder\n",
    "from sklearn.preprocessing import LabelEncoder\n",
    "from sklearn.model_selection import cross_val_score\n",
    "from sklearn.metrics import confusion_matrix\n",
    "from sklearn.metrics import classification_report\n",
    "from sklearn.metrics import accuracy_score\n",
    "from sklearn.model_selection import GridSearchCV"
   ]
  },
  {
   "cell_type": "code",
   "execution_count": 3,
   "metadata": {},
   "outputs": [
    {
     "name": "stdout",
     "output_type": "stream",
     "text": [
      "Number of features before feature selection : 41\n",
      "Original dataset duplicates : 9\n",
      "Number of features after feature selection : 41\n",
      "Duplicates after feature selection : 9\n",
      "Duplicates after category reduction : 1468\n",
      "Duplicates after duplicate drop : 0\n"
     ]
    }
   ],
   "source": [
    "def train_preprocess():\n",
    "    df_train = pd.read_csv('Datasets/csv_result-KDDTrain+.csv')\n",
    "    df_train.drop(['id'], axis = 'columns' , inplace = True)\n",
    "    num_features = len(df_train.columns) - 1\n",
    "    print('Number of features before feature selection :',num_features)\n",
    "    print('Original dataset duplicates :',df_train.duplicated().sum())\n",
    "\n",
    "    num_features = len(df_train.columns) - 1\n",
    "    print('Number of features after feature selection :',num_features)\n",
    "    print('Duplicates after feature selection :',df_train.duplicated().sum())\n",
    "    for col in ['protocol_type','flag','service']:\n",
    "        df_train[col] = df_train[col].astype('category')\n",
    "    \n",
    "    label1 = 'Other_service'\n",
    "    others1 = df_train['service'].value_counts().index[30:]\n",
    "    df_train['service'] = df_train['service'].cat.add_categories([label1])\n",
    "    df_train['service'] = df_train['service'].replace(others1, label1)\n",
    "\n",
    "    df_train['service'].replace({'time':'Other_service','urp_i':'Other_service',\n",
    "                                 'csnet_ns':'Other_service','supdup':'Other_service',\n",
    "                                 'discard':'Other_service','http_443':'Other_service'}, inplace = True)\n",
    "    \n",
    "    print('Duplicates after category reduction :',df_train.duplicated().sum())\n",
    "    df_train['class'] = df_train['class'].map( {'normal':0, 'anomaly':1} )\n",
    "    df_train.drop_duplicates(keep='first',inplace=True)\n",
    "    print('Duplicates after duplicate drop :',df_train.duplicated().sum())\n",
    "    \n",
    "    return df_train\n",
    "df_train = train_preprocess()"
   ]
  },
  {
   "cell_type": "code",
   "execution_count": 4,
   "metadata": {},
   "outputs": [
    {
     "data": {
      "text/plain": [
       "class\n",
       "0    67343\n",
       "1    57162\n",
       "Name: class, dtype: int64"
      ]
     },
     "execution_count": 4,
     "metadata": {},
     "output_type": "execute_result"
    }
   ],
   "source": [
    "df_train.groupby('class')['class'].count()"
   ]
  },
  {
   "cell_type": "code",
   "execution_count": 5,
   "metadata": {},
   "outputs": [
    {
     "name": "stdout",
     "output_type": "stream",
     "text": [
      "Original dataset duplicates : 3\n",
      "Duplicates after feature selection : 3\n",
      "Duplicates after category reduction : 22\n",
      "Duplicates after duplicate drop : 0\n"
     ]
    }
   ],
   "source": [
    "def test_preprocess():\n",
    "    df_test = pd.read_csv('Datasets/csv_result-KDDTest+.csv')\n",
    "    df_test.drop(['id'], axis = 'columns' , inplace = True)\n",
    "    print('Original dataset duplicates :',df_test.duplicated().sum())\n",
    "    \n",
    "    print('Duplicates after feature selection :',df_test.duplicated().sum())\n",
    "    for col in ['protocol_type','flag','service']:\n",
    "        df_test[col] = df_test[col].astype('category')\n",
    "    \n",
    "    label1 = 'Other_service'\n",
    "    others1 = df_test['service'].value_counts().index[30:]\n",
    "    # apply new category label\n",
    "    df_test['service'] = df_test['service'].cat.add_categories([label1])\n",
    "    df_test['service'] = df_test['service'].replace(others1, label1)\n",
    "\n",
    "    print('Duplicates after category reduction :',df_test.duplicated().sum())\n",
    "    df_test['service'].replace({'pop_3':'Other_service','sunrpc':'Other_service',\n",
    "                                'link':'Other_service','name':'Other_service','echo':'Other_service',\n",
    "                                'netbios_ns':'Other_service'}, inplace = True)\n",
    "    \n",
    "    df_test['class'] = df_test['class'].map( {'normal':0, 'anomaly':1} )\n",
    "    df_test.drop_duplicates(keep='first',inplace=True)\n",
    "    print('Duplicates after duplicate drop :',df_test.duplicated().sum())\n",
    "    \n",
    "    return df_test\n",
    "df_test = test_preprocess()"
   ]
  },
  {
   "cell_type": "code",
   "execution_count": 6,
   "metadata": {},
   "outputs": [
    {
     "name": "stdout",
     "output_type": "stream",
     "text": [
      "Train set shape: (124505, 42)\n",
      "Test set shape: (22514, 42)\n"
     ]
    }
   ],
   "source": [
    "print('Train set shape:',df_train.shape)\n",
    "print('Test set shape:',df_test.shape)"
   ]
  },
  {
   "cell_type": "code",
   "execution_count": 7,
   "metadata": {
    "scrolled": true
   },
   "outputs": [
    {
     "name": "stdout",
     "output_type": "stream",
     "text": [
      "Train 25\n",
      "Test 25\n",
      "=======================================\n",
      "Train 11\n",
      "Test 11\n",
      "=======================================\n",
      "Train 3\n",
      "Test 3\n"
     ]
    }
   ],
   "source": [
    "print('Train',len(df_train['service'].unique()))\n",
    "print('Test',len(df_test['service'].unique()))\n",
    "print('=======================================')\n",
    "print('Train',len(df_train['flag'].unique()))\n",
    "print('Test',len(df_test['flag'].unique()))\n",
    "print('=======================================')\n",
    "print('Train',len(df_train['protocol_type'].unique()))\n",
    "print('Test',len(df_test['protocol_type'].unique()))"
   ]
  },
  {
   "cell_type": "code",
   "execution_count": 8,
   "metadata": {},
   "outputs": [],
   "source": [
    "limit1 = df_train.shape[1]-1\n",
    "    \n",
    "X_train = df_train.iloc[:,0:limit1] # train set features\n",
    "Y_train = df_train.iloc[:,limit1]\n",
    "    \n",
    "limit2 = df_test.shape[1]-1\n",
    "    \n",
    "X_test = df_test.iloc[:,0:limit2] # train set features\n",
    "Y_test = df_test.iloc[:,limit2]"
   ]
  },
  {
   "cell_type": "code",
   "execution_count": 9,
   "metadata": {},
   "outputs": [
    {
     "name": "stdout",
     "output_type": "stream",
     "text": [
      "X_train shape : (124505, 77)\n",
      "X_test shape : (22514, 77)\n"
     ]
    }
   ],
   "source": [
    "def one_hot_encode(X_train,X_test):\n",
    "    \n",
    "    categorical_cols = ['protocol_type','flag','service']\n",
    "\n",
    "    # Training dataset one hot encoding\n",
    "    ohe = OneHotEncoder(handle_unknown = 'ignore')\n",
    "    ohe.fit(X_train[categorical_cols])\n",
    "    array_hot_encoded1 = ohe.transform(X_train[categorical_cols]).toarray()\n",
    "    data_hot_encoded1 = pd.DataFrame(array_hot_encoded1, index=X_train.index)\n",
    "    X_train = X_train.drop(columns=categorical_cols)\n",
    "    X_train = pd.concat([data_hot_encoded1,X_train], axis=1)\n",
    "    \n",
    "    print('X_train shape :',X_train.shape)\n",
    "    \n",
    "    # Test dataset one hot encoding\n",
    "    array_hot_encoded2 = ohe.transform(X_test[categorical_cols]).toarray()\n",
    "    data_hot_encoded2 = pd.DataFrame(array_hot_encoded2, index=X_test.index)\n",
    "    X_test = X_test.drop(columns=categorical_cols)\n",
    "    X_test = pd.concat([data_hot_encoded2,X_test], axis=1)\n",
    "    \n",
    "    print('X_test shape :',X_test.shape)\n",
    "    \n",
    "    return X_train, X_test\n",
    "\n",
    "X_train, X_test = one_hot_encode(X_train,X_test)"
   ]
  },
  {
   "cell_type": "code",
   "execution_count": 10,
   "metadata": {},
   "outputs": [],
   "source": [
    "def scaling(X_train,X_test):\n",
    "    scaler = StandardScaler()\n",
    "    X_train = scaler.fit_transform(X_train)\n",
    "    X_test = scaler.transform(X_test)\n",
    "    \n",
    "    return X_train, X_test\n",
    "\n",
    "X_train, X_test = scaling(X_train,X_test)"
   ]
  },
  {
   "cell_type": "code",
   "execution_count": 11,
   "metadata": {},
   "outputs": [],
   "source": [
    "X_train = pd.DataFrame(X_train)\n",
    "X_test = pd.DataFrame(X_test)\n",
    "\n",
    "Y_train.reset_index(drop=True,inplace=True)\n",
    "Y_test.reset_index(drop=True,inplace=True)"
   ]
  },
  {
   "cell_type": "code",
   "execution_count": 12,
   "metadata": {},
   "outputs": [
    {
     "name": "stdout",
     "output_type": "stream",
     "text": [
      "(124505, 77)\n",
      "(124505,)\n",
      "(22514, 77)\n",
      "(22514,)\n"
     ]
    }
   ],
   "source": [
    "print(X_train.shape)\n",
    "print(Y_train.shape)\n",
    "print(X_test.shape)\n",
    "print(Y_test.shape)"
   ]
  },
  {
   "cell_type": "code",
   "execution_count": 13,
   "metadata": {
    "scrolled": false
   },
   "outputs": [],
   "source": [
    "df_train = pd.concat([X_train,Y_train],axis=1)\n",
    "df_test = pd.concat([X_test,Y_test],axis=1)"
   ]
  },
  {
   "cell_type": "code",
   "execution_count": 14,
   "metadata": {},
   "outputs": [
    {
     "name": "stdout",
     "output_type": "stream",
     "text": [
      "Train set shape: (124505, 78)\n",
      "Test set shape: (22514, 78)\n"
     ]
    }
   ],
   "source": [
    "print('Train set shape:',df_train.shape)\n",
    "print('Test set shape:',df_test.shape)"
   ]
  },
  {
   "cell_type": "code",
   "execution_count": 14,
   "metadata": {},
   "outputs": [],
   "source": [
    "# Class count\n",
    "count_class_0, count_class_1 = df_train['class'].value_counts()\n",
    "\n",
    "# Divide by class\n",
    "df_class_0 = df_train[df_train['class'] == 0]\n",
    "df_class_1 = df_train[df_train['class'] == 1]\n",
    "    \n",
    "df_class_0_under = df_class_0.sample(count_class_1)\n",
    "df_train = pd.concat([df_class_0_under, df_class_1], axis=0)"
   ]
  },
  {
   "cell_type": "code",
   "execution_count": 15,
   "metadata": {},
   "outputs": [
    {
     "data": {
      "text/plain": [
       "class\n",
       "0    57162\n",
       "1    57162\n",
       "Name: class, dtype: int64"
      ]
     },
     "execution_count": 15,
     "metadata": {},
     "output_type": "execute_result"
    }
   ],
   "source": [
    "df_train.groupby('class')['class'].count()"
   ]
  },
  {
   "cell_type": "code",
   "execution_count": 16,
   "metadata": {},
   "outputs": [],
   "source": [
    "df_train.reset_index(drop=True,inplace=True)\n",
    "df_test.reset_index(drop=True,inplace=True)"
   ]
  },
  {
   "cell_type": "code",
   "execution_count": 17,
   "metadata": {},
   "outputs": [],
   "source": [
    "df_train.to_csv('NSL_train-set.csv')\n",
    "df_test.to_csv('NSL_test-set.csv')"
   ]
  },
  {
   "cell_type": "code",
   "execution_count": 18,
   "metadata": {},
   "outputs": [
    {
     "data": {
      "text/html": [
       "<div>\n",
       "<style scoped>\n",
       "    .dataframe tbody tr th:only-of-type {\n",
       "        vertical-align: middle;\n",
       "    }\n",
       "\n",
       "    .dataframe tbody tr th {\n",
       "        vertical-align: top;\n",
       "    }\n",
       "\n",
       "    .dataframe thead th {\n",
       "        text-align: right;\n",
       "    }\n",
       "</style>\n",
       "<table border=\"1\" class=\"dataframe\">\n",
       "  <thead>\n",
       "    <tr style=\"text-align: right;\">\n",
       "      <th></th>\n",
       "      <th>0</th>\n",
       "      <th>1</th>\n",
       "      <th>2</th>\n",
       "      <th>3</th>\n",
       "      <th>4</th>\n",
       "      <th>5</th>\n",
       "      <th>6</th>\n",
       "      <th>7</th>\n",
       "      <th>8</th>\n",
       "      <th>9</th>\n",
       "      <th>...</th>\n",
       "      <th>68</th>\n",
       "      <th>69</th>\n",
       "      <th>70</th>\n",
       "      <th>71</th>\n",
       "      <th>72</th>\n",
       "      <th>73</th>\n",
       "      <th>74</th>\n",
       "      <th>75</th>\n",
       "      <th>76</th>\n",
       "      <th>class</th>\n",
       "    </tr>\n",
       "  </thead>\n",
       "  <tbody>\n",
       "    <tr>\n",
       "      <th>0</th>\n",
       "      <td>-0.266945</td>\n",
       "      <td>-2.085498</td>\n",
       "      <td>2.70263</td>\n",
       "      <td>-0.019225</td>\n",
       "      <td>-0.312206</td>\n",
       "      <td>-0.111431</td>\n",
       "      <td>-0.028774</td>\n",
       "      <td>-0.139869</td>\n",
       "      <td>-0.608618</td>\n",
       "      <td>-0.054224</td>\n",
       "      <td>...</td>\n",
       "      <td>0.921938</td>\n",
       "      <td>0.742849</td>\n",
       "      <td>-0.384842</td>\n",
       "      <td>-0.482677</td>\n",
       "      <td>-0.290946</td>\n",
       "      <td>-0.629677</td>\n",
       "      <td>-0.614882</td>\n",
       "      <td>-0.38698</td>\n",
       "      <td>-0.375558</td>\n",
       "      <td>0</td>\n",
       "    </tr>\n",
       "    <tr>\n",
       "      <th>1</th>\n",
       "      <td>-0.266945</td>\n",
       "      <td>0.479502</td>\n",
       "      <td>-0.37001</td>\n",
       "      <td>-0.019225</td>\n",
       "      <td>-0.312206</td>\n",
       "      <td>-0.111431</td>\n",
       "      <td>-0.028774</td>\n",
       "      <td>-0.139869</td>\n",
       "      <td>-0.608618</td>\n",
       "      <td>-0.054224</td>\n",
       "      <td>...</td>\n",
       "      <td>1.246925</td>\n",
       "      <td>1.054935</td>\n",
       "      <td>-0.437850</td>\n",
       "      <td>-0.418083</td>\n",
       "      <td>-0.114220</td>\n",
       "      <td>-0.584381</td>\n",
       "      <td>-0.614882</td>\n",
       "      <td>-0.38698</td>\n",
       "      <td>-0.375558</td>\n",
       "      <td>0</td>\n",
       "    </tr>\n",
       "    <tr>\n",
       "      <th>2</th>\n",
       "      <td>-0.266945</td>\n",
       "      <td>-2.085498</td>\n",
       "      <td>2.70263</td>\n",
       "      <td>-0.019225</td>\n",
       "      <td>-0.312206</td>\n",
       "      <td>-0.111431</td>\n",
       "      <td>-0.028774</td>\n",
       "      <td>-0.139869</td>\n",
       "      <td>-0.608618</td>\n",
       "      <td>-0.054224</td>\n",
       "      <td>...</td>\n",
       "      <td>-1.046042</td>\n",
       "      <td>-1.174249</td>\n",
       "      <td>2.212533</td>\n",
       "      <td>1.713510</td>\n",
       "      <td>-0.290946</td>\n",
       "      <td>-0.629677</td>\n",
       "      <td>-0.614882</td>\n",
       "      <td>-0.38698</td>\n",
       "      <td>-0.375558</td>\n",
       "      <td>0</td>\n",
       "    </tr>\n",
       "    <tr>\n",
       "      <th>3</th>\n",
       "      <td>-0.266945</td>\n",
       "      <td>0.479502</td>\n",
       "      <td>-0.37001</td>\n",
       "      <td>-0.019225</td>\n",
       "      <td>-0.312206</td>\n",
       "      <td>-0.111431</td>\n",
       "      <td>-0.028774</td>\n",
       "      <td>-0.139869</td>\n",
       "      <td>-0.608618</td>\n",
       "      <td>18.442060</td>\n",
       "      <td>...</td>\n",
       "      <td>1.246925</td>\n",
       "      <td>1.054935</td>\n",
       "      <td>-0.437850</td>\n",
       "      <td>-0.482677</td>\n",
       "      <td>-0.290946</td>\n",
       "      <td>-0.629677</td>\n",
       "      <td>-0.614882</td>\n",
       "      <td>-0.38698</td>\n",
       "      <td>-0.375558</td>\n",
       "      <td>0</td>\n",
       "    </tr>\n",
       "    <tr>\n",
       "      <th>4</th>\n",
       "      <td>-0.266945</td>\n",
       "      <td>-2.085498</td>\n",
       "      <td>2.70263</td>\n",
       "      <td>-0.019225</td>\n",
       "      <td>-0.312206</td>\n",
       "      <td>-0.111431</td>\n",
       "      <td>-0.028774</td>\n",
       "      <td>-0.139869</td>\n",
       "      <td>-0.608618</td>\n",
       "      <td>-0.054224</td>\n",
       "      <td>...</td>\n",
       "      <td>-1.027987</td>\n",
       "      <td>-1.151957</td>\n",
       "      <td>0.675311</td>\n",
       "      <td>0.744604</td>\n",
       "      <td>-0.290946</td>\n",
       "      <td>-0.629677</td>\n",
       "      <td>-0.614882</td>\n",
       "      <td>-0.38698</td>\n",
       "      <td>-0.375558</td>\n",
       "      <td>0</td>\n",
       "    </tr>\n",
       "    <tr>\n",
       "      <th>...</th>\n",
       "      <td>...</td>\n",
       "      <td>...</td>\n",
       "      <td>...</td>\n",
       "      <td>...</td>\n",
       "      <td>...</td>\n",
       "      <td>...</td>\n",
       "      <td>...</td>\n",
       "      <td>...</td>\n",
       "      <td>...</td>\n",
       "      <td>...</td>\n",
       "      <td>...</td>\n",
       "      <td>...</td>\n",
       "      <td>...</td>\n",
       "      <td>...</td>\n",
       "      <td>...</td>\n",
       "      <td>...</td>\n",
       "      <td>...</td>\n",
       "      <td>...</td>\n",
       "      <td>...</td>\n",
       "      <td>...</td>\n",
       "      <td>...</td>\n",
       "    </tr>\n",
       "    <tr>\n",
       "      <th>114319</th>\n",
       "      <td>-0.266945</td>\n",
       "      <td>0.479502</td>\n",
       "      <td>-0.37001</td>\n",
       "      <td>-0.019225</td>\n",
       "      <td>-0.312206</td>\n",
       "      <td>-0.111431</td>\n",
       "      <td>-0.028774</td>\n",
       "      <td>-0.139869</td>\n",
       "      <td>1.643067</td>\n",
       "      <td>-0.054224</td>\n",
       "      <td>...</td>\n",
       "      <td>-1.018959</td>\n",
       "      <td>-1.129665</td>\n",
       "      <td>-0.172812</td>\n",
       "      <td>-0.482677</td>\n",
       "      <td>-0.290946</td>\n",
       "      <td>1.635128</td>\n",
       "      <td>1.645768</td>\n",
       "      <td>-0.38698</td>\n",
       "      <td>-0.375558</td>\n",
       "      <td>1</td>\n",
       "    </tr>\n",
       "    <tr>\n",
       "      <th>114320</th>\n",
       "      <td>-0.266945</td>\n",
       "      <td>0.479502</td>\n",
       "      <td>-0.37001</td>\n",
       "      <td>-0.019225</td>\n",
       "      <td>-0.312206</td>\n",
       "      <td>-0.111431</td>\n",
       "      <td>-0.028774</td>\n",
       "      <td>-0.139869</td>\n",
       "      <td>1.643067</td>\n",
       "      <td>-0.054224</td>\n",
       "      <td>...</td>\n",
       "      <td>-0.946740</td>\n",
       "      <td>-1.062789</td>\n",
       "      <td>-0.119804</td>\n",
       "      <td>-0.482677</td>\n",
       "      <td>-0.290946</td>\n",
       "      <td>1.635128</td>\n",
       "      <td>1.645768</td>\n",
       "      <td>-0.38698</td>\n",
       "      <td>-0.375558</td>\n",
       "      <td>1</td>\n",
       "    </tr>\n",
       "    <tr>\n",
       "      <th>114321</th>\n",
       "      <td>-0.266945</td>\n",
       "      <td>0.479502</td>\n",
       "      <td>-0.37001</td>\n",
       "      <td>-0.019225</td>\n",
       "      <td>-0.312206</td>\n",
       "      <td>-0.111431</td>\n",
       "      <td>-0.028774</td>\n",
       "      <td>-0.139869</td>\n",
       "      <td>1.643067</td>\n",
       "      <td>-0.054224</td>\n",
       "      <td>...</td>\n",
       "      <td>-0.937712</td>\n",
       "      <td>-1.062789</td>\n",
       "      <td>-0.066796</td>\n",
       "      <td>-0.482677</td>\n",
       "      <td>-0.290946</td>\n",
       "      <td>1.635128</td>\n",
       "      <td>1.645768</td>\n",
       "      <td>-0.38698</td>\n",
       "      <td>-0.375558</td>\n",
       "      <td>1</td>\n",
       "    </tr>\n",
       "    <tr>\n",
       "      <th>114322</th>\n",
       "      <td>-0.266945</td>\n",
       "      <td>0.479502</td>\n",
       "      <td>-0.37001</td>\n",
       "      <td>-0.019225</td>\n",
       "      <td>-0.312206</td>\n",
       "      <td>-0.111431</td>\n",
       "      <td>-0.028774</td>\n",
       "      <td>-0.139869</td>\n",
       "      <td>1.643067</td>\n",
       "      <td>-0.054224</td>\n",
       "      <td>...</td>\n",
       "      <td>-0.829383</td>\n",
       "      <td>-0.951330</td>\n",
       "      <td>-0.119804</td>\n",
       "      <td>-0.482677</td>\n",
       "      <td>-0.290946</td>\n",
       "      <td>1.635128</td>\n",
       "      <td>1.645768</td>\n",
       "      <td>-0.38698</td>\n",
       "      <td>-0.375558</td>\n",
       "      <td>1</td>\n",
       "    </tr>\n",
       "    <tr>\n",
       "      <th>114323</th>\n",
       "      <td>-0.266945</td>\n",
       "      <td>0.479502</td>\n",
       "      <td>-0.37001</td>\n",
       "      <td>-0.019225</td>\n",
       "      <td>-0.312206</td>\n",
       "      <td>-0.111431</td>\n",
       "      <td>-0.028774</td>\n",
       "      <td>-0.139869</td>\n",
       "      <td>1.643067</td>\n",
       "      <td>-0.054224</td>\n",
       "      <td>...</td>\n",
       "      <td>-0.982850</td>\n",
       "      <td>-1.107373</td>\n",
       "      <td>-0.172812</td>\n",
       "      <td>-0.482677</td>\n",
       "      <td>-0.290946</td>\n",
       "      <td>1.635128</td>\n",
       "      <td>1.645768</td>\n",
       "      <td>-0.38698</td>\n",
       "      <td>-0.375558</td>\n",
       "      <td>1</td>\n",
       "    </tr>\n",
       "  </tbody>\n",
       "</table>\n",
       "<p>114324 rows × 78 columns</p>\n",
       "</div>"
      ],
      "text/plain": [
       "               0         1        2         3         4         5         6  \\\n",
       "0      -0.266945 -2.085498  2.70263 -0.019225 -0.312206 -0.111431 -0.028774   \n",
       "1      -0.266945  0.479502 -0.37001 -0.019225 -0.312206 -0.111431 -0.028774   \n",
       "2      -0.266945 -2.085498  2.70263 -0.019225 -0.312206 -0.111431 -0.028774   \n",
       "3      -0.266945  0.479502 -0.37001 -0.019225 -0.312206 -0.111431 -0.028774   \n",
       "4      -0.266945 -2.085498  2.70263 -0.019225 -0.312206 -0.111431 -0.028774   \n",
       "...          ...       ...      ...       ...       ...       ...       ...   \n",
       "114319 -0.266945  0.479502 -0.37001 -0.019225 -0.312206 -0.111431 -0.028774   \n",
       "114320 -0.266945  0.479502 -0.37001 -0.019225 -0.312206 -0.111431 -0.028774   \n",
       "114321 -0.266945  0.479502 -0.37001 -0.019225 -0.312206 -0.111431 -0.028774   \n",
       "114322 -0.266945  0.479502 -0.37001 -0.019225 -0.312206 -0.111431 -0.028774   \n",
       "114323 -0.266945  0.479502 -0.37001 -0.019225 -0.312206 -0.111431 -0.028774   \n",
       "\n",
       "               7         8          9  ...        68        69        70  \\\n",
       "0      -0.139869 -0.608618  -0.054224  ...  0.921938  0.742849 -0.384842   \n",
       "1      -0.139869 -0.608618  -0.054224  ...  1.246925  1.054935 -0.437850   \n",
       "2      -0.139869 -0.608618  -0.054224  ... -1.046042 -1.174249  2.212533   \n",
       "3      -0.139869 -0.608618  18.442060  ...  1.246925  1.054935 -0.437850   \n",
       "4      -0.139869 -0.608618  -0.054224  ... -1.027987 -1.151957  0.675311   \n",
       "...          ...       ...        ...  ...       ...       ...       ...   \n",
       "114319 -0.139869  1.643067  -0.054224  ... -1.018959 -1.129665 -0.172812   \n",
       "114320 -0.139869  1.643067  -0.054224  ... -0.946740 -1.062789 -0.119804   \n",
       "114321 -0.139869  1.643067  -0.054224  ... -0.937712 -1.062789 -0.066796   \n",
       "114322 -0.139869  1.643067  -0.054224  ... -0.829383 -0.951330 -0.119804   \n",
       "114323 -0.139869  1.643067  -0.054224  ... -0.982850 -1.107373 -0.172812   \n",
       "\n",
       "              71        72        73        74       75        76  class  \n",
       "0      -0.482677 -0.290946 -0.629677 -0.614882 -0.38698 -0.375558      0  \n",
       "1      -0.418083 -0.114220 -0.584381 -0.614882 -0.38698 -0.375558      0  \n",
       "2       1.713510 -0.290946 -0.629677 -0.614882 -0.38698 -0.375558      0  \n",
       "3      -0.482677 -0.290946 -0.629677 -0.614882 -0.38698 -0.375558      0  \n",
       "4       0.744604 -0.290946 -0.629677 -0.614882 -0.38698 -0.375558      0  \n",
       "...          ...       ...       ...       ...      ...       ...    ...  \n",
       "114319 -0.482677 -0.290946  1.635128  1.645768 -0.38698 -0.375558      1  \n",
       "114320 -0.482677 -0.290946  1.635128  1.645768 -0.38698 -0.375558      1  \n",
       "114321 -0.482677 -0.290946  1.635128  1.645768 -0.38698 -0.375558      1  \n",
       "114322 -0.482677 -0.290946  1.635128  1.645768 -0.38698 -0.375558      1  \n",
       "114323 -0.482677 -0.290946  1.635128  1.645768 -0.38698 -0.375558      1  \n",
       "\n",
       "[114324 rows x 78 columns]"
      ]
     },
     "execution_count": 18,
     "metadata": {},
     "output_type": "execute_result"
    }
   ],
   "source": [
    "df_train"
   ]
  }
 ],
 "metadata": {
  "kernelspec": {
   "display_name": "Python 3",
   "language": "python",
   "name": "python3"
  },
  "language_info": {
   "codemirror_mode": {
    "name": "ipython",
    "version": 3
   },
   "file_extension": ".py",
   "mimetype": "text/x-python",
   "name": "python",
   "nbconvert_exporter": "python",
   "pygments_lexer": "ipython3",
   "version": "3.8.6"
  }
 },
 "nbformat": 4,
 "nbformat_minor": 4
}
