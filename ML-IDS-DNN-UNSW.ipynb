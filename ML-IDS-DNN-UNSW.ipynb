{
 "cells": [
  {
   "cell_type": "markdown",
   "metadata": {},
   "source": [
    "# DNN - UNSW"
   ]
  },
  {
   "cell_type": "code",
   "execution_count": 1,
   "metadata": {},
   "outputs": [
    {
     "name": "stdout",
     "output_type": "stream",
     "text": [
      "C:\\Users\\Sharuka Thirimanne\\Desktop\\FYP-ML-IDS\n"
     ]
    }
   ],
   "source": [
    "cd C:\\\\Users\\\\Sharuka Thirimanne\\\\Desktop\\\\FYP-ML-IDS"
   ]
  },
  {
   "cell_type": "code",
   "execution_count": 2,
   "metadata": {},
   "outputs": [
    {
     "name": "stderr",
     "output_type": "stream",
     "text": [
      "c:\\users\\sharuka thirimanne\\appdata\\local\\programs\\python\\python37\\lib\\site-packages\\tensorboard\\compat\\tensorflow_stub\\dtypes.py:541: FutureWarning: Passing (type, 1) or '1type' as a synonym of type is deprecated; in a future version of numpy, it will be understood as (type, (1,)) / '(1,)type'.\n",
      "  _np_qint8 = np.dtype([(\"qint8\", np.int8, 1)])\n",
      "c:\\users\\sharuka thirimanne\\appdata\\local\\programs\\python\\python37\\lib\\site-packages\\tensorboard\\compat\\tensorflow_stub\\dtypes.py:542: FutureWarning: Passing (type, 1) or '1type' as a synonym of type is deprecated; in a future version of numpy, it will be understood as (type, (1,)) / '(1,)type'.\n",
      "  _np_quint8 = np.dtype([(\"quint8\", np.uint8, 1)])\n",
      "c:\\users\\sharuka thirimanne\\appdata\\local\\programs\\python\\python37\\lib\\site-packages\\tensorboard\\compat\\tensorflow_stub\\dtypes.py:543: FutureWarning: Passing (type, 1) or '1type' as a synonym of type is deprecated; in a future version of numpy, it will be understood as (type, (1,)) / '(1,)type'.\n",
      "  _np_qint16 = np.dtype([(\"qint16\", np.int16, 1)])\n",
      "c:\\users\\sharuka thirimanne\\appdata\\local\\programs\\python\\python37\\lib\\site-packages\\tensorboard\\compat\\tensorflow_stub\\dtypes.py:544: FutureWarning: Passing (type, 1) or '1type' as a synonym of type is deprecated; in a future version of numpy, it will be understood as (type, (1,)) / '(1,)type'.\n",
      "  _np_quint16 = np.dtype([(\"quint16\", np.uint16, 1)])\n",
      "c:\\users\\sharuka thirimanne\\appdata\\local\\programs\\python\\python37\\lib\\site-packages\\tensorboard\\compat\\tensorflow_stub\\dtypes.py:545: FutureWarning: Passing (type, 1) or '1type' as a synonym of type is deprecated; in a future version of numpy, it will be understood as (type, (1,)) / '(1,)type'.\n",
      "  _np_qint32 = np.dtype([(\"qint32\", np.int32, 1)])\n",
      "c:\\users\\sharuka thirimanne\\appdata\\local\\programs\\python\\python37\\lib\\site-packages\\tensorboard\\compat\\tensorflow_stub\\dtypes.py:550: FutureWarning: Passing (type, 1) or '1type' as a synonym of type is deprecated; in a future version of numpy, it will be understood as (type, (1,)) / '(1,)type'.\n",
      "  np_resource = np.dtype([(\"resource\", np.ubyte, 1)])\n",
      "Using TensorFlow backend.\n"
     ]
    }
   ],
   "source": [
    "import sklearn\n",
    "import numpy as np\n",
    "import pandas as pd\n",
    "import seaborn as sns\n",
    "import tensorflow as tf\n",
    "import matplotlib as mpl\n",
    "import matplotlib.pyplot as plt\n",
    "\n",
    "from tensorflow import keras\n",
    "from keras.layers import Dense\n",
    "from keras.models import Sequential\n",
    "from sklearn.decomposition import PCA\n",
    "from tensorflow.keras import regularizers\n",
    "from tensorflow.keras import Model, layers\n",
    "from sklearn.model_selection import cross_val_score\n",
    "from sklearn.model_selection import train_test_split\n",
    "from keras.wrappers.scikit_learn import KerasClassifier\n",
    "from sklearn.model_selection import GridSearchCV\n",
    "from sklearn.utils import shuffle\n",
    "from sklearn.metrics import accuracy_score, precision_score, recall_score, classification_report, confusion_matrix,f1_score\n"
   ]
  },
  {
   "cell_type": "code",
   "execution_count": 3,
   "metadata": {},
   "outputs": [],
   "source": [
    "mpl.rcParams['figure.figsize'] = (12, 10)\n",
    "colors = plt.rcParams['axes.prop_cycle'].by_key()['color']"
   ]
  },
  {
   "cell_type": "code",
   "execution_count": 4,
   "metadata": {
    "scrolled": true
   },
   "outputs": [],
   "source": [
    "def load_train_dataset():\n",
    "    df_train = pd.read_csv('USNW_train-set.csv')\n",
    "    df_train = shuffle(df_train)\n",
    "    limit1 = df_train.shape[1]-1\n",
    "    \n",
    "    X_train = df_train.iloc[:,0:limit1]\n",
    "    Y_train = df_train.iloc[:,limit1]\n",
    "    \n",
    "    X_train.reset_index(inplace=True, drop=True)\n",
    "    Y_train.reset_index(inplace=True, drop=True)\n",
    "    \n",
    "    return  X_train, Y_train,  df_train\n",
    "\n",
    "X_train, Y_train,  df_train = load_train_dataset()"
   ]
  },
  {
   "cell_type": "code",
   "execution_count": 5,
   "metadata": {},
   "outputs": [],
   "source": [
    "def load_test_dataset():\n",
    "    df_test = pd.read_csv('USNW_test-set.csv')\n",
    "    df_test = shuffle(df_test)\n",
    "    limit2 = df_test.shape[1]-1\n",
    "    \n",
    "    X_test = df_test.iloc[:,0:limit2]\n",
    "    Y_test = df_test.iloc[:,limit2]\n",
    "    \n",
    "    X_test.reset_index(inplace=True, drop=True)\n",
    "    Y_test.reset_index(inplace=True, drop=True)\n",
    "    \n",
    "    return X_test, Y_test,df_test\n",
    "\n",
    "X_test, Y_test ,df_test = load_test_dataset()"
   ]
  },
  {
   "cell_type": "code",
   "execution_count": 6,
   "metadata": {},
   "outputs": [],
   "source": [
    "METRICS = [ \n",
    "      keras.metrics.BinaryAccuracy(name='accuracy'),\n",
    "      keras.metrics.Precision(name='precision'),\n",
    "      keras.metrics.Recall(name='recall'),\n",
    "      keras.metrics.AUC(name='auc'),\n",
    "]"
   ]
  },
  {
   "cell_type": "code",
   "execution_count": 7,
   "metadata": {},
   "outputs": [],
   "source": [
    "early_stopping = tf.keras.callbacks.EarlyStopping(\n",
    "    monitor='accuracy', \n",
    "    verbose=1,\n",
    "    patience=5,\n",
    "    mode='max',\n",
    "    min_delta = 0.0001,\n",
    "    restore_best_weights=True)"
   ]
  },
  {
   "cell_type": "code",
   "execution_count": 8,
   "metadata": {},
   "outputs": [],
   "source": [
    "def neural_network():\n",
    "    #Neural Network Model\n",
    "    model = Sequential()\n",
    "    model.add(Dense(256, input_dim=65, activation='relu',kernel_initializer='glorot_uniform',bias_initializer='zeros'))\n",
    "    model.add(Dense(256, activation='relu'))\n",
    "    model.add(Dense(256, activation='relu'))\n",
    "    model.add(Dense(256, activation='relu'))\n",
    "    model.add(Dense(256, activation='relu'))\n",
    "    model.add(Dense(256, activation='relu'))\n",
    "    model.add(Dense(256, activation='relu'))\n",
    "    model.add(Dense(256, activation='relu'))\n",
    "    model.add(Dense(256, activation='relu'))\n",
    "    model.add(Dense(256, activation='relu'))\n",
    "    model.add(Dense(256, activation='relu'))\n",
    "    model.add(Dense(256, activation='relu'))\n",
    "\n",
    "    model.add(Dense(1, activation='sigmoid'))\n",
    "\n",
    "    model.compile(loss='binary_crossentropy', optimizer='sgd', metrics = METRICS)\n",
    "    \n",
    "    return model\n"
   ]
  },
  {
   "cell_type": "code",
   "execution_count": 9,
   "metadata": {},
   "outputs": [],
   "source": [
    "model = neural_network()"
   ]
  },
  {
   "cell_type": "code",
   "execution_count": 10,
   "metadata": {},
   "outputs": [
    {
     "data": {
      "image/png": "[encoded data removed]",
      "text/plain": [
       "<IPython.core.display.Image object>"
      ]
     },
     "execution_count": 10,
     "metadata": {},
     "output_type": "execute_result"
    }
   ],
   "source": [
    "from keras.utils.vis_utils import plot_model\n",
    "plot_model(model, to_file='model_plot.png', show_shapes=True, show_layer_names=True)"
   ]
  },
  {
   "cell_type": "code",
   "execution_count": 9,
   "metadata": {
    "scrolled": true
   },
   "outputs": [
    {
     "name": "stdout",
     "output_type": "stream",
     "text": [
      "Train on 90941 samples, validate on 10105 samples\n",
      "Epoch 1/200\n",
      "90941/90941 [==============================] - 19s 206us/step - loss: 0.4089 - accuracy: 0.7485 - precision: 0.8100 - recall: 0.6239 - auc: 0.8379 - val_loss: 0.2048 - val_accuracy: 0.8433 - val_precision: 0.8343 - val_recall: 0.8457 - val_auc: 0.91630.4107 - accuracy: 0.7477 - precision: 0.8098 - recall: 0.6221 - auc: 0.8\n",
      "Epoch 2/200\n",
      "90941/90941 [==============================] - 18s 196us/step - loss: 0.2024 - accuracy: 0.8622 - precision: 0.8440 - recall: 0.8795 - auc: 0.9337 - val_loss: 0.2118 - val_accuracy: 0.8731 - val_precision: 0.8505 - val_recall: 0.8967 - val_auc: 0.9440\n",
      "Epoch 3/200\n",
      "90941/90941 [==============================] - 18s 193us/step - loss: 0.1933 - accuracy: 0.8792 - precision: 0.8551 - recall: 0.9051 - auc: 0.9496 - val_loss: 0.1975 - val_accuracy: 0.8840 - val_precision: 0.8577 - val_recall: 0.9129 - val_auc: 0.9539545 - recall: 0.903 - ETA: 3s - loss: 0.1929 - accuracy:\n",
      "Epoch 4/200\n",
      "90941/90941 [==============================] - 19s 213us/step - loss: 0.1897 - accuracy: 0.8870 - precision: 0.8595 - recall: 0.9177 - auc: 0.9567 - val_loss: 0.1890 - val_accuracy: 0.8896 - val_precision: 0.8608 - val_recall: 0.9222 - val_auc: 0.9590\n",
      "Epoch 5/200\n",
      "90941/90941 [==============================] - 17s 189us/step - loss: 0.1863 - accuracy: 0.8917 - precision: 0.8621 - recall: 0.9255 - auc: 0.9609 - val_loss: 0.2037 - val_accuracy: 0.8934 - val_precision: 0.8629 - val_recall: 0.9283 - val_auc: 0.9622\n",
      "Epoch 6/200\n",
      "90941/90941 [==============================] - 17s 188us/step - loss: 0.1844 - accuracy: 0.8948 - precision: 0.8637 - recall: 0.9304 - auc: 0.9634 - val_loss: 0.1890 - val_accuracy: 0.8959 - val_precision: 0.8643 - val_recall: 0.9324 - val_auc: 0.9644\n",
      "Epoch 7/200\n",
      "90941/90941 [==============================] - 18s 197us/step - loss: 0.1830 - accuracy: 0.8969 - precision: 0.8650 - recall: 0.9338 - auc: 0.9653 - val_loss: 0.1880 - val_accuracy: 0.8979 - val_precision: 0.8658 - val_recall: 0.9351 - val_auc: 0.9661\n",
      "Epoch 8/200\n",
      "90941/90941 [==============================] - 20s 218us/step - loss: 0.1810 - accuracy: 0.8988 - precision: 0.8664 - recall: 0.9363 - auc: 0.9668 - val_loss: 0.1852 - val_accuracy: 0.8996 - val_precision: 0.8674 - val_recall: 0.9369 - val_auc: 0.9674\n",
      "Epoch 9/200\n",
      "90941/90941 [==============================] - 18s 198us/step - loss: 0.1799 - accuracy: 0.9003 - precision: 0.8682 - recall: 0.9373 - auc: 0.9680 - val_loss: 0.1888 - val_accuracy: 0.9009 - val_precision: 0.8688 - val_recall: 0.9379 - val_auc: 0.9685\n",
      "Epoch 10/200\n",
      "90941/90941 [==============================] - 19s 210us/step - loss: 0.1788 - accuracy: 0.9016 - precision: 0.8695 - recall: 0.9384 - auc: 0.9689 - val_loss: 0.1843 - val_accuracy: 0.9021 - val_precision: 0.8702 - val_recall: 0.9387 - val_auc: 0.9693\n",
      "Epoch 11/200\n",
      "90941/90941 [==============================] - 19s 205us/step - loss: 0.1778 - accuracy: 0.9026 - precision: 0.8710 - recall: 0.9390 - auc: 0.9697 - val_loss: 0.1895 - val_accuracy: 0.9031 - val_precision: 0.8714 - val_recall: 0.9394 - val_auc: 0.9701\n",
      "Epoch 12/200\n",
      "90941/90941 [==============================] - 18s 200us/step - loss: 0.1765 - accuracy: 0.9035 - precision: 0.8719 - recall: 0.9398 - auc: 0.9704 - val_loss: 0.1834 - val_accuracy: 0.9039 - val_precision: 0.8725 - val_recall: 0.9399 - val_auc: 0.9707\n",
      "Epoch 13/200\n",
      "90941/90941 [==============================] - 20s 216us/step - loss: 0.1752 - accuracy: 0.9043 - precision: 0.8732 - recall: 0.9399 - auc: 0.9710 - val_loss: 0.1826 - val_accuracy: 0.9047 - val_precision: 0.8737 - val_recall: 0.9400 - val_auc: 0.9713\n",
      "Epoch 14/200\n",
      "90941/90941 [==============================] - 20s 218us/step - loss: 0.1751 - accuracy: 0.9050 - precision: 0.8742 - recall: 0.9401 - auc: 0.9715 - val_loss: 0.1821 - val_accuracy: 0.9054 - val_precision: 0.8747 - val_recall: 0.9402 - val_auc: 0.9718\n",
      "Epoch 15/200\n",
      "90941/90941 [==============================] - 18s 194us/step - loss: 0.1741 - accuracy: 0.9057 - precision: 0.8752 - recall: 0.9401 - auc: 0.9720 - val_loss: 0.1844 - val_accuracy: 0.9059 - val_precision: 0.8755 - val_recall: 0.9403 - val_auc: 0.9722\n",
      "Epoch 16/200\n",
      "90941/90941 [==============================] - 18s 196us/step - loss: 0.1728 - accuracy: 0.9062 - precision: 0.8760 - recall: 0.9404 - auc: 0.9724 - val_loss: 0.1826 - val_accuracy: 0.9065 - val_precision: 0.8763 - val_recall: 0.9405 - val_auc: 0.9726\n",
      "Epoch 17/200\n",
      "90941/90941 [==============================] - 17s 192us/step - loss: 0.1723 - accuracy: 0.9067 - precision: 0.8767 - recall: 0.9406 - auc: 0.9728 - val_loss: 0.1861 - val_accuracy: 0.9070 - val_precision: 0.8770 - val_recall: 0.9407 - val_auc: 0.9730\n",
      "Epoch 18/200\n",
      "90941/90941 [==============================] - 17s 184us/step - loss: 0.1716 - accuracy: 0.9072 - precision: 0.8774 - recall: 0.9408 - auc: 0.9731 - val_loss: 0.1812 - val_accuracy: 0.9074 - val_precision: 0.8777 - val_recall: 0.9408 - val_auc: 0.9733\n",
      "Epoch 19/200\n",
      "90941/90941 [==============================] - 18s 201us/step - loss: 0.1706 - accuracy: 0.9077 - precision: 0.8782 - recall: 0.9407 - auc: 0.9735 - val_loss: 0.1829 - val_accuracy: 0.9079 - val_precision: 0.8785 - val_recall: 0.9408 - val_auc: 0.9736\n",
      "Epoch 20/200\n",
      "90941/90941 [==============================] - 22s 245us/step - loss: 0.1701 - accuracy: 0.9082 - precision: 0.8789 - recall: 0.9408 - auc: 0.9738 - val_loss: 0.1822 - val_accuracy: 0.9084 - val_precision: 0.8793 - val_recall: 0.9408 - val_auc: 0.9739\n",
      "Epoch 21/200\n",
      "90941/90941 [==============================] - 19s 205us/step - loss: 0.1691 - accuracy: 0.9086 - precision: 0.8796 - recall: 0.9409 - auc: 0.9741 - val_loss: 0.1854 - val_accuracy: 0.9088 - val_precision: 0.8799 - val_recall: 0.9408 - val_auc: 0.9742\n",
      "Epoch 22/200\n",
      "90941/90941 [==============================] - 17s 192us/step - loss: 0.1689 - accuracy: 0.9089 - precision: 0.8803 - recall: 0.9407 - auc: 0.9743 - val_loss: 0.1833 - val_accuracy: 0.9091 - val_precision: 0.8806 - val_recall: 0.9406 - val_auc: 0.9744\n",
      "Epoch 23/200\n",
      "90941/90941 [==============================] - 18s 197us/step - loss: 0.1682 - accuracy: 0.9093 - precision: 0.8810 - recall: 0.9405 - auc: 0.9746 - val_loss: 0.1797 - val_accuracy: 0.9094 - val_precision: 0.8813 - val_recall: 0.9404 - val_auc: 0.9747\n",
      "Epoch 24/200\n",
      "90941/90941 [==============================] - 17s 184us/step - loss: 0.1680 - accuracy: 0.9096 - precision: 0.8817 - recall: 0.9404 - auc: 0.9748 - val_loss: 0.1817 - val_accuracy: 0.9097 - val_precision: 0.8820 - val_recall: 0.9403 - val_auc: 0.9749\n",
      "Epoch 25/200\n",
      "90941/90941 [==============================] - 19s 205us/step - loss: 0.1673 - accuracy: 0.9099 - precision: 0.8823 - recall: 0.9402 - auc: 0.9750 - val_loss: 0.1792 - val_accuracy: 0.9101 - val_precision: 0.8826 - val_recall: 0.9402 - val_auc: 0.9751\n",
      "Epoch 26/200\n",
      "90941/90941 [==============================] - 18s 199us/step - loss: 0.1660 - accuracy: 0.9102 - precision: 0.8829 - recall: 0.9402 - auc: 0.9752 - val_loss: 0.1811 - val_accuracy: 0.9104 - val_precision: 0.8831 - val_recall: 0.9402 - val_auc: 0.9753\n",
      "Epoch 27/200\n",
      "90941/90941 [==============================] - 19s 204us/step - loss: 0.1663 - accuracy: 0.9105 - precision: 0.8834 - recall: 0.9403 - auc: 0.9754 - val_loss: 0.1853 - val_accuracy: 0.9106 - val_precision: 0.8836 - val_recall: 0.9401 - val_auc: 0.9755\n",
      "Epoch 28/200\n",
      "90941/90941 [==============================] - 17s 183us/step - loss: 0.1650 - accuracy: 0.9108 - precision: 0.8839 - recall: 0.9400 - auc: 0.9756 - val_loss: 0.1789 - val_accuracy: 0.9109 - val_precision: 0.8842 - val_recall: 0.9400 - val_auc: 0.9757\n",
      "Epoch 29/200\n",
      "90941/90941 [==============================] - 17s 182us/step - loss: 0.1645 - accuracy: 0.9111 - precision: 0.8844 - recall: 0.9400 - auc: 0.9758 - val_loss: 0.1884 - val_accuracy: 0.9112 - val_precision: 0.8847 - val_recall: 0.9399 - val_auc: 0.9759\n",
      "Epoch 30/200\n",
      "90941/90941 [==============================] - 16s 181us/step - loss: 0.1641 - accuracy: 0.9113 - precision: 0.8850 - recall: 0.9398 - auc: 0.9760 - val_loss: 0.1774 - val_accuracy: 0.9114 - val_precision: 0.8853 - val_recall: 0.9398 - val_auc: 0.9760\n",
      "Epoch 31/200\n",
      "90941/90941 [==============================] - 16s 180us/step - loss: 0.1637 - accuracy: 0.9116 - precision: 0.8855 - recall: 0.9397 - auc: 0.9761 - val_loss: 0.1799 - val_accuracy: 0.9117 - val_precision: 0.8857 - val_recall: 0.9397 - val_auc: 0.9762\n",
      "Epoch 32/200\n",
      "90941/90941 [==============================] - 16s 181us/step - loss: 0.1627 - accuracy: 0.9118 - precision: 0.8860 - recall: 0.9397 - auc: 0.9763 - val_loss: 0.1786 - val_accuracy: 0.9120 - val_precision: 0.8862 - val_recall: 0.9396 - val_auc: 0.9764\n",
      "Epoch 33/200\n",
      "90941/90941 [==============================] - 16s 178us/step - loss: 0.1628 - accuracy: 0.9121 - precision: 0.8865 - recall: 0.9396 - auc: 0.9764 - val_loss: 0.1924 - val_accuracy: 0.9122 - val_precision: 0.8866 - val_recall: 0.9397 - val_auc: 0.9765\n",
      "Epoch 34/200\n",
      "90941/90941 [==============================] - 17s 183us/step - loss: 0.1623 - accuracy: 0.9123 - precision: 0.8868 - recall: 0.9397 - auc: 0.9766 - val_loss: 0.1801 - val_accuracy: 0.9124 - val_precision: 0.8870 - val_recall: 0.9396 - val_auc: 0.9767\n",
      "Epoch 35/200\n",
      "90941/90941 [==============================] - 16s 181us/step - loss: 0.1619 - accuracy: 0.9125 - precision: 0.8873 - recall: 0.9396 - auc: 0.9767 - val_loss: 0.1796 - val_accuracy: 0.9126 - val_precision: 0.8874 - val_recall: 0.9395 - val_auc: 0.9768\n",
      "Epoch 36/200\n",
      "90941/90941 [==============================] - 17s 183us/step - loss: 0.1614 - accuracy: 0.9127 - precision: 0.8877 - recall: 0.9396 - auc: 0.9769 - val_loss: 0.1808 - val_accuracy: 0.9128 - val_precision: 0.8879 - val_recall: 0.9395 - val_auc: 0.9769\n",
      "Epoch 37/200\n",
      "90941/90941 [==============================] - 16s 181us/step - loss: 0.1607 - accuracy: 0.9130 - precision: 0.8881 - recall: 0.9395 - auc: 0.9770 - val_loss: 0.1942 - val_accuracy: 0.9130 - val_precision: 0.8883 - val_recall: 0.9393 - val_auc: 0.9771\n",
      "Epoch 38/200\n",
      "90941/90941 [==============================] - 16s 180us/step - loss: 0.1605 - accuracy: 0.9131 - precision: 0.8885 - recall: 0.9393 - auc: 0.9771 - val_loss: 0.1824 - val_accuracy: 0.9132 - val_precision: 0.8888 - val_recall: 0.9392 - val_auc: 0.9772\n",
      "Epoch 39/200\n",
      "90941/90941 [==============================] - 17s 188us/step - loss: 0.1596 - accuracy: 0.9133 - precision: 0.8890 - recall: 0.9391 - auc: 0.9772 - val_loss: 0.1806 - val_accuracy: 0.9134 - val_precision: 0.8892 - val_recall: 0.9391 - val_auc: 0.97730.1598 - accuracy: 0.91\n",
      "Epoch 40/200\n",
      "90941/90941 [==============================] - 18s 202us/step - loss: 0.1593 - accuracy: 0.9135 - precision: 0.8894 - recall: 0.9391 - auc: 0.9774 - val_loss: 0.1803 - val_accuracy: 0.9136 - val_precision: 0.8895 - val_recall: 0.9391 - val_auc: 0.9774\n",
      "Epoch 41/200\n",
      "90941/90941 [==============================] - 18s 196us/step - loss: 0.1592 - accuracy: 0.9137 - precision: 0.8897 - recall: 0.9391 - auc: 0.9775 - val_loss: 0.1845 - val_accuracy: 0.9138 - val_precision: 0.8899 - val_recall: 0.9390 - val_auc: 0.9775\n",
      "Epoch 42/200\n",
      "90941/90941 [==============================] - 17s 186us/step - loss: 0.1586 - accuracy: 0.9139 - precision: 0.8901 - recall: 0.9390 - auc: 0.9776 - val_loss: 0.1792 - val_accuracy: 0.9140 - val_precision: 0.8903 - val_recall: 0.9389 - val_auc: 0.9776\n",
      "Epoch 43/200\n",
      "90941/90941 [==============================] - 15s 167us/step - loss: 0.1583 - accuracy: 0.9141 - precision: 0.8905 - recall: 0.9390 - auc: 0.9777 - val_loss: 0.1823 - val_accuracy: 0.9142 - val_precision: 0.8906 - val_recall: 0.9389 - val_auc: 0.9778\n",
      "Epoch 44/200\n",
      "90941/90941 [==============================] - 14s 152us/step - loss: 0.1577 - accuracy: 0.9143 - precision: 0.8908 - recall: 0.9389 - auc: 0.9778 - val_loss: 0.1773 - val_accuracy: 0.9144 - val_precision: 0.8910 - val_recall: 0.9389 - val_auc: 0.9779\n",
      "Epoch 45/200\n",
      "90941/90941 [==============================] - 15s 160us/step - loss: 0.1567 - accuracy: 0.9145 - precision: 0.8911 - recall: 0.9388 - auc: 0.9779 - val_loss: 0.1954 - val_accuracy: 0.9146 - val_precision: 0.8913 - val_recall: 0.9389 - val_auc: 0.9780\n",
      "Epoch 46/200\n",
      "90941/90941 [==============================] - 14s 152us/step - loss: 0.1565 - accuracy: 0.9146 - precision: 0.8914 - recall: 0.9389 - auc: 0.9780 - val_loss: 0.1855 - val_accuracy: 0.9147 - val_precision: 0.8915 - val_recall: 0.9389 - val_auc: 0.9781\n",
      "Epoch 47/200\n",
      "90941/90941 [==============================] - 13s 143us/step - loss: 0.1561 - accuracy: 0.9148 - precision: 0.8917 - recall: 0.9390 - auc: 0.9781 - val_loss: 0.1801 - val_accuracy: 0.9149 - val_precision: 0.8918 - val_recall: 0.9389 - val_auc: 0.9782\n",
      "Epoch 48/200\n",
      "90941/90941 [==============================] - 13s 138us/step - loss: 0.1555 - accuracy: 0.9150 - precision: 0.8920 - recall: 0.9389 - auc: 0.9782 - val_loss: 0.1860 - val_accuracy: 0.9151 - val_precision: 0.8922 - val_recall: 0.9388 - val_auc: 0.9783\n",
      "Epoch 49/200\n",
      "90941/90941 [==============================] - 14s 150us/step - loss: 0.1555 - accuracy: 0.9152 - precision: 0.8924 - recall: 0.9388 - auc: 0.9783 - val_loss: 0.1788 - val_accuracy: 0.9152 - val_precision: 0.8925 - val_recall: 0.9388 - val_auc: 0.9784\n",
      "Epoch 50/200\n",
      "90941/90941 [==============================] - 13s 139us/step - loss: 0.1550 - accuracy: 0.9153 - precision: 0.8927 - recall: 0.9388 - auc: 0.9784 - val_loss: 0.1796 - val_accuracy: 0.9154 - val_precision: 0.8929 - val_recall: 0.9387 - val_auc: 0.9785\n",
      "Epoch 51/200\n",
      "90941/90941 [==============================] - 14s 149us/step - loss: 0.1543 - accuracy: 0.9155 - precision: 0.8930 - recall: 0.9387 - auc: 0.9785 - val_loss: 0.1837 - val_accuracy: 0.9156 - val_precision: 0.8932 - val_recall: 0.9387 - val_auc: 0.9786\n",
      "Epoch 52/200\n",
      "90941/90941 [==============================] - 13s 146us/step - loss: 0.1544 - accuracy: 0.9157 - precision: 0.8933 - recall: 0.9387 - auc: 0.9786 - val_loss: 0.1843 - val_accuracy: 0.9157 - val_precision: 0.8935 - val_recall: 0.9387 - val_auc: 0.9786\n",
      "Epoch 53/200\n",
      "90941/90941 [==============================] - 15s 161us/step - loss: 0.1534 - accuracy: 0.9158 - precision: 0.8936 - recall: 0.9387 - auc: 0.9787 - val_loss: 0.1830 - val_accuracy: 0.9159 - val_precision: 0.8938 - val_recall: 0.9387 - val_auc: 0.9787\n",
      "Epoch 54/200\n",
      "90941/90941 [==============================] - 14s 156us/step - loss: 0.1532 - accuracy: 0.9160 - precision: 0.8939 - recall: 0.9387 - auc: 0.9788 - val_loss: 0.1953 - val_accuracy: 0.9160 - val_precision: 0.8940 - val_recall: 0.9387 - val_auc: 0.9788\n",
      "Epoch 55/200\n",
      "90941/90941 [==============================] - 14s 157us/step - loss: 0.1528 - accuracy: 0.9161 - precision: 0.8941 - recall: 0.9387 - auc: 0.9789 - val_loss: 0.1779 - val_accuracy: 0.9162 - val_precision: 0.8943 - val_recall: 0.9387 - val_auc: 0.9789\n",
      "Epoch 56/200\n",
      "90941/90941 [==============================] - 13s 146us/step - loss: 0.1524 - accuracy: 0.9163 - precision: 0.8944 - recall: 0.9387 - auc: 0.9789 - val_loss: 0.1776 - val_accuracy: 0.9164 - val_precision: 0.8945 - val_recall: 0.9387 - val_auc: 0.9790\n",
      "Epoch 57/200\n",
      "90941/90941 [==============================] - 13s 145us/step - loss: 0.1516 - accuracy: 0.9165 - precision: 0.8947 - recall: 0.9388 - auc: 0.9790 - val_loss: 0.1882 - val_accuracy: 0.9165 - val_precision: 0.8948 - val_recall: 0.9388 - val_auc: 0.9791\n",
      "Epoch 58/200\n",
      "90941/90941 [==============================] - 13s 140us/step - loss: 0.1512 - accuracy: 0.9166 - precision: 0.8949 - recall: 0.9388 - auc: 0.9791 - val_loss: 0.1843 - val_accuracy: 0.9167 - val_precision: 0.8951 - val_recall: 0.9388 - val_auc: 0.9792\n",
      "Epoch 59/200\n",
      "90941/90941 [==============================] - 13s 145us/step - loss: 0.1510 - accuracy: 0.9168 - precision: 0.8952 - recall: 0.9388 - auc: 0.9792 - val_loss: 0.1834 - val_accuracy: 0.9168 - val_precision: 0.8953 - val_recall: 0.9388 - val_auc: 0.9792\n",
      "Epoch 60/200\n",
      "90941/90941 [==============================] - 13s 138us/step - loss: 0.1507 - accuracy: 0.9169 - precision: 0.8954 - recall: 0.9388 - auc: 0.9793 - val_loss: 0.1791 - val_accuracy: 0.9170 - val_precision: 0.8956 - val_recall: 0.9388 - val_auc: 0.9793\n",
      "Epoch 61/200\n",
      "90941/90941 [==============================] - 15s 165us/step - loss: 0.1502 - accuracy: 0.9171 - precision: 0.8957 - recall: 0.9388 - auc: 0.9794 - val_loss: 0.1860 - val_accuracy: 0.9171 - val_precision: 0.8958 - val_recall: 0.9388 - val_auc: 0.9794\n"
     ]
    },
    {
     "name": "stdout",
     "output_type": "stream",
     "text": [
      "Epoch 62/200\n",
      "90941/90941 [==============================] - 15s 165us/step - loss: 0.1498 - accuracy: 0.9172 - precision: 0.8960 - recall: 0.9388 - auc: 0.9794 - val_loss: 0.1830 - val_accuracy: 0.9173 - val_precision: 0.8961 - val_recall: 0.9387 - val_auc: 0.9795\n",
      "Epoch 63/200\n",
      "90941/90941 [==============================] - 13s 146us/step - loss: 0.1496 - accuracy: 0.9173 - precision: 0.8963 - recall: 0.9388 - auc: 0.9795 - val_loss: 0.1882 - val_accuracy: 0.9174 - val_precision: 0.8964 - val_recall: 0.9388 - val_auc: 0.9796\n",
      "Epoch 64/200\n",
      "90941/90941 [==============================] - 14s 154us/step - loss: 0.1489 - accuracy: 0.9175 - precision: 0.8965 - recall: 0.9388 - auc: 0.9796 - val_loss: 0.1818 - val_accuracy: 0.9176 - val_precision: 0.8966 - val_recall: 0.9388 - val_auc: 0.9796\n",
      "Epoch 65/200\n",
      "90941/90941 [==============================] - 13s 143us/step - loss: 0.1486 - accuracy: 0.9176 - precision: 0.8967 - recall: 0.9389 - auc: 0.9797 - val_loss: 0.1776 - val_accuracy: 0.9177 - val_precision: 0.8968 - val_recall: 0.9389 - val_auc: 0.9797\n",
      "Epoch 66/200\n",
      "90941/90941 [==============================] - 13s 142us/step - loss: 0.1475 - accuracy: 0.9178 - precision: 0.8969 - recall: 0.9388 - auc: 0.9797 - val_loss: 0.1793 - val_accuracy: 0.9178 - val_precision: 0.8970 - val_recall: 0.9389 - val_auc: 0.9798\n",
      "Epoch 67/200\n",
      "90941/90941 [==============================] - 13s 146us/step - loss: 0.1473 - accuracy: 0.9179 - precision: 0.8971 - recall: 0.9389 - auc: 0.9798 - val_loss: 0.1846 - val_accuracy: 0.9180 - val_precision: 0.8973 - val_recall: 0.9389 - val_auc: 0.9799\n",
      "Epoch 68/200\n",
      "90941/90941 [==============================] - 12s 137us/step - loss: 0.1465 - accuracy: 0.9181 - precision: 0.8974 - recall: 0.9389 - auc: 0.9799 - val_loss: 0.1853 - val_accuracy: 0.9181 - val_precision: 0.8975 - val_recall: 0.9389 - val_auc: 0.9799\n",
      "Epoch 69/200\n",
      "90941/90941 [==============================] - 14s 158us/step - loss: 0.1465 - accuracy: 0.9182 - precision: 0.8976 - recall: 0.9389 - auc: 0.9800 - val_loss: 0.1847 - val_accuracy: 0.9183 - val_precision: 0.8977 - val_recall: 0.9389 - val_auc: 0.9800\n",
      "Epoch 70/200\n",
      "90941/90941 [==============================] - 13s 146us/step - loss: 0.1462 - accuracy: 0.9183 - precision: 0.8978 - recall: 0.9390 - auc: 0.9800 - val_loss: 0.1826 - val_accuracy: 0.9184 - val_precision: 0.8979 - val_recall: 0.9390 - val_auc: 0.9801\n",
      "Epoch 71/200\n",
      "90941/90941 [==============================] - 13s 139us/step - loss: 0.1454 - accuracy: 0.9185 - precision: 0.8981 - recall: 0.9390 - auc: 0.9801 - val_loss: 0.1827 - val_accuracy: 0.9185 - val_precision: 0.8982 - val_recall: 0.9390 - val_auc: 0.9801\n",
      "Epoch 72/200\n",
      "90941/90941 [==============================] - 13s 147us/step - loss: 0.1452 - accuracy: 0.9186 - precision: 0.8983 - recall: 0.9390 - auc: 0.9802 - val_loss: 0.1847 - val_accuracy: 0.9186 - val_precision: 0.8984 - val_recall: 0.9390 - val_auc: 0.9802\n",
      "Epoch 73/200\n",
      "90941/90941 [==============================] - 13s 148us/step - loss: 0.1451 - accuracy: 0.9187 - precision: 0.8985 - recall: 0.9390 - auc: 0.9802 - val_loss: 0.1859 - val_accuracy: 0.9188 - val_precision: 0.8986 - val_recall: 0.9390 - val_auc: 0.9803\n",
      "Epoch 74/200\n",
      "90941/90941 [==============================] - 13s 144us/step - loss: 0.1444 - accuracy: 0.9189 - precision: 0.8987 - recall: 0.9391 - auc: 0.9803 - val_loss: 0.1856 - val_accuracy: 0.9189 - val_precision: 0.8988 - val_recall: 0.9391 - val_auc: 0.9804\n",
      "Epoch 75/200\n",
      "90941/90941 [==============================] - 13s 138us/step - loss: 0.1442 - accuracy: 0.9190 - precision: 0.8989 - recall: 0.9391 - auc: 0.9804 - val_loss: 0.1819 - val_accuracy: 0.9191 - val_precision: 0.8990 - val_recall: 0.9391 - val_auc: 0.9804\n",
      "Epoch 76/200\n",
      "90941/90941 [==============================] - 13s 138us/step - loss: 0.1440 - accuracy: 0.9191 - precision: 0.8991 - recall: 0.9391 - auc: 0.9805 - val_loss: 0.1890 - val_accuracy: 0.9192 - val_precision: 0.8992 - val_recall: 0.9392 - val_auc: 0.9805\n",
      "Epoch 77/200\n",
      "90941/90941 [==============================] - 13s 139us/step - loss: 0.1429 - accuracy: 0.9193 - precision: 0.8993 - recall: 0.9392 - auc: 0.9805 - val_loss: 0.2187 - val_accuracy: 0.9193 - val_precision: 0.8994 - val_recall: 0.9392 - val_auc: 0.9805\n",
      "Epoch 78/200\n",
      "90941/90941 [==============================] - 13s 141us/step - loss: 0.1421 - accuracy: 0.9194 - precision: 0.8995 - recall: 0.9393 - auc: 0.9806 - val_loss: 0.1879 - val_accuracy: 0.9195 - val_precision: 0.8996 - val_recall: 0.9393 - val_auc: 0.9806\n",
      "Epoch 79/200\n",
      "90941/90941 [==============================] - 13s 147us/step - loss: 0.1420 - accuracy: 0.9195 - precision: 0.8997 - recall: 0.9393 - auc: 0.9807 - val_loss: 0.1897 - val_accuracy: 0.9196 - val_precision: 0.8998 - val_recall: 0.9393 - val_auc: 0.9807\n",
      "Epoch 80/200\n",
      "90941/90941 [==============================] - 14s 158us/step - loss: 0.1417 - accuracy: 0.9196 - precision: 0.8998 - recall: 0.9394 - auc: 0.9807 - val_loss: 0.1966 - val_accuracy: 0.9197 - val_precision: 0.9000 - val_recall: 0.9394 - val_auc: 0.9807\n",
      "Epoch 81/200\n",
      "90941/90941 [==============================] - 13s 138us/step - loss: 0.1411 - accuracy: 0.9198 - precision: 0.9001 - recall: 0.9393 - auc: 0.9808 - val_loss: 0.1854 - val_accuracy: 0.9198 - val_precision: 0.9002 - val_recall: 0.9394 - val_auc: 0.9808\n",
      "Epoch 82/200\n",
      "90941/90941 [==============================] - 14s 154us/step - loss: 0.1408 - accuracy: 0.9199 - precision: 0.9003 - recall: 0.9394 - auc: 0.9808 - val_loss: 0.2019 - val_accuracy: 0.9200 - val_precision: 0.9004 - val_recall: 0.9394 - val_auc: 0.9809\n",
      "Epoch 83/200\n",
      "90941/90941 [==============================] - 13s 147us/step - loss: 0.1407 - accuracy: 0.9200 - precision: 0.9005 - recall: 0.9394 - auc: 0.9809 - val_loss: 0.1862 - val_accuracy: 0.9201 - val_precision: 0.9006 - val_recall: 0.9395 - val_auc: 0.9809\n",
      "Epoch 84/200\n",
      "90941/90941 [==============================] - 13s 138us/step - loss: 0.1401 - accuracy: 0.9202 - precision: 0.9007 - recall: 0.9395 - auc: 0.9810 - val_loss: 0.1896 - val_accuracy: 0.9202 - val_precision: 0.9008 - val_recall: 0.9395 - val_auc: 0.9810\n",
      "Epoch 85/200\n",
      "90941/90941 [==============================] - 13s 139us/step - loss: 0.1397 - accuracy: 0.9203 - precision: 0.9009 - recall: 0.9395 - auc: 0.9810 - val_loss: 0.1856 - val_accuracy: 0.9203 - val_precision: 0.9010 - val_recall: 0.9395 - val_auc: 0.9811\n",
      "Epoch 86/200\n",
      "90941/90941 [==============================] - 13s 141us/step - loss: 0.1390 - accuracy: 0.9204 - precision: 0.9011 - recall: 0.9395 - auc: 0.9811 - val_loss: 0.1883 - val_accuracy: 0.9205 - val_precision: 0.9012 - val_recall: 0.9396 - val_auc: 0.9811\n",
      "Epoch 87/200\n",
      "90941/90941 [==============================] - 13s 147us/step - loss: 0.1385 - accuracy: 0.9205 - precision: 0.9013 - recall: 0.9396 - auc: 0.9812 - val_loss: 0.1922 - val_accuracy: 0.9206 - val_precision: 0.9014 - val_recall: 0.9396 - val_auc: 0.9812\n",
      "Epoch 88/200\n",
      "90941/90941 [==============================] - 13s 143us/step - loss: 0.1377 - accuracy: 0.9207 - precision: 0.9015 - recall: 0.9396 - auc: 0.9812 - val_loss: 0.1866 - val_accuracy: 0.9207 - val_precision: 0.9016 - val_recall: 0.9396 - val_auc: 0.9812\n",
      "Epoch 89/200\n",
      "90941/90941 [==============================] - 15s 161us/step - loss: 0.1376 - accuracy: 0.9208 - precision: 0.9017 - recall: 0.9396 - auc: 0.9813 - val_loss: 0.1916 - val_accuracy: 0.9209 - val_precision: 0.9018 - val_recall: 0.9397 - val_auc: 0.9813\n",
      "Epoch 90/200\n",
      "90941/90941 [==============================] - 13s 139us/step - loss: 0.1369 - accuracy: 0.9209 - precision: 0.9019 - recall: 0.9397 - auc: 0.9813 - val_loss: 0.1965 - val_accuracy: 0.9210 - val_precision: 0.9020 - val_recall: 0.9397 - val_auc: 0.9814\n",
      "Epoch 91/200\n",
      "90941/90941 [==============================] - 13s 141us/step - loss: 0.1368 - accuracy: 0.9211 - precision: 0.9021 - recall: 0.9397 - auc: 0.9814 - val_loss: 0.1897 - val_accuracy: 0.9211 - val_precision: 0.9022 - val_recall: 0.9397 - val_auc: 0.9814\n",
      "Epoch 92/200\n",
      "90941/90941 [==============================] - 15s 164us/step - loss: 0.1358 - accuracy: 0.9212 - precision: 0.9023 - recall: 0.9398 - auc: 0.9814 - val_loss: 0.1884 - val_accuracy: 0.9213 - val_precision: 0.9024 - val_recall: 0.9398 - val_auc: 0.9815\n"
     ]
    },
    {
     "name": "stdout",
     "output_type": "stream",
     "text": [
      "Epoch 93/200\n",
      "90941/90941 [==============================] - 15s 164us/step - loss: 0.1355 - accuracy: 0.9213 - precision: 0.9025 - recall: 0.9398 - auc: 0.9815 - val_loss: 0.1848 - val_accuracy: 0.9214 - val_precision: 0.9026 - val_recall: 0.9398 - val_auc: 0.9815\n",
      "Epoch 94/200\n",
      "90941/90941 [==============================] - 13s 145us/step - loss: 0.1347 - accuracy: 0.9214 - precision: 0.9027 - recall: 0.9398 - auc: 0.9816 - val_loss: 0.2045 - val_accuracy: 0.9215 - val_precision: 0.9028 - val_recall: 0.9398 - val_auc: 0.9816\n",
      "Epoch 95/200\n",
      "90941/90941 [==============================] - 15s 166us/step - loss: 0.1349 - accuracy: 0.9216 - precision: 0.9029 - recall: 0.9398 - auc: 0.9816 - val_loss: 0.1975 - val_accuracy: 0.9216 - val_precision: 0.9030 - val_recall: 0.9399 - val_auc: 0.9817\n",
      "Epoch 96/200\n",
      "90941/90941 [==============================] - 14s 151us/step - loss: 0.1343 - accuracy: 0.9217 - precision: 0.9031 - recall: 0.9399 - auc: 0.9817 - val_loss: 0.1937 - val_accuracy: 0.9218 - val_precision: 0.9032 - val_recall: 0.9399 - val_auc: 0.9817\n",
      "Epoch 97/200\n",
      "90941/90941 [==============================] - 14s 149us/step - loss: 0.1333 - accuracy: 0.9218 - precision: 0.9033 - recall: 0.9400 - auc: 0.9818 - val_loss: 0.1971 - val_accuracy: 0.9219 - val_precision: 0.9034 - val_recall: 0.9400 - val_auc: 0.9818\n",
      "Epoch 98/200\n",
      "90941/90941 [==============================] - 13s 138us/step - loss: 0.1334 - accuracy: 0.9219 - precision: 0.9035 - recall: 0.9400 - auc: 0.9818 - val_loss: 0.1881 - val_accuracy: 0.9220 - val_precision: 0.9036 - val_recall: 0.9400 - val_auc: 0.9818\n",
      "Epoch 99/200\n",
      "90941/90941 [==============================] - 13s 139us/step - loss: 0.1331 - accuracy: 0.9221 - precision: 0.9036 - recall: 0.9401 - auc: 0.9819 - val_loss: 0.1964 - val_accuracy: 0.9221 - val_precision: 0.9037 - val_recall: 0.9401 - val_auc: 0.9819\n",
      "Epoch 100/200\n",
      "90941/90941 [==============================] - 15s 167us/step - loss: 0.1319 - accuracy: 0.9222 - precision: 0.9038 - recall: 0.9401 - auc: 0.9819 - val_loss: 0.1976 - val_accuracy: 0.9223 - val_precision: 0.9039 - val_recall: 0.9401 - val_auc: 0.9820\n",
      "Epoch 101/200\n",
      "90941/90941 [==============================] - 13s 141us/step - loss: 0.1313 - accuracy: 0.9223 - precision: 0.9040 - recall: 0.9401 - auc: 0.9820 - val_loss: 0.1986 - val_accuracy: 0.9224 - val_precision: 0.9041 - val_recall: 0.9402 - val_auc: 0.9820\n",
      "Epoch 102/200\n",
      "90941/90941 [==============================] - 13s 140us/step - loss: 0.1316 - accuracy: 0.9224 - precision: 0.9042 - recall: 0.9402 - auc: 0.9820 - val_loss: 0.1931 - val_accuracy: 0.9225 - val_precision: 0.9043 - val_recall: 0.9402 - val_auc: 0.9821\n",
      "Epoch 103/200\n",
      "90941/90941 [==============================] - 14s 150us/step - loss: 0.1322 - accuracy: 0.9226 - precision: 0.9044 - recall: 0.9403 - auc: 0.9821 - val_loss: 0.1926 - val_accuracy: 0.9226 - val_precision: 0.9045 - val_recall: 0.9403 - val_auc: 0.9821\n",
      "Epoch 104/200\n",
      "90941/90941 [==============================] - 13s 140us/step - loss: 0.1305 - accuracy: 0.9227 - precision: 0.9046 - recall: 0.9403 - auc: 0.9822 - val_loss: 0.2016 - val_accuracy: 0.9228 - val_precision: 0.9046 - val_recall: 0.9403 - val_auc: 0.9822\n",
      "Epoch 105/200\n",
      "90941/90941 [==============================] - 15s 167us/step - loss: 0.1311 - accuracy: 0.9228 - precision: 0.9047 - recall: 0.9403 - auc: 0.9822 - val_loss: 0.1931 - val_accuracy: 0.9229 - val_precision: 0.9048 - val_recall: 0.9404 - val_auc: 0.9822\n",
      "Epoch 106/200\n",
      "90941/90941 [==============================] - 13s 140us/step - loss: 0.1288 - accuracy: 0.9229 - precision: 0.9049 - recall: 0.9404 - auc: 0.9823 - val_loss: 0.1970 - val_accuracy: 0.9230 - val_precision: 0.9050 - val_recall: 0.9404 - val_auc: 0.9823\n",
      "Epoch 107/200\n",
      "90941/90941 [==============================] - 13s 139us/step - loss: 0.1290 - accuracy: 0.9231 - precision: 0.9051 - recall: 0.9405 - auc: 0.9823 - val_loss: 0.2062 - val_accuracy: 0.9231 - val_precision: 0.9052 - val_recall: 0.9405 - val_auc: 0.9824\n",
      "Epoch 108/200\n",
      "90941/90941 [==============================] - 13s 138us/step - loss: 0.1284 - accuracy: 0.9232 - precision: 0.9053 - recall: 0.9405 - auc: 0.9824 - val_loss: 0.2040 - val_accuracy: 0.9233 - val_precision: 0.9054 - val_recall: 0.9406 - val_auc: 0.9824\n",
      "Epoch 109/200\n",
      "90941/90941 [==============================] - 13s 141us/step - loss: 0.1281 - accuracy: 0.9233 - precision: 0.9055 - recall: 0.9406 - auc: 0.9824 - val_loss: 0.1978 - val_accuracy: 0.9234 - val_precision: 0.9055 - val_recall: 0.9406 - val_auc: 0.9825\n",
      "Epoch 110/200\n",
      "90941/90941 [==============================] - 13s 138us/step - loss: 0.1277 - accuracy: 0.9234 - precision: 0.9056 - recall: 0.9407 - auc: 0.9825 - val_loss: 0.1936 - val_accuracy: 0.9235 - val_precision: 0.9057 - val_recall: 0.9407 - val_auc: 0.9825\n",
      "Epoch 111/200\n",
      "90941/90941 [==============================] - 13s 140us/step - loss: 0.1283 - accuracy: 0.9236 - precision: 0.9058 - recall: 0.9407 - auc: 0.9825 - val_loss: 0.2112 - val_accuracy: 0.9236 - val_precision: 0.9059 - val_recall: 0.9408 - val_auc: 0.9826\n",
      "Epoch 112/200\n",
      "90941/90941 [==============================] - 13s 147us/step - loss: 0.1261 - accuracy: 0.9237 - precision: 0.9060 - recall: 0.9408 - auc: 0.9826 - val_loss: 0.2059 - val_accuracy: 0.9237 - val_precision: 0.9061 - val_recall: 0.9408 - val_auc: 0.9826\n",
      "Epoch 113/200\n",
      "90941/90941 [==============================] - 14s 150us/step - loss: 0.1262 - accuracy: 0.9238 - precision: 0.9062 - recall: 0.9409 - auc: 0.9827 - val_loss: 0.2002 - val_accuracy: 0.9239 - val_precision: 0.9062 - val_recall: 0.9409 - val_auc: 0.9827\n",
      "Epoch 114/200\n",
      "90941/90941 [==============================] - 13s 140us/step - loss: 0.1249 - accuracy: 0.9239 - precision: 0.9063 - recall: 0.9409 - auc: 0.9827 - val_loss: 0.2038 - val_accuracy: 0.9240 - val_precision: 0.9064 - val_recall: 0.9409 - val_auc: 0.9827\n",
      "Epoch 115/200\n",
      "90941/90941 [==============================] - 15s 165us/step - loss: 0.1248 - accuracy: 0.9241 - precision: 0.9065 - recall: 0.9410 - auc: 0.9828 - val_loss: 0.2124 - val_accuracy: 0.9241 - val_precision: 0.9066 - val_recall: 0.9410 - val_auc: 0.9828\n",
      "Epoch 116/200\n",
      "90941/90941 [==============================] - 13s 138us/step - loss: 0.1250 - accuracy: 0.9242 - precision: 0.9067 - recall: 0.9410 - auc: 0.9828 - val_loss: 0.2009 - val_accuracy: 0.9243 - val_precision: 0.9068 - val_recall: 0.9411 - val_auc: 0.9828\n",
      "Epoch 117/200\n",
      "90941/90941 [==============================] - 13s 139us/step - loss: 0.1238 - accuracy: 0.9243 - precision: 0.9069 - recall: 0.9411 - auc: 0.9829 - val_loss: 0.2098 - val_accuracy: 0.9244 - val_precision: 0.9069 - val_recall: 0.9411 - val_auc: 0.9829\n",
      "Epoch 118/200\n",
      "90941/90941 [==============================] - 14s 149us/step - loss: 0.1231 - accuracy: 0.9245 - precision: 0.9070 - recall: 0.9412 - auc: 0.9829 - val_loss: 0.2218 - val_accuracy: 0.9245 - val_precision: 0.9071 - val_recall: 0.9412 - val_auc: 0.9829\n",
      "Epoch 119/200\n",
      "90941/90941 [==============================] - 13s 139us/step - loss: 0.1219 - accuracy: 0.9246 - precision: 0.9072 - recall: 0.9412 - auc: 0.9830 - val_loss: 0.2168 - val_accuracy: 0.9246 - val_precision: 0.9073 - val_recall: 0.9412 - val_auc: 0.9830\n",
      "Epoch 120/200\n",
      "90941/90941 [==============================] - 13s 141us/step - loss: 0.1219 - accuracy: 0.9247 - precision: 0.9074 - recall: 0.9412 - auc: 0.9830 - val_loss: 0.2104 - val_accuracy: 0.9248 - val_precision: 0.9075 - val_recall: 0.9413 - val_auc: 0.9831\n",
      "Epoch 121/200\n",
      "90941/90941 [==============================] - 14s 155us/step - loss: 0.1215 - accuracy: 0.9248 - precision: 0.9076 - recall: 0.9413 - auc: 0.9831 - val_loss: 0.2075 - val_accuracy: 0.9249 - val_precision: 0.9077 - val_recall: 0.9413 - val_auc: 0.9831\n",
      "Epoch 122/200\n",
      "90941/90941 [==============================] - 13s 140us/step - loss: 0.1238 - accuracy: 0.9249 - precision: 0.9078 - recall: 0.9413 - auc: 0.9831 - val_loss: 0.2033 - val_accuracy: 0.9250 - val_precision: 0.9079 - val_recall: 0.9414 - val_auc: 0.9832\n",
      "Epoch 123/200\n",
      "90941/90941 [==============================] - 13s 144us/step - loss: 0.1209 - accuracy: 0.9251 - precision: 0.9080 - recall: 0.9414 - auc: 0.9832 - val_loss: 0.2177 - val_accuracy: 0.9251 - val_precision: 0.9080 - val_recall: 0.9414 - val_auc: 0.9832\n"
     ]
    },
    {
     "name": "stdout",
     "output_type": "stream",
     "text": [
      "Epoch 124/200\n",
      "90941/90941 [==============================] - 13s 146us/step - loss: 0.1201 - accuracy: 0.9252 - precision: 0.9081 - recall: 0.9414 - auc: 0.9832 - val_loss: 0.2176 - val_accuracy: 0.9252 - val_precision: 0.9082 - val_recall: 0.9414 - val_auc: 0.9833\n",
      "Epoch 125/200\n",
      "90941/90941 [==============================] - 13s 141us/step - loss: 0.1186 - accuracy: 0.9253 - precision: 0.9083 - recall: 0.9415 - auc: 0.9833 - val_loss: 0.2054 - val_accuracy: 0.9254 - val_precision: 0.9084 - val_recall: 0.9415 - val_auc: 0.9833\n",
      "Epoch 126/200\n",
      "90941/90941 [==============================] - 13s 140us/step - loss: 0.1190 - accuracy: 0.9254 - precision: 0.9085 - recall: 0.9415 - auc: 0.9834 - val_loss: 0.2151 - val_accuracy: 0.9255 - val_precision: 0.9086 - val_recall: 0.9415 - val_auc: 0.9834\n",
      "Epoch 127/200\n",
      "90941/90941 [==============================] - 14s 155us/step - loss: 0.1176 - accuracy: 0.9256 - precision: 0.9087 - recall: 0.9415 - auc: 0.9834 - val_loss: 0.2237 - val_accuracy: 0.9256 - val_precision: 0.9088 - val_recall: 0.9416 - val_auc: 0.9834\n",
      "Epoch 128/200\n",
      "90941/90941 [==============================] - 14s 149us/step - loss: 0.1184 - accuracy: 0.9257 - precision: 0.9089 - recall: 0.9416 - auc: 0.9835 - val_loss: 0.2169 - val_accuracy: 0.9257 - val_precision: 0.9090 - val_recall: 0.9416 - val_auc: 0.9835\n",
      "Epoch 129/200\n",
      "90941/90941 [==============================] - 15s 160us/step - loss: 0.1161 - accuracy: 0.9258 - precision: 0.9091 - recall: 0.9417 - auc: 0.9835 - val_loss: 0.2232 - val_accuracy: 0.9259 - val_precision: 0.9091 - val_recall: 0.9417 - val_auc: 0.9835\n",
      "Epoch 130/200\n",
      "90941/90941 [==============================] - 13s 142us/step - loss: 0.1159 - accuracy: 0.9259 - precision: 0.9092 - recall: 0.9418 - auc: 0.9835 - val_loss: 0.2202 - val_accuracy: 0.9260 - val_precision: 0.9093 - val_recall: 0.9418 - val_auc: 0.9836\n",
      "Epoch 131/200\n",
      "90941/90941 [==============================] - 15s 167us/step - loss: 0.1156 - accuracy: 0.9261 - precision: 0.9094 - recall: 0.9419 - auc: 0.9836 - val_loss: 0.2277 - val_accuracy: 0.9261 - val_precision: 0.9095 - val_recall: 0.9419 - val_auc: 0.9836\n",
      "Epoch 132/200\n",
      "90941/90941 [==============================] - 13s 145us/step - loss: 0.1149 - accuracy: 0.9262 - precision: 0.9096 - recall: 0.9419 - auc: 0.9836 - val_loss: 0.2368 - val_accuracy: 0.9262 - val_precision: 0.9097 - val_recall: 0.9419 - val_auc: 0.9837\n",
      "Epoch 133/200\n",
      "90941/90941 [==============================] - 13s 138us/step - loss: 0.1155 - accuracy: 0.9263 - precision: 0.9097 - recall: 0.9419 - auc: 0.9837 - val_loss: 0.2155 - val_accuracy: 0.9263 - val_precision: 0.9098 - val_recall: 0.9420 - val_auc: 0.9837\n",
      "Epoch 134/200\n",
      "90941/90941 [==============================] - 15s 161us/step - loss: 0.1146 - accuracy: 0.9264 - precision: 0.9099 - recall: 0.9420 - auc: 0.9838 - val_loss: 0.2475 - val_accuracy: 0.9265 - val_precision: 0.9100 - val_recall: 0.9421 - val_auc: 0.9838\n",
      "Epoch 135/200\n",
      "90941/90941 [==============================] - 13s 138us/step - loss: 0.1133 - accuracy: 0.9265 - precision: 0.9101 - recall: 0.9421 - auc: 0.9838 - val_loss: 0.2351 - val_accuracy: 0.9266 - val_precision: 0.9101 - val_recall: 0.9422 - val_auc: 0.9838\n",
      "Epoch 136/200\n",
      "90941/90941 [==============================] - 13s 142us/step - loss: 0.1132 - accuracy: 0.9267 - precision: 0.9102 - recall: 0.9422 - auc: 0.9839 - val_loss: 0.2221 - val_accuracy: 0.9267 - val_precision: 0.9103 - val_recall: 0.9422 - val_auc: 0.9839\n",
      "Epoch 137/200\n",
      "90941/90941 [==============================] - 15s 165us/step - loss: 0.1134 - accuracy: 0.9268 - precision: 0.9104 - recall: 0.9423 - auc: 0.9839 - val_loss: 0.2296 - val_accuracy: 0.9268 - val_precision: 0.9105 - val_recall: 0.9423 - val_auc: 0.9839\n",
      "Epoch 138/200\n",
      "90941/90941 [==============================] - 13s 147us/step - loss: 0.1118 - accuracy: 0.9269 - precision: 0.9106 - recall: 0.9423 - auc: 0.9840 - val_loss: 0.2340 - val_accuracy: 0.9270 - val_precision: 0.9106 - val_recall: 0.9424 - val_auc: 0.9840\n",
      "Epoch 139/200\n",
      "90941/90941 [==============================] - 13s 140us/step - loss: 0.1116 - accuracy: 0.9270 - precision: 0.9107 - recall: 0.9424 - auc: 0.9840 - val_loss: 0.2275 - val_accuracy: 0.9271 - val_precision: 0.9108 - val_recall: 0.9424 - val_auc: 0.9840\n",
      "Epoch 140/200\n",
      "90941/90941 [==============================] - 13s 142us/step - loss: 0.1125 - accuracy: 0.9272 - precision: 0.9109 - recall: 0.9425 - auc: 0.9841 - val_loss: 0.2234 - val_accuracy: 0.9272 - val_precision: 0.9110 - val_recall: 0.9425 - val_auc: 0.9841\n",
      "Epoch 141/200\n",
      "90941/90941 [==============================] - 14s 159us/step - loss: 0.1108 - accuracy: 0.9273 - precision: 0.9111 - recall: 0.9425 - auc: 0.9841 - val_loss: 0.2323 - val_accuracy: 0.9273 - val_precision: 0.9112 - val_recall: 0.9425 - val_auc: 0.9841\n",
      "Epoch 142/200\n",
      "90941/90941 [==============================] - 13s 146us/step - loss: 0.1104 - accuracy: 0.9274 - precision: 0.9112 - recall: 0.9426 - auc: 0.9841 - val_loss: 0.2251 - val_accuracy: 0.9275 - val_precision: 0.9113 - val_recall: 0.9426 - val_auc: 0.9842\n",
      "Epoch 143/200\n",
      "90941/90941 [==============================] - 13s 146us/step - loss: 0.1089 - accuracy: 0.9275 - precision: 0.9114 - recall: 0.9427 - auc: 0.9842 - val_loss: 0.2270 - val_accuracy: 0.9276 - val_precision: 0.9115 - val_recall: 0.9427 - val_auc: 0.9842\n",
      "Epoch 144/200\n",
      "90941/90941 [==============================] - 13s 139us/step - loss: 0.1074 - accuracy: 0.9277 - precision: 0.9116 - recall: 0.9427 - auc: 0.9842 - val_loss: 0.2432 - val_accuracy: 0.9277 - val_precision: 0.9117 - val_recall: 0.9428 - val_auc: 0.9843\n",
      "Epoch 145/200\n",
      "90941/90941 [==============================] - 13s 141us/step - loss: 0.1074 - accuracy: 0.9278 - precision: 0.9117 - recall: 0.9428 - auc: 0.9843 - val_loss: 0.2348 - val_accuracy: 0.9279 - val_precision: 0.9118 - val_recall: 0.9429 - val_auc: 0.9843\n",
      "Epoch 146/200\n",
      "90941/90941 [==============================] - 13s 140us/step - loss: 0.1078 - accuracy: 0.9279 - precision: 0.9119 - recall: 0.9429 - auc: 0.9844 - val_loss: 0.2358 - val_accuracy: 0.9280 - val_precision: 0.9120 - val_recall: 0.9430 - val_auc: 0.9844\n",
      "Epoch 147/200\n",
      "90941/90941 [==============================] - 14s 154us/step - loss: 0.1063 - accuracy: 0.9280 - precision: 0.9121 - recall: 0.9430 - auc: 0.9844 - val_loss: 0.2278 - val_accuracy: 0.9281 - val_precision: 0.9122 - val_recall: 0.9430 - val_auc: 0.9844\n",
      "Epoch 148/200\n",
      "90941/90941 [==============================] - 13s 144us/step - loss: 0.1051 - accuracy: 0.9282 - precision: 0.9123 - recall: 0.9431 - auc: 0.9845 - val_loss: 0.2514 - val_accuracy: 0.9282 - val_precision: 0.9123 - val_recall: 0.9431 - val_auc: 0.9845\n",
      "Epoch 149/200\n",
      "90941/90941 [==============================] - 13s 140us/step - loss: 0.1057 - accuracy: 0.9283 - precision: 0.9124 - recall: 0.9432 - auc: 0.9845 - val_loss: 0.2391 - val_accuracy: 0.9284 - val_precision: 0.9125 - val_recall: 0.9432 - val_auc: 0.9845\n",
      "Epoch 150/200\n",
      "90941/90941 [==============================] - 14s 154us/step - loss: 0.1061 - accuracy: 0.9284 - precision: 0.9126 - recall: 0.9433 - auc: 0.9846 - val_loss: 0.2444 - val_accuracy: 0.9285 - val_precision: 0.9126 - val_recall: 0.9433 - val_auc: 0.9846\n",
      "Epoch 151/200\n",
      "90941/90941 [==============================] - 15s 167us/step - loss: 0.1079 - accuracy: 0.9286 - precision: 0.9127 - recall: 0.9433 - auc: 0.9846 - val_loss: 0.2241 - val_accuracy: 0.9286 - val_precision: 0.9128 - val_recall: 0.9434 - val_auc: 0.9846\n",
      "Epoch 152/200\n",
      "90941/90941 [==============================] - 13s 146us/step - loss: 0.1032 - accuracy: 0.9287 - precision: 0.9129 - recall: 0.9434 - auc: 0.9846 - val_loss: 0.2398 - val_accuracy: 0.9287 - val_precision: 0.9130 - val_recall: 0.9435 - val_auc: 0.9847\n",
      "Epoch 153/200\n",
      "90941/90941 [==============================] - 13s 139us/step - loss: 0.1028 - accuracy: 0.9288 - precision: 0.9130 - recall: 0.9435 - auc: 0.9847 - val_loss: 0.2512 - val_accuracy: 0.9289 - val_precision: 0.9131 - val_recall: 0.9435 - val_auc: 0.9847\n",
      "Epoch 154/200\n",
      "90941/90941 [==============================] - 13s 140us/step - loss: 0.1019 - accuracy: 0.9289 - precision: 0.9132 - recall: 0.9436 - auc: 0.9847 - val_loss: 0.2453 - val_accuracy: 0.9290 - val_precision: 0.9133 - val_recall: 0.9436 - val_auc: 0.9848\n"
     ]
    },
    {
     "name": "stdout",
     "output_type": "stream",
     "text": [
      "Epoch 155/200\n",
      "90941/90941 [==============================] - 13s 141us/step - loss: 0.1024 - accuracy: 0.9291 - precision: 0.9134 - recall: 0.9437 - auc: 0.9848 - val_loss: 0.2493 - val_accuracy: 0.9291 - val_precision: 0.9135 - val_recall: 0.9437 - val_auc: 0.9848\n",
      "Epoch 156/200\n",
      "90941/90941 [==============================] - 15s 161us/step - loss: 0.1017 - accuracy: 0.9292 - precision: 0.9135 - recall: 0.9438 - auc: 0.9848 - val_loss: 0.2383 - val_accuracy: 0.9293 - val_precision: 0.9136 - val_recall: 0.9438 - val_auc: 0.9849\n",
      "Epoch 157/200\n",
      "90941/90941 [==============================] - 13s 148us/step - loss: 0.1014 - accuracy: 0.9293 - precision: 0.9137 - recall: 0.9438 - auc: 0.9849 - val_loss: 0.2337 - val_accuracy: 0.9294 - val_precision: 0.9138 - val_recall: 0.9439 - val_auc: 0.9849\n",
      "Epoch 158/200\n",
      "90941/90941 [==============================] - 14s 158us/step - loss: 0.1008 - accuracy: 0.9294 - precision: 0.9139 - recall: 0.9439 - auc: 0.9849 - val_loss: 0.2399 - val_accuracy: 0.9295 - val_precision: 0.9140 - val_recall: 0.9440 - val_auc: 0.9850\n",
      "Epoch 159/200\n",
      "90941/90941 [==============================] - 13s 138us/step - loss: 0.1002 - accuracy: 0.9296 - precision: 0.9140 - recall: 0.9440 - auc: 0.9850 - val_loss: 0.2352 - val_accuracy: 0.9296 - val_precision: 0.9141 - val_recall: 0.9440 - val_auc: 0.9850\n",
      "Epoch 160/200\n",
      "90941/90941 [==============================] - 13s 140us/step - loss: 0.0991 - accuracy: 0.9297 - precision: 0.9142 - recall: 0.9441 - auc: 0.9850 - val_loss: 0.2593 - val_accuracy: 0.9298 - val_precision: 0.9143 - val_recall: 0.9441 - val_auc: 0.9851\n",
      "Epoch 161/200\n",
      "90941/90941 [==============================] - 13s 147us/step - loss: 0.0979 - accuracy: 0.9298 - precision: 0.9144 - recall: 0.9442 - auc: 0.9851 - val_loss: 0.2555 - val_accuracy: 0.9299 - val_precision: 0.9145 - val_recall: 0.9442 - val_auc: 0.9851\n",
      "Epoch 162/200\n",
      "90941/90941 [==============================] - 13s 139us/step - loss: 0.0985 - accuracy: 0.9300 - precision: 0.9145 - recall: 0.9442 - auc: 0.9851 - val_loss: 0.2558 - val_accuracy: 0.9300 - val_precision: 0.9146 - val_recall: 0.9443 - val_auc: 0.9851\n",
      "Epoch 163/200\n",
      "90941/90941 [==============================] - 13s 143us/step - loss: 0.0968 - accuracy: 0.9301 - precision: 0.9147 - recall: 0.9443 - auc: 0.9852 - val_loss: 0.2489 - val_accuracy: 0.9301 - val_precision: 0.9148 - val_recall: 0.9444 - val_auc: 0.9852\n",
      "Epoch 164/200\n",
      "90941/90941 [==============================] - 14s 155us/step - loss: 0.0981 - accuracy: 0.9302 - precision: 0.9149 - recall: 0.9444 - auc: 0.9852 - val_loss: 0.2424 - val_accuracy: 0.9303 - val_precision: 0.9150 - val_recall: 0.9444 - val_auc: 0.9852\n",
      "Epoch 165/200\n",
      "90941/90941 [==============================] - 15s 167us/step - loss: 0.0949 - accuracy: 0.9303 - precision: 0.9151 - recall: 0.9444 - auc: 0.9853 - val_loss: 0.2553 - val_accuracy: 0.9304 - val_precision: 0.9151 - val_recall: 0.9445 - val_auc: 0.9853\n",
      "Epoch 166/200\n",
      "90941/90941 [==============================] - 13s 142us/step - loss: 0.0959 - accuracy: 0.9305 - precision: 0.9152 - recall: 0.9445 - auc: 0.9853 - val_loss: 0.2565 - val_accuracy: 0.9305 - val_precision: 0.9153 - val_recall: 0.9446 - val_auc: 0.9853\n",
      "Epoch 167/200\n",
      "90941/90941 [==============================] - 13s 147us/step - loss: 0.0965 - accuracy: 0.9306 - precision: 0.9154 - recall: 0.9446 - auc: 0.9853 - val_loss: 0.2671 - val_accuracy: 0.9307 - val_precision: 0.9155 - val_recall: 0.9447 - val_auc: 0.9854\n",
      "Epoch 168/200\n",
      "90941/90941 [==============================] - 15s 166us/step - loss: 0.0940 - accuracy: 0.9307 - precision: 0.9156 - recall: 0.9447 - auc: 0.9854 - val_loss: 0.2638 - val_accuracy: 0.9308 - val_precision: 0.9157 - val_recall: 0.9447 - val_auc: 0.9854\n",
      "Epoch 169/200\n",
      "90941/90941 [==============================] - 13s 138us/step - loss: 0.0937 - accuracy: 0.9308 - precision: 0.9157 - recall: 0.9448 - auc: 0.9855 - val_loss: 0.2800 - val_accuracy: 0.9309 - val_precision: 0.9158 - val_recall: 0.9448 - val_auc: 0.9855\n",
      "Epoch 170/200\n",
      "90941/90941 [==============================] - 13s 143us/step - loss: 0.0936 - accuracy: 0.9310 - precision: 0.9159 - recall: 0.9449 - auc: 0.9855 - val_loss: 0.2753 - val_accuracy: 0.9310 - val_precision: 0.9160 - val_recall: 0.9449 - val_auc: 0.9855\n",
      "Epoch 171/200\n",
      "90941/90941 [==============================] - 15s 167us/step - loss: 0.0936 - accuracy: 0.9311 - precision: 0.9161 - recall: 0.9449 - auc: 0.9855 - val_loss: 0.2520 - val_accuracy: 0.9312 - val_precision: 0.9161 - val_recall: 0.9450 - val_auc: 0.9856\n",
      "Epoch 172/200\n",
      "90941/90941 [==============================] - 15s 167us/step - loss: 0.0924 - accuracy: 0.9312 - precision: 0.9162 - recall: 0.9451 - auc: 0.9856 - val_loss: 0.2818 - val_accuracy: 0.9313 - val_precision: 0.9163 - val_recall: 0.9451 - val_auc: 0.9856\n",
      "Epoch 173/200\n",
      "90941/90941 [==============================] - 13s 142us/step - loss: 0.0917 - accuracy: 0.9313 - precision: 0.9164 - recall: 0.9451 - auc: 0.9856 - val_loss: 0.2830 - val_accuracy: 0.9314 - val_precision: 0.9165 - val_recall: 0.9451 - val_auc: 0.9857\n",
      "Epoch 174/200\n",
      "90941/90941 [==============================] - 13s 142us/step - loss: 0.0915 - accuracy: 0.9315 - precision: 0.9166 - recall: 0.9452 - auc: 0.9857 - val_loss: 0.2764 - val_accuracy: 0.9315 - val_precision: 0.9167 - val_recall: 0.9452 - val_auc: 0.9857\n",
      "Epoch 175/200\n",
      "90941/90941 [==============================] - 13s 140us/step - loss: 0.0909 - accuracy: 0.9316 - precision: 0.9167 - recall: 0.9452 - auc: 0.9857 - val_loss: 0.2836 - val_accuracy: 0.9317 - val_precision: 0.9168 - val_recall: 0.9453 - val_auc: 0.9858\n",
      "Epoch 176/200\n",
      "90941/90941 [==============================] - 14s 149us/step - loss: 0.0898 - accuracy: 0.9317 - precision: 0.9169 - recall: 0.9453 - auc: 0.9858 - val_loss: 0.2746 - val_accuracy: 0.9318 - val_precision: 0.9170 - val_recall: 0.9453 - val_auc: 0.9858\n",
      "Epoch 177/200\n",
      "90941/90941 [==============================] - 14s 150us/step - loss: 0.0899 - accuracy: 0.9318 - precision: 0.9171 - recall: 0.9454 - auc: 0.9858 - val_loss: 0.2779 - val_accuracy: 0.9319 - val_precision: 0.9172 - val_recall: 0.9454 - val_auc: 0.9858\n",
      "Epoch 178/200\n",
      "90941/90941 [==============================] - 14s 154us/step - loss: 0.0883 - accuracy: 0.9320 - precision: 0.9172 - recall: 0.9455 - auc: 0.9858 - val_loss: 0.2720 - val_accuracy: 0.9320 - val_precision: 0.9173 - val_recall: 0.9455 - val_auc: 0.9859\n",
      "Epoch 179/200\n",
      "90941/90941 [==============================] - 13s 138us/step - loss: 0.0870 - accuracy: 0.9321 - precision: 0.9174 - recall: 0.9456 - auc: 0.9859 - val_loss: 0.2877 - val_accuracy: 0.9322 - val_precision: 0.9175 - val_recall: 0.9456 - val_auc: 0.9859\n",
      "Epoch 180/200\n",
      "90941/90941 [==============================] - 13s 139us/step - loss: 0.0867 - accuracy: 0.9322 - precision: 0.9176 - recall: 0.9457 - auc: 0.9860 - val_loss: 0.3009 - val_accuracy: 0.9323 - val_precision: 0.9176 - val_recall: 0.9457 - val_auc: 0.9860\n",
      "Epoch 181/200\n",
      "90941/90941 [==============================] - 13s 140us/step - loss: 0.0897 - accuracy: 0.9324 - precision: 0.9177 - recall: 0.9457 - auc: 0.9860 - val_loss: 0.2712 - val_accuracy: 0.9324 - val_precision: 0.9178 - val_recall: 0.9458 - val_auc: 0.9860\n",
      "Epoch 182/200\n",
      "90941/90941 [==============================] - 13s 144us/step - loss: 0.0882 - accuracy: 0.9325 - precision: 0.9179 - recall: 0.9458 - auc: 0.9860 - val_loss: 0.2863 - val_accuracy: 0.9325 - val_precision: 0.9180 - val_recall: 0.9459 - val_auc: 0.9861\n",
      "Epoch 183/200\n",
      "90941/90941 [==============================] - 13s 145us/step - loss: 0.0911 - accuracy: 0.9326 - precision: 0.9180 - recall: 0.9459 - auc: 0.9861 - val_loss: 0.2398 - val_accuracy: 0.9327 - val_precision: 0.9181 - val_recall: 0.9460 - val_auc: 0.9861\n",
      "Epoch 184/200\n",
      "90941/90941 [==============================] - 14s 152us/step - loss: 0.0891 - accuracy: 0.9327 - precision: 0.9182 - recall: 0.9460 - auc: 0.9861 - val_loss: 0.2563 - val_accuracy: 0.9328 - val_precision: 0.9183 - val_recall: 0.9460 - val_auc: 0.9861\n",
      "Epoch 185/200\n",
      "90941/90941 [==============================] - 13s 148us/step - loss: 0.0860 - accuracy: 0.9328 - precision: 0.9183 - recall: 0.9461 - auc: 0.9862 - val_loss: 0.2785 - val_accuracy: 0.9329 - val_precision: 0.9184 - val_recall: 0.9461 - val_auc: 0.9862\n"
     ]
    },
    {
     "name": "stdout",
     "output_type": "stream",
     "text": [
      "Epoch 186/200\n",
      "90941/90941 [==============================] - 14s 157us/step - loss: 0.0844 - accuracy: 0.9330 - precision: 0.9185 - recall: 0.9462 - auc: 0.9862 - val_loss: 0.2880 - val_accuracy: 0.9330 - val_precision: 0.9186 - val_recall: 0.9462 - val_auc: 0.9862\n",
      "Epoch 187/200\n",
      "90941/90941 [==============================] - 13s 142us/step - loss: 0.0836 - accuracy: 0.9331 - precision: 0.9187 - recall: 0.9462 - auc: 0.9863 - val_loss: 0.2929 - val_accuracy: 0.9332 - val_precision: 0.9188 - val_recall: 0.9463 - val_auc: 0.9863\n",
      "Epoch 188/200\n",
      "90941/90941 [==============================] - 13s 138us/step - loss: 0.0826 - accuracy: 0.9332 - precision: 0.9188 - recall: 0.9463 - auc: 0.9863 - val_loss: 0.2944 - val_accuracy: 0.9333 - val_precision: 0.9189 - val_recall: 0.9464 - val_auc: 0.9863\n",
      "Epoch 189/200\n",
      "90941/90941 [==============================] - 13s 140us/step - loss: 0.0825 - accuracy: 0.9334 - precision: 0.9190 - recall: 0.9464 - auc: 0.9863 - val_loss: 0.3056 - val_accuracy: 0.9334 - val_precision: 0.9191 - val_recall: 0.9464 - val_auc: 0.9864\n",
      "Epoch 190/200\n",
      "90941/90941 [==============================] - 14s 159us/step - loss: 0.0821 - accuracy: 0.9335 - precision: 0.9192 - recall: 0.9465 - auc: 0.9864 - val_loss: 0.2951 - val_accuracy: 0.9336 - val_precision: 0.9192 - val_recall: 0.9465 - val_auc: 0.9864\n",
      "Epoch 191/200\n",
      "90941/90941 [==============================] - 14s 151us/step - loss: 0.0815 - accuracy: 0.9336 - precision: 0.9193 - recall: 0.9466 - auc: 0.9864 - val_loss: 0.3051 - val_accuracy: 0.9337 - val_precision: 0.9194 - val_recall: 0.9466 - val_auc: 0.9865\n",
      "Epoch 192/200\n",
      "90941/90941 [==============================] - 14s 151us/step - loss: 0.0816 - accuracy: 0.9338 - precision: 0.9195 - recall: 0.9466 - auc: 0.9865 - val_loss: 0.3040 - val_accuracy: 0.9338 - val_precision: 0.9196 - val_recall: 0.9467 - val_auc: 0.9865\n",
      "Epoch 193/200\n",
      "90941/90941 [==============================] - 13s 140us/step - loss: 0.0817 - accuracy: 0.9339 - precision: 0.9196 - recall: 0.9467 - auc: 0.9865 - val_loss: 0.3152 - val_accuracy: 0.9339 - val_precision: 0.9197 - val_recall: 0.9468 - val_auc: 0.9865\n",
      "Epoch 194/200\n",
      "90941/90941 [==============================] - 15s 167us/step - loss: 0.0791 - accuracy: 0.9340 - precision: 0.9198 - recall: 0.9468 - auc: 0.9866 - val_loss: 0.2964 - val_accuracy: 0.9341 - val_precision: 0.9199 - val_recall: 0.9469 - val_auc: 0.9866\n",
      "Epoch 195/200\n",
      "90941/90941 [==============================] - 13s 147us/step - loss: 0.0794 - accuracy: 0.9341 - precision: 0.9200 - recall: 0.9469 - auc: 0.9866 - val_loss: 0.3074 - val_accuracy: 0.9342 - val_precision: 0.9201 - val_recall: 0.9469 - val_auc: 0.9866\n",
      "Epoch 196/200\n",
      "90941/90941 [==============================] - 15s 167us/step - loss: 0.0798 - accuracy: 0.9343 - precision: 0.9201 - recall: 0.9470 - auc: 0.9866 - val_loss: 0.2917 - val_accuracy: 0.9343 - val_precision: 0.9202 - val_recall: 0.9470 - val_auc: 0.9867\n",
      "Epoch 197/200\n",
      "90941/90941 [==============================] - 13s 144us/step - loss: 0.0767 - accuracy: 0.9344 - precision: 0.9203 - recall: 0.9470 - auc: 0.9867 - val_loss: 0.3181 - val_accuracy: 0.9344 - val_precision: 0.9204 - val_recall: 0.9471 - val_auc: 0.9867\n",
      "Epoch 198/200\n",
      "90941/90941 [==============================] - 13s 143us/step - loss: 0.0785 - accuracy: 0.9345 - precision: 0.9205 - recall: 0.9471 - auc: 0.9867 - val_loss: 0.3108 - val_accuracy: 0.9346 - val_precision: 0.9206 - val_recall: 0.9471 - val_auc: 0.9867\n",
      "Epoch 199/200\n",
      "90941/90941 [==============================] - 13s 143us/step - loss: 0.0775 - accuracy: 0.9346 - precision: 0.9206 - recall: 0.9472 - auc: 0.9868 - val_loss: 0.3151 - val_accuracy: 0.9347 - val_precision: 0.9207 - val_recall: 0.9472 - val_auc: 0.9868\n",
      "Epoch 200/200\n",
      "90941/90941 [==============================] - 14s 158us/step - loss: 0.0776 - accuracy: 0.9348 - precision: 0.9208 - recall: 0.9473 - auc: 0.9868 - val_loss: 0.2967 - val_accuracy: 0.9348 - val_precision: 0.9209 - val_recall: 0.9473 - val_auc: 0.9868\n"
     ]
    },
    {
     "data": {
      "text/plain": [
       "<keras.callbacks.callbacks.History at 0x14aa5d7fa90>"
      ]
     },
     "execution_count": 9,
     "metadata": {},
     "output_type": "execute_result"
    }
   ],
   "source": [
    "estimator = KerasClassifier(build_fn=neural_network)\n",
    "estimator.fit(X_train,Y_train,verbose=1,callbacks=[early_stopping], epochs=200,validation_split=0.1,batch_size=64)"
   ]
  },
  {
   "cell_type": "code",
   "execution_count": 10,
   "metadata": {
    "scrolled": true
   },
   "outputs": [
    {
     "data": {
      "text/plain": [
       "array([[1],\n",
       "       [1],\n",
       "       [0],\n",
       "       ...,\n",
       "       [0],\n",
       "       [0],\n",
       "       [0]], dtype=int64)"
      ]
     },
     "execution_count": 10,
     "metadata": {},
     "output_type": "execute_result"
    }
   ],
   "source": [
    "test_predictions = estimator.predict(X_test)\n",
    "test_predictions"
   ]
  },
  {
   "cell_type": "code",
   "execution_count": 11,
   "metadata": {
    "scrolled": true
   },
   "outputs": [
    {
     "name": "stdout",
     "output_type": "stream",
     "text": [
      "Epoch 1/1\n",
      "67364/67364 [==============================] - 15s 229us/step - loss: 0.3512 - accuracy: 0.9346 - precision: 0.9206 - recall: 0.9472 - auc: 0.9867\n",
      "33682/33682 [==============================] - 2s 65us/step\n",
      "Epoch 1/1\n",
      "67364/67364 [==============================] - 15s 222us/step - loss: 0.3588 - accuracy: 0.9343 - precision: 0.9202 - recall: 0.9469 - auc: 0.9866\n",
      "33682/33682 [==============================] - 2s 59us/step\n",
      "Epoch 1/1\n",
      "67364/67364 [==============================] - 15s 216us/step - loss: 0.3602 - accuracy: 0.9339 - precision: 0.9197 - recall: 0.9467 - auc: 0.9864\n",
      "33682/33682 [==============================] - 2s 65us/step\n",
      "Cross-Validation set accuracy: 93.415475 %\n"
     ]
    }
   ],
   "source": [
    "print(\"Cross-Validation set accuracy: {:.6f} %\".format((cross_val_score(estimator, X_train, Y_train, cv=3).mean())*100))"
   ]
  },
  {
   "cell_type": "code",
   "execution_count": 12,
   "metadata": {},
   "outputs": [
    {
     "name": "stdout",
     "output_type": "stream",
     "text": [
      "101046/101046 [==============================] - 7s 71us/step\n",
      "Train set accuracy : 0.9338\n",
      "Test set accuracy  : 0.8026\n",
      "Test set precision : 0.6635\n",
      "Test set recall    : 0.9330\n",
      "Test set F1-score  : 0.7755\n"
     ]
    }
   ],
   "source": [
    "print(\"Train set accuracy : {:.4f}\".format(estimator.score(X_train,Y_train)))\n",
    "print(\"Test set accuracy  : {:.4f}\".format(accuracy_score(Y_test, test_predictions)))\n",
    "print(\"Test set precision : {:.4f}\".format(precision_score(Y_test, test_predictions)))\n",
    "print(\"Test set recall    : {:.4f}\".format(recall_score(Y_test, test_predictions)))\n",
    "print(\"Test set F1-score  : {:.4f}\".format(f1_score(Y_test, test_predictions)))"
   ]
  },
  {
   "cell_type": "code",
   "execution_count": 17,
   "metadata": {},
   "outputs": [
    {
     "name": "stdout",
     "output_type": "stream",
     "text": [
      "True Negatives  : 0.73\n",
      "False Positives : 0.27\n",
      "False Negatives : 0.07\n",
      "True Positives  : 0.93\n"
     ]
    },
    {
     "data": {
      "image/png": "[encoded data removed]",
      "text/plain": [
       "<Figure size 180x144 with 2 Axes>"
      ]
     },
     "metadata": {
      "needs_background": "light"
     },
     "output_type": "display_data"
    }
   ],
   "source": [
    "def plot_cm(labels, predictions):\n",
    "    cm = confusion_matrix(labels, predictions, normalize= 'true')\n",
    "    plt.figure(figsize=(2.5,2))\n",
    "    sns.heatmap(cm, annot=True, fmt=\".2f\",annot_kws={'size':12})\n",
    "    plt.ylabel('Actual label')\n",
    "    plt.xlabel('Predicted label')\n",
    "\n",
    "    print('True Negatives  : {:.2f}'.format(cm[0][0]))\n",
    "    print('False Positives : {:.2f}'.format(cm[0][1]))\n",
    "    print('False Negatives : {:.2f}'.format(cm[1][0]))\n",
    "    print('True Positives  : {:.2f}'.format(cm[1][1]))\n",
    "    \n",
    "plot_cm(Y_test,test_predictions)"
   ]
  },
  {
   "cell_type": "code",
   "execution_count": 14,
   "metadata": {
    "scrolled": true
   },
   "outputs": [
    {
     "name": "stdout",
     "output_type": "stream",
     "text": [
      "              precision    recall  f1-score   support\n",
      "\n",
      "           0       0.95      0.73      0.82     34204\n",
      "           1       0.66      0.93      0.78     19695\n",
      "\n",
      "    accuracy                           0.80     53899\n",
      "   macro avg       0.81      0.83      0.80     53899\n",
      "weighted avg       0.85      0.80      0.81     53899\n",
      "\n"
     ]
    }
   ],
   "source": [
    "print(classification_report(Y_test, test_predictions))"
   ]
  },
  {
   "cell_type": "code",
   "execution_count": 15,
   "metadata": {},
   "outputs": [],
   "source": [
    "from sklearn.metrics import roc_curve, auc"
   ]
  },
  {
   "cell_type": "code",
   "execution_count": 16,
   "metadata": {},
   "outputs": [
    {
     "name": "stderr",
     "output_type": "stream",
     "text": [
      "c:\\users\\sharuka thirimanne\\appdata\\local\\programs\\python\\python37\\lib\\site-packages\\ipykernel_launcher.py:13: MatplotlibDeprecationWarning: Adding an axes using the same arguments as a previous axes currently reuses the earlier instance.  In a future version, a new instance will always be created and returned.  Meanwhile, this warning can be suppressed, and the future behavior ensured, by passing a unique label to each axes instance.\n",
      "  del sys.path[0]\n"
     ]
    },
    {
     "data": {
      "image/png": "[encoded data removed]",
      "text/plain": [
       "<Figure size 864x720 with 1 Axes>"
      ]
     },
     "metadata": {
      "needs_background": "light"
     },
     "output_type": "display_data"
    }
   ],
   "source": [
    "fpr_lr, tpr_lr, _ = roc_curve(Y_test, test_predictions)\n",
    "roc_auc_lr = auc(fpr_lr, tpr_lr)\n",
    "\n",
    "plt.figure()\n",
    "plt.xlim([-0.01, 1.00])\n",
    "plt.ylim([-0.01, 1.01])\n",
    "plt.plot(fpr_lr, tpr_lr, lw=3, label='KNN ROC curve (area = {:0.2f})'.format(roc_auc_lr))\n",
    "plt.xlabel('False Positive Rate', fontsize=16)\n",
    "plt.ylabel('True Positive Rate', fontsize=16)\n",
    "plt.title('ROC curve', fontsize=16)\n",
    "plt.legend(loc='lower right', fontsize=13)\n",
    "plt.plot([0, 1], [0, 1], color='navy', lw=3, linestyle='--')\n",
    "plt.axes().set_aspect('equal')\n",
    "plt.show()"
   ]
  }
 ],
 "metadata": {
  "kernelspec": {
   "display_name": "Python 3",
   "language": "python",
   "name": "python3"
  },
  "language_info": {
   "codemirror_mode": {
    "name": "ipython",
    "version": 3
   },
   "file_extension": ".py",
   "mimetype": "text/x-python",
   "name": "python",
   "nbconvert_exporter": "python",
   "pygments_lexer": "ipython3",
   "version": "3.7.3"
  }
 },
 "nbformat": 4,
 "nbformat_minor": 4
}
