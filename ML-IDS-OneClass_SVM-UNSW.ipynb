{
 "cells": [
  {
   "cell_type": "code",
   "execution_count": 1,
   "metadata": {},
   "outputs": [
    {
     "name": "stdout",
     "output_type": "stream",
     "text": [
      "C:\\Users\\Sharuka Thirimanne\\Desktop\\FYP-ML-IDS\n"
     ]
    }
   ],
   "source": [
    "cd C:\\\\Users\\\\Sharuka Thirimanne\\\\Desktop\\\\FYP-ML-IDS"
   ]
  },
  {
   "cell_type": "code",
   "execution_count": 2,
   "metadata": {},
   "outputs": [],
   "source": [
    "import numpy as np\n",
    "import pandas as pd\n",
    "import seaborn as sns\n",
    "from sklearn.svm import OneClassSVM\n",
    "import matplotlib.pyplot as plt\n",
    "from sklearn.decomposition import PCA\n",
    "from sklearn.compose import make_column_transformer\n",
    "from sklearn.pipeline import make_pipeline\n",
    "from sklearn.utils import shuffle\n",
    "from sklearn.pipeline import Pipeline\n",
    "from sklearn.compose import ColumnTransformer\n",
    "from sklearn.preprocessing import OneHotEncoder\n",
    "from sklearn.preprocessing import StandardScaler\n",
    "from sklearn.metrics import roc_curve, auc\n",
    "from sklearn.model_selection import train_test_split\n",
    "from sklearn.model_selection import GridSearchCV, cross_val_score\n",
    "from sklearn.metrics import classification_report, accuracy_score, confusion_matrix, f1_score, precision_score, recall_score"
   ]
  },
  {
   "cell_type": "code",
   "execution_count": 3,
   "metadata": {},
   "outputs": [],
   "source": [
    "def load_train_dataset():\n",
    "    df_train = pd.read_csv('USNW_train-set1.csv')\n",
    "    df_train = shuffle(df_train)\n",
    "    df_train['label'].replace({1 : -1, 0 : 1}, inplace = True)\n",
    "\n",
    "    normal = df_train.loc[df_train['label'] == 1]\n",
    "    anomaly = df_train.loc[df_train['label'] == -1]\n",
    "    \n",
    "    lim = df_train.shape[1]-1\n",
    "    limit = normal.shape[1]-1\n",
    "    \n",
    "    X_train = df_train.iloc[:,0:lim]\n",
    "    Y_train = df_train.iloc[:,lim]\n",
    "    \n",
    "    X_normal = normal.iloc[:,0:limit]\n",
    "    Y_normal = normal.iloc[:,limit]\n",
    "    \n",
    "    X_train.reset_index(inplace=True, drop=True)\n",
    "    Y_train.reset_index(inplace=True, drop=True)\n",
    "    X_normal.reset_index(inplace=True, drop=True)\n",
    "    Y_normal.reset_index(inplace=True, drop=True)\n",
    "    \n",
    "    return X_train, Y_train, X_normal, Y_normal, normal, anomaly\n",
    "\n",
    "X_train, Y_train, X_normal, Y_normal, normal, anomaly = load_train_dataset()"
   ]
  },
  {
   "cell_type": "code",
   "execution_count": 4,
   "metadata": {},
   "outputs": [],
   "source": [
    "def load_test_dataset():\n",
    "    df_test = pd.read_csv('USNW_test-set1.csv')\n",
    "    df_test = shuffle(df_test)\n",
    "    df_test['label'].replace({1 : -1, 0 : 1}, inplace = True)\n",
    "\n",
    "    limit = df_test.shape[1]-1\n",
    "    \n",
    "    X_test = df_test.iloc[:,0:limit]\n",
    "    Y_test = df_test.iloc[:,limit]\n",
    "    \n",
    "    X_test.reset_index(inplace=True, drop=True)\n",
    "    Y_test.reset_index(inplace=True, drop=True)\n",
    "    \n",
    "    return X_test, Y_test, df_test\n",
    "\n",
    "X_test, Y_test, df_test = load_test_dataset()"
   ]
  },
  {
   "cell_type": "code",
   "execution_count": 5,
   "metadata": {},
   "outputs": [],
   "source": [
    "categorical_cols = ['proto','service','state']\n",
    "\n",
    "col_trans = ColumnTransformer([('encoder', OneHotEncoder(handle_unknown='ignore'), categorical_cols)], remainder='passthrough')"
   ]
  },
  {
   "cell_type": "code",
   "execution_count": 6,
   "metadata": {},
   "outputs": [],
   "source": [
    "oneclass_classifier = OneClassSVM(gamma=0.15,nu=0.5)"
   ]
  },
  {
   "cell_type": "code",
   "execution_count": 7,
   "metadata": {},
   "outputs": [],
   "source": [
    "pipe = Pipeline([\n",
    "    ('col_trans',col_trans),\n",
    "    ('scale',StandardScaler()),\n",
    "    ('svm_model',oneclass_classifier),])"
   ]
  },
  {
   "cell_type": "code",
   "execution_count": 8,
   "metadata": {},
   "outputs": [
    {
     "data": {
      "text/plain": [
       "Pipeline(steps=[('col_trans',\n",
       "                 ColumnTransformer(remainder='passthrough',\n",
       "                                   transformers=[('encoder',\n",
       "                                                  OneHotEncoder(handle_unknown='ignore'),\n",
       "                                                  ['proto', 'service',\n",
       "                                                   'state'])])),\n",
       "                ('scale', StandardScaler()),\n",
       "                ('svm_model', OneClassSVM(gamma=0.15))])"
      ]
     },
     "execution_count": 8,
     "metadata": {},
     "output_type": "execute_result"
    }
   ],
   "source": [
    "pipe.fit(X_normal)"
   ]
  },
  {
   "cell_type": "code",
   "execution_count": null,
   "metadata": {
    "scrolled": true
   },
   "outputs": [
    {
     "name": "stdout",
     "output_type": "stream",
     "text": [
      "Fitting 5 folds for each of 64 candidates, totalling 320 fits\n",
      "[CV] svm_model__gamma=0.1, svm_model__nu=0.1 .........................\n"
     ]
    },
    {
     "name": "stderr",
     "output_type": "stream",
     "text": [
      "[Parallel(n_jobs=1)]: Using backend SequentialBackend with 1 concurrent workers.\n"
     ]
    },
    {
     "name": "stdout",
     "output_type": "stream",
     "text": [
      "[CV] .......... svm_model__gamma=0.1, svm_model__nu=0.1, total= 1.7min\n",
      "[CV] svm_model__gamma=0.1, svm_model__nu=0.1 .........................\n"
     ]
    },
    {
     "name": "stderr",
     "output_type": "stream",
     "text": [
      "[Parallel(n_jobs=1)]: Done   1 out of   1 | elapsed:  1.6min remaining:    0.0s\n"
     ]
    },
    {
     "name": "stdout",
     "output_type": "stream",
     "text": [
      "[CV] .......... svm_model__gamma=0.1, svm_model__nu=0.1, total= 1.7min\n",
      "[CV] svm_model__gamma=0.1, svm_model__nu=0.1 .........................\n",
      "[CV] .......... svm_model__gamma=0.1, svm_model__nu=0.1, total= 1.6min\n",
      "[CV] svm_model__gamma=0.1, svm_model__nu=0.1 .........................\n",
      "[CV] .......... svm_model__gamma=0.1, svm_model__nu=0.1, total= 1.7min\n",
      "[CV] svm_model__gamma=0.1, svm_model__nu=0.1 .........................\n",
      "[CV] .......... svm_model__gamma=0.1, svm_model__nu=0.1, total= 1.8min\n",
      "[CV] svm_model__gamma=0.1, svm_model__nu=0.15000000000000002 .........\n",
      "[CV]  svm_model__gamma=0.1, svm_model__nu=0.15000000000000002, total= 2.6min\n",
      "[CV] svm_model__gamma=0.1, svm_model__nu=0.15000000000000002 .........\n",
      "[CV]  svm_model__gamma=0.1, svm_model__nu=0.15000000000000002, total= 2.4min\n",
      "[CV] svm_model__gamma=0.1, svm_model__nu=0.15000000000000002 .........\n",
      "[CV]  svm_model__gamma=0.1, svm_model__nu=0.15000000000000002, total= 2.3min\n",
      "[CV] svm_model__gamma=0.1, svm_model__nu=0.15000000000000002 .........\n",
      "[CV]  svm_model__gamma=0.1, svm_model__nu=0.15000000000000002, total= 2.2min\n",
      "[CV] svm_model__gamma=0.1, svm_model__nu=0.15000000000000002 .........\n",
      "[CV]  svm_model__gamma=0.1, svm_model__nu=0.15000000000000002, total= 2.1min\n",
      "[CV] svm_model__gamma=0.1, svm_model__nu=0.20000000000000004 .........\n",
      "[CV]  svm_model__gamma=0.1, svm_model__nu=0.20000000000000004, total= 2.9min\n",
      "[CV] svm_model__gamma=0.1, svm_model__nu=0.20000000000000004 .........\n",
      "[CV]  svm_model__gamma=0.1, svm_model__nu=0.20000000000000004, total= 2.7min\n",
      "[CV] svm_model__gamma=0.1, svm_model__nu=0.20000000000000004 .........\n",
      "[CV]  svm_model__gamma=0.1, svm_model__nu=0.20000000000000004, total= 2.6min\n",
      "[CV] svm_model__gamma=0.1, svm_model__nu=0.20000000000000004 .........\n",
      "[CV]  svm_model__gamma=0.1, svm_model__nu=0.20000000000000004, total= 2.4min\n",
      "[CV] svm_model__gamma=0.1, svm_model__nu=0.20000000000000004 .........\n",
      "[CV]  svm_model__gamma=0.1, svm_model__nu=0.20000000000000004, total= 2.4min\n",
      "[CV] svm_model__gamma=0.1, svm_model__nu=0.25000000000000006 .........\n",
      "[CV]  svm_model__gamma=0.1, svm_model__nu=0.25000000000000006, total= 3.4min\n",
      "[CV] svm_model__gamma=0.1, svm_model__nu=0.25000000000000006 .........\n",
      "[CV]  svm_model__gamma=0.1, svm_model__nu=0.25000000000000006, total= 3.1min\n",
      "[CV] svm_model__gamma=0.1, svm_model__nu=0.25000000000000006 .........\n",
      "[CV]  svm_model__gamma=0.1, svm_model__nu=0.25000000000000006, total= 3.2min\n",
      "[CV] svm_model__gamma=0.1, svm_model__nu=0.25000000000000006 .........\n",
      "[CV]  svm_model__gamma=0.1, svm_model__nu=0.25000000000000006, total= 3.2min\n",
      "[CV] svm_model__gamma=0.1, svm_model__nu=0.25000000000000006 .........\n",
      "[CV]  svm_model__gamma=0.1, svm_model__nu=0.25000000000000006, total= 3.3min\n",
      "[CV] svm_model__gamma=0.1, svm_model__nu=0.30000000000000004 .........\n"
     ]
    }
   ],
   "source": [
    "param_grid = {'svm_model__gamma' : np.arange(0.1,0.5,0.05).tolist(),\n",
    "              'svm_model__nu' : np.arange(0.1,0.5,0.05).tolist()}\n",
    "\n",
    "optimal_params = GridSearchCV(\n",
    "    estimator = pipe,\n",
    "    param_grid = param_grid,\n",
    "    cv=5,\n",
    "    scoring ='accuracy',\n",
    "    verbose = 2\n",
    ")\n",
    "\n",
    "optimal_params.fit(X_test,Y_test)\n",
    "print(optimal_params.best_params_)"
   ]
  },
  {
   "cell_type": "code",
   "execution_count": 9,
   "metadata": {},
   "outputs": [],
   "source": [
    "predictions = pipe.predict(X_test)"
   ]
  },
  {
   "cell_type": "code",
   "execution_count": 10,
   "metadata": {},
   "outputs": [
    {
     "data": {
      "text/plain": [
       "array([-1,  1, -1, ...,  1,  1, -1], dtype=int64)"
      ]
     },
     "execution_count": 10,
     "metadata": {},
     "output_type": "execute_result"
    }
   ],
   "source": [
    "predictions"
   ]
  },
  {
   "cell_type": "code",
   "execution_count": 11,
   "metadata": {},
   "outputs": [
    {
     "name": "stdout",
     "output_type": "stream",
     "text": [
      "True Negatives  : 0.94\n",
      "False Positives : 0.06\n",
      "False Negatives : 0.59\n",
      "True Positives  : 0.41\n"
     ]
    },
    {
     "data": {
      "image/png": "[encoded data removed]",
      "text/plain": [
       "<Figure size 180x144 with 2 Axes>"
      ]
     },
     "metadata": {
      "needs_background": "light"
     },
     "output_type": "display_data"
    }
   ],
   "source": [
    "def plot_cm(labels, predictions):\n",
    "    cm = confusion_matrix(labels, predictions, normalize= 'true')\n",
    "    plt.figure(figsize=(2.5,2))\n",
    "    sns.heatmap(cm, annot=True, fmt=\".2f\",annot_kws={'size':12})\n",
    "    plt.ylabel('Actual label')\n",
    "    plt.xlabel('Predicted label')\n",
    "\n",
    "    print('True Negatives  : {:.2f}'.format(cm[0][0]))\n",
    "    print('False Positives : {:.2f}'.format(cm[0][1]))\n",
    "    print('False Negatives : {:.2f}'.format(cm[1][0]))\n",
    "    print('True Positives  : {:.2f}'.format(cm[1][1]))\n",
    "    \n",
    "plot_cm(Y_test,predictions)"
   ]
  },
  {
   "cell_type": "code",
   "execution_count": 12,
   "metadata": {
    "scrolled": false
   },
   "outputs": [
    {
     "name": "stdout",
     "output_type": "stream",
     "text": [
      "              precision    recall  f1-score   support\n",
      "\n",
      "          -1       0.48      0.94      0.63     19695\n",
      "           1       0.92      0.41      0.57     34204\n",
      "\n",
      "    accuracy                           0.60     53899\n",
      "   macro avg       0.70      0.67      0.60     53899\n",
      "weighted avg       0.76      0.60      0.59     53899\n",
      "\n"
     ]
    }
   ],
   "source": [
    "print(classification_report(Y_test, predictions))"
   ]
  },
  {
   "cell_type": "code",
   "execution_count": 13,
   "metadata": {},
   "outputs": [
    {
     "name": "stdout",
     "output_type": "stream",
     "text": [
      "Test set accuracy            : 0.6019\n"
     ]
    }
   ],
   "source": [
    "\n",
    "#print(\"Train set accuracy           : {:.4f}\".format(oneclass_classifier.score_samples(X_train)))\n",
    "print(\"Test set accuracy            : {:.4f}\".format(accuracy_score(Y_test, predictions)))"
   ]
  },
  {
   "cell_type": "code",
   "execution_count": 14,
   "metadata": {},
   "outputs": [
    {
     "name": "stdout",
     "output_type": "stream",
     "text": [
      "Test set precision : 0.9188\n",
      "Test set recall    : 0.4088\n",
      "Test set F1-score  : 0.5658\n"
     ]
    }
   ],
   "source": [
    "print(\"Test set precision : {:.4f}\".format(precision_score(Y_test, predictions)))\n",
    "print(\"Test set recall    : {:.4f}\".format(recall_score(Y_test, predictions)))\n",
    "print(\"Test set F1-score  : {:.4f}\".format(f1_score(Y_test, predictions)))"
   ]
  },
  {
   "cell_type": "code",
   "execution_count": 15,
   "metadata": {
    "scrolled": false
   },
   "outputs": [
    {
     "name": "stderr",
     "output_type": "stream",
     "text": [
      "c:\\users\\sharuka thirimanne\\appdata\\local\\programs\\python\\python37\\lib\\site-packages\\ipykernel_launcher.py:13: MatplotlibDeprecationWarning: Adding an axes using the same arguments as a previous axes currently reuses the earlier instance.  In a future version, a new instance will always be created and returned.  Meanwhile, this warning can be suppressed, and the future behavior ensured, by passing a unique label to each axes instance.\n",
      "  del sys.path[0]\n"
     ]
    },
    {
     "data": {
      "image/png": "[encoded data removed]",
      "text/plain": [
       "<Figure size 432x288 with 1 Axes>"
      ]
     },
     "metadata": {
      "needs_background": "light"
     },
     "output_type": "display_data"
    }
   ],
   "source": [
    "fpr_lr, tpr_lr, _ = roc_curve(Y_test, predictions)\n",
    "roc_auc_lr = auc(fpr_lr, tpr_lr)\n",
    "\n",
    "plt.figure()\n",
    "plt.xlim([-0.01, 1.00])\n",
    "plt.ylim([-0.01, 1.01])\n",
    "plt.plot(fpr_lr, tpr_lr, lw=3, label='KNN ROC curve (area = {:0.2f})'.format(roc_auc_lr))\n",
    "plt.xlabel('False Positive Rate', fontsize=16)\n",
    "plt.ylabel('True Positive Rate', fontsize=16)\n",
    "plt.title('ROC curve', fontsize=16)\n",
    "plt.legend(loc='lower right', fontsize=13)\n",
    "plt.plot([0, 1], [0, 1], color='navy', lw=3, linestyle='--')\n",
    "plt.axes().set_aspect('equal')\n",
    "plt.show()"
   ]
  }
 ],
 "metadata": {
  "kernelspec": {
   "display_name": "Python 3",
   "language": "python",
   "name": "python3"
  },
  "language_info": {
   "codemirror_mode": {
    "name": "ipython",
    "version": 3
   },
   "file_extension": ".py",
   "mimetype": "text/x-python",
   "name": "python",
   "nbconvert_exporter": "python",
   "pygments_lexer": "ipython3",
   "version": "3.7.3"
  }
 },
 "nbformat": 4,
 "nbformat_minor": 4
}
