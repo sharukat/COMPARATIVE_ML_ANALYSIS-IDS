{
 "cells": [
  {
   "cell_type": "markdown",
   "metadata": {},
   "source": [
    "# DNN - NSL"
   ]
  },
  {
   "cell_type": "code",
   "execution_count": 1,
   "metadata": {},
   "outputs": [
    {
     "name": "stdout",
     "output_type": "stream",
     "text": [
      "C:\\Users\\Sharuka Thirimanne\\Desktop\\FYP-ML-IDS\n"
     ]
    }
   ],
   "source": [
    "cd C:\\\\Users\\\\Sharuka Thirimanne\\\\Desktop\\\\FYP-ML-IDS"
   ]
  },
  {
   "cell_type": "code",
   "execution_count": 2,
   "metadata": {},
   "outputs": [
    {
     "name": "stderr",
     "output_type": "stream",
     "text": [
      "c:\\users\\sharuka thirimanne\\appdata\\local\\programs\\python\\python37\\lib\\site-packages\\tensorboard\\compat\\tensorflow_stub\\dtypes.py:541: FutureWarning: Passing (type, 1) or '1type' as a synonym of type is deprecated; in a future version of numpy, it will be understood as (type, (1,)) / '(1,)type'.\n",
      "  _np_qint8 = np.dtype([(\"qint8\", np.int8, 1)])\n",
      "c:\\users\\sharuka thirimanne\\appdata\\local\\programs\\python\\python37\\lib\\site-packages\\tensorboard\\compat\\tensorflow_stub\\dtypes.py:542: FutureWarning: Passing (type, 1) or '1type' as a synonym of type is deprecated; in a future version of numpy, it will be understood as (type, (1,)) / '(1,)type'.\n",
      "  _np_quint8 = np.dtype([(\"quint8\", np.uint8, 1)])\n",
      "c:\\users\\sharuka thirimanne\\appdata\\local\\programs\\python\\python37\\lib\\site-packages\\tensorboard\\compat\\tensorflow_stub\\dtypes.py:543: FutureWarning: Passing (type, 1) or '1type' as a synonym of type is deprecated; in a future version of numpy, it will be understood as (type, (1,)) / '(1,)type'.\n",
      "  _np_qint16 = np.dtype([(\"qint16\", np.int16, 1)])\n",
      "c:\\users\\sharuka thirimanne\\appdata\\local\\programs\\python\\python37\\lib\\site-packages\\tensorboard\\compat\\tensorflow_stub\\dtypes.py:544: FutureWarning: Passing (type, 1) or '1type' as a synonym of type is deprecated; in a future version of numpy, it will be understood as (type, (1,)) / '(1,)type'.\n",
      "  _np_quint16 = np.dtype([(\"quint16\", np.uint16, 1)])\n",
      "c:\\users\\sharuka thirimanne\\appdata\\local\\programs\\python\\python37\\lib\\site-packages\\tensorboard\\compat\\tensorflow_stub\\dtypes.py:545: FutureWarning: Passing (type, 1) or '1type' as a synonym of type is deprecated; in a future version of numpy, it will be understood as (type, (1,)) / '(1,)type'.\n",
      "  _np_qint32 = np.dtype([(\"qint32\", np.int32, 1)])\n",
      "c:\\users\\sharuka thirimanne\\appdata\\local\\programs\\python\\python37\\lib\\site-packages\\tensorboard\\compat\\tensorflow_stub\\dtypes.py:550: FutureWarning: Passing (type, 1) or '1type' as a synonym of type is deprecated; in a future version of numpy, it will be understood as (type, (1,)) / '(1,)type'.\n",
      "  np_resource = np.dtype([(\"resource\", np.ubyte, 1)])\n",
      "Using TensorFlow backend.\n"
     ]
    }
   ],
   "source": [
    "import sklearn\n",
    "import numpy as np\n",
    "import pandas as pd\n",
    "import seaborn as sns\n",
    "import tensorflow as tf\n",
    "import matplotlib as mpl\n",
    "import matplotlib.pyplot as plt\n",
    "\n",
    "from tensorflow import keras\n",
    "from keras.layers import Dense\n",
    "from keras.models import Sequential\n",
    "from sklearn.decomposition import PCA\n",
    "from tensorflow.keras import regularizers\n",
    "from tensorflow.keras import Model, layers\n",
    "from keras.wrappers.scikit_learn import KerasClassifier\n",
    "from sklearn.model_selection import GridSearchCV\n",
    "from sklearn.model_selection import cross_val_score, train_test_split\n",
    "from sklearn.metrics import accuracy_score, precision_score, recall_score, classification_report,confusion_matrix,f1_score\n",
    "from sklearn.utils import shuffle\n"
   ]
  },
  {
   "cell_type": "code",
   "execution_count": 3,
   "metadata": {},
   "outputs": [],
   "source": [
    "mpl.rcParams['figure.figsize'] = (12, 10)\n",
    "colors = plt.rcParams['axes.prop_cycle'].by_key()['color']"
   ]
  },
  {
   "cell_type": "code",
   "execution_count": 4,
   "metadata": {
    "scrolled": false
   },
   "outputs": [],
   "source": [
    "def load_train_dataset():\n",
    "    df_train = pd.read_csv('NSL_train-set.csv')\n",
    "    df_train = shuffle(df_train)\n",
    "    limit = df_train.shape[1]-1\n",
    "    \n",
    "    X_train = df_train.iloc[:,0:limit]\n",
    "    Y_train = df_train.iloc[:,limit]\n",
    "    \n",
    "    X_train.reset_index(inplace=True, drop=True)\n",
    "    Y_train.reset_index(inplace=True, drop=True)\n",
    "    \n",
    "    return X_train, Y_train, df_train\n",
    "\n",
    "X_train, Y_train, df_train = load_train_dataset()"
   ]
  },
  {
   "cell_type": "code",
   "execution_count": 5,
   "metadata": {},
   "outputs": [],
   "source": [
    "def load_test_dataset():\n",
    "    df_test = pd.read_csv('NSL_test-set.csv')\n",
    "    df_test = shuffle(df_test)\n",
    "    limit = df_test.shape[1]-1\n",
    "    \n",
    "    X_test = df_test.iloc[:,0:limit]\n",
    "    Y_test = df_test.iloc[:,limit]\n",
    "    \n",
    "    X_test.reset_index(inplace=True, drop=True)\n",
    "    Y_test.reset_index(inplace=True, drop=True)\n",
    "    \n",
    "    return X_test, Y_test, df_test\n",
    "\n",
    "X_test, Y_test, df_test = load_test_dataset()"
   ]
  },
  {
   "cell_type": "code",
   "execution_count": 6,
   "metadata": {},
   "outputs": [
    {
     "data": {
      "text/plain": [
       "(114324, 77)"
      ]
     },
     "execution_count": 6,
     "metadata": {},
     "output_type": "execute_result"
    }
   ],
   "source": [
    "X_train.shape"
   ]
  },
  {
   "cell_type": "code",
   "execution_count": 7,
   "metadata": {},
   "outputs": [],
   "source": [
    "METRICS = [ \n",
    "      keras.metrics.BinaryAccuracy(name='accuracy'),\n",
    "      keras.metrics.Precision(name='precision'),\n",
    "      keras.metrics.Recall(name='recall'),\n",
    "      keras.metrics.AUC(name='auc'),\n",
    "]"
   ]
  },
  {
   "cell_type": "code",
   "execution_count": 8,
   "metadata": {},
   "outputs": [],
   "source": [
    "early_stopping = tf.keras.callbacks.EarlyStopping(\n",
    "    monitor='accuracy', \n",
    "    verbose=1,\n",
    "    patience=5,\n",
    "    mode='max',\n",
    "    restore_best_weights=True)"
   ]
  },
  {
   "cell_type": "code",
   "execution_count": 9,
   "metadata": {},
   "outputs": [
    {
     "data": {
      "text/plain": [
       "(114324, 77)"
      ]
     },
     "execution_count": 9,
     "metadata": {},
     "output_type": "execute_result"
    }
   ],
   "source": [
    "X_train.shape"
   ]
  },
  {
   "cell_type": "code",
   "execution_count": 10,
   "metadata": {},
   "outputs": [],
   "source": [
    "\n",
    "def neural_network(optimizer='sgd', init='glorot_uniform'):\n",
    "    #Neural Network Model\n",
    "    model = Sequential()\n",
    "    model.add(Dense(256, input_dim=77, activation='relu', kernel_initializer=init, bias_initializer='zeros'))\n",
    "    model.add(Dense(256, activation='relu'))\n",
    "    model.add(Dense(256, activation='relu'))\n",
    "    model.add(Dense(256, activation='relu'))\n",
    "    model.add(Dense(256, activation='relu'))\n",
    "    model.add(Dense(256, activation='relu'))\n",
    "    model.add(Dense(256, activation='relu'))\n",
    "    model.add(Dense(1, activation='sigmoid'))\n",
    "\n",
    "    model.compile(loss='binary_crossentropy', optimizer=optimizer, metrics = METRICS)\n",
    "    \n",
    "    return model"
   ]
  },
  {
   "cell_type": "code",
   "execution_count": 11,
   "metadata": {},
   "outputs": [],
   "source": [
    "model = neural_network(optimizer='sgd', init='glorot_uniform')"
   ]
  },
  {
   "cell_type": "code",
   "execution_count": 12,
   "metadata": {},
   "outputs": [
    {
     "data": {
      "image/png": "[encoded data removed]",
      "text/plain": [
       "<IPython.core.display.Image object>"
      ]
     },
     "execution_count": 12,
     "metadata": {},
     "output_type": "execute_result"
    }
   ],
   "source": [
    "from keras.utils.vis_utils import plot_model\n",
    "plot_model(model, to_file='model_plot.png', show_shapes=True, show_layer_names=True)"
   ]
  },
  {
   "cell_type": "code",
   "execution_count": 11,
   "metadata": {
    "scrolled": true
   },
   "outputs": [
    {
     "name": "stdout",
     "output_type": "stream",
     "text": [
      "Train on 91459 samples, validate on 22865 samples\n",
      "Epoch 1/200\n",
      "91459/91459 [==============================] - 8s 89us/step - loss: 0.2821 - accuracy: 0.8493 - precision: 0.8181 - recall: 0.8883 - auc: 0.9008 - val_loss: 0.0792 - val_accuracy: 0.9321 - val_precision: 0.9196 - val_recall: 0.9471 - val_auc: 0.9752\n",
      "Epoch 2/200\n",
      "91459/91459 [==============================] - 8s 84us/step - loss: 0.0635 - accuracy: 0.9478 - precision: 0.9417 - recall: 0.9545 - auc: 0.9839 - val_loss: 0.0522 - val_accuracy: 0.9571 - val_precision: 0.9548 - val_recall: 0.9596 - val_auc: 0.9887\n",
      "Epoch 3/200\n",
      "91459/91459 [==============================] - 7s 79us/step - loss: 0.0399 - accuracy: 0.9626 - precision: 0.9620 - recall: 0.9633 - auc: 0.9913 - val_loss: 0.0345 - val_accuracy: 0.9672 - val_precision: 0.9670 - val_recall: 0.9674 - val_auc: 0.9932\n",
      "Epoch 4/200\n",
      "91459/91459 [==============================] - 7s 75us/step - loss: 0.0297 - accuracy: 0.9706 - precision: 0.9704 - recall: 0.9709 - auc: 0.9943 - val_loss: 0.0329 - val_accuracy: 0.9734 - val_precision: 0.9733 - val_recall: 0.9735 - val_auc: 0.9952\n",
      "Epoch 5/200\n",
      "91459/91459 [==============================] - 8s 85us/step - loss: 0.0293 - accuracy: 0.9754 - precision: 0.9754 - recall: 0.9753 - auc: 0.9958 - val_loss: 0.0265 - val_accuracy: 0.9771 - val_precision: 0.9772 - val_recall: 0.9771 - val_auc: 0.9963\n",
      "Epoch 6/200\n",
      "91459/91459 [==============================] - 7s 81us/step - loss: 0.0231 - accuracy: 0.9786 - precision: 0.9787 - recall: 0.9785 - auc: 0.9967 - val_loss: 0.0336 - val_accuracy: 0.9798 - val_precision: 0.9799 - val_recall: 0.9797 - val_auc: 0.9970\n",
      "Epoch 7/200\n",
      "91459/91459 [==============================] - 8s 93us/step - loss: 0.0232 - accuracy: 0.9808 - precision: 0.9810 - recall: 0.9805 - auc: 0.9972 - val_loss: 0.0261 - val_accuracy: 0.9816 - val_precision: 0.9819 - val_recall: 0.9814 - val_auc: 0.9974\n",
      "Epoch 8/200\n",
      "91459/91459 [==============================] - 8s 83us/step - loss: 0.0199 - accuracy: 0.9824 - precision: 0.9826 - recall: 0.9821 - auc: 0.9976 - val_loss: 0.0259 - val_accuracy: 0.9831 - val_precision: 0.9833 - val_recall: 0.9829 - val_auc: 0.9977\n",
      "Epoch 9/200\n",
      "91459/91459 [==============================] - 8s 86us/step - loss: 0.0185 - accuracy: 0.9837 - precision: 0.9838 - recall: 0.9836 - auc: 0.9979 - val_loss: 0.0289 - val_accuracy: 0.9843 - val_precision: 0.9844 - val_recall: 0.9842 - val_auc: 0.9980\n",
      "Epoch 10/200\n",
      "91459/91459 [==============================] - 8s 87us/step - loss: 0.0192 - accuracy: 0.9848 - precision: 0.9848 - recall: 0.9848 - auc: 0.9981 - val_loss: 0.0235 - val_accuracy: 0.9852 - val_precision: 0.9853 - val_recall: 0.9852 - val_auc: 0.9982\n",
      "Epoch 11/200\n",
      "91459/91459 [==============================] - 8s 82us/step - loss: 0.0186 - accuracy: 0.9857 - precision: 0.9857 - recall: 0.9857 - auc: 0.9982 - val_loss: 0.0211 - val_accuracy: 0.9861 - val_precision: 0.9861 - val_recall: 0.9861 - val_auc: 0.9983\n",
      "Epoch 12/200\n",
      "91459/91459 [==============================] - 8s 87us/step - loss: 0.0168 - accuracy: 0.9864 - precision: 0.9865 - recall: 0.9864 - auc: 0.9984 - val_loss: 0.0209 - val_accuracy: 0.9868 - val_precision: 0.9868 - val_recall: 0.9868 - val_auc: 0.9984\n",
      "Epoch 13/200\n",
      "91459/91459 [==============================] - 7s 75us/step - loss: 0.0159 - accuracy: 0.9871 - precision: 0.9871 - recall: 0.9871 - auc: 0.9985 - val_loss: 0.0215 - val_accuracy: 0.9874 - val_precision: 0.9874 - val_recall: 0.9873 - val_auc: 0.9986\n",
      "Epoch 14/200\n",
      "91459/91459 [==============================] - 8s 88us/step - loss: 0.0169 - accuracy: 0.9876 - precision: 0.9877 - recall: 0.9876 - auc: 0.9986 - val_loss: 0.0204 - val_accuracy: 0.9879 - val_precision: 0.9879 - val_recall: 0.9879 - val_auc: 0.9986\n",
      "Epoch 15/200\n",
      "91459/91459 [==============================] - 8s 88us/step - loss: 0.0146 - accuracy: 0.9881 - precision: 0.9882 - recall: 0.9881 - auc: 0.9987 - val_loss: 0.0195 - val_accuracy: 0.9884 - val_precision: 0.9884 - val_recall: 0.9883 - val_auc: 0.9987\n",
      "Epoch 16/200\n",
      "91459/91459 [==============================] - 8s 89us/step - loss: 0.0146 - accuracy: 0.9886 - precision: 0.9887 - recall: 0.9886 - auc: 0.9988 - val_loss: 0.0218 - val_accuracy: 0.9888 - val_precision: 0.9889 - val_recall: 0.9888 - val_auc: 0.9988\n",
      "Epoch 17/200\n",
      "91459/91459 [==============================] - 8s 87us/step - loss: 0.0145 - accuracy: 0.9890 - precision: 0.9891 - recall: 0.9889 - auc: 0.9988 - val_loss: 0.0197 - val_accuracy: 0.9892 - val_precision: 0.9893 - val_recall: 0.9891 - val_auc: 0.9988\n",
      "Epoch 18/200\n",
      "91459/91459 [==============================] - 8s 82us/step - loss: 0.0144 - accuracy: 0.9894 - precision: 0.9894 - recall: 0.9893 - auc: 0.9989 - val_loss: 0.0206 - val_accuracy: 0.9895 - val_precision: 0.9896 - val_recall: 0.9895 - val_auc: 0.9989\n",
      "Epoch 19/200\n",
      "91459/91459 [==============================] - 8s 85us/step - loss: 0.0137 - accuracy: 0.9897 - precision: 0.9898 - recall: 0.9896 - auc: 0.9989 - val_loss: 0.0202 - val_accuracy: 0.9899 - val_precision: 0.9899 - val_recall: 0.9898 - val_auc: 0.9989\n",
      "Epoch 20/200\n",
      "91459/91459 [==============================] - 8s 87us/step - loss: 0.0137 - accuracy: 0.9900 - precision: 0.9901 - recall: 0.9899 - auc: 0.9990 - val_loss: 0.0205 - val_accuracy: 0.9901 - val_precision: 0.9902 - val_recall: 0.9900 - val_auc: 0.9990\n",
      "Epoch 21/200\n",
      "91459/91459 [==============================] - 8s 91us/step - loss: 0.0135 - accuracy: 0.9903 - precision: 0.9904 - recall: 0.9901 - auc: 0.9990 - val_loss: 0.0191 - val_accuracy: 0.9904 - val_precision: 0.9905 - val_recall: 0.9902 - val_auc: 0.9990\n",
      "Epoch 22/200\n",
      "91459/91459 [==============================] - 9s 93us/step - loss: 0.0131 - accuracy: 0.9905 - precision: 0.9906 - recall: 0.9904 - auc: 0.9990 - val_loss: 0.0171 - val_accuracy: 0.9906 - val_precision: 0.9908 - val_recall: 0.9905 - val_auc: 0.9990\n",
      "Epoch 23/200\n",
      "91459/91459 [==============================] - 8s 85us/step - loss: 0.0134 - accuracy: 0.9907 - precision: 0.9909 - recall: 0.9906 - auc: 0.9991 - val_loss: 0.0211 - val_accuracy: 0.9908 - val_precision: 0.9910 - val_recall: 0.9907 - val_auc: 0.9991\n",
      "Epoch 24/200\n",
      "91459/91459 [==============================] - 8s 91us/step - loss: 0.0120 - accuracy: 0.9909 - precision: 0.9911 - recall: 0.9907 - auc: 0.9991 - val_loss: 0.0182 - val_accuracy: 0.9911 - val_precision: 0.9913 - val_recall: 0.9908 - val_auc: 0.9991\n",
      "Epoch 25/200\n",
      "91459/91459 [==============================] - 8s 85us/step - loss: 0.0120 - accuracy: 0.9911 - precision: 0.9914 - recall: 0.9909 - auc: 0.9991 - val_loss: 0.0208 - val_accuracy: 0.9912 - val_precision: 0.9915 - val_recall: 0.9910 - val_auc: 0.9991\n",
      "Epoch 26/200\n",
      "91459/91459 [==============================] - 8s 88us/step - loss: 0.0121 - accuracy: 0.9913 - precision: 0.9916 - recall: 0.9911 - auc: 0.9991 - val_loss: 0.0233 - val_accuracy: 0.9914 - val_precision: 0.9916 - val_recall: 0.9912 - val_auc: 0.9991\n",
      "Epoch 27/200\n",
      "91459/91459 [==============================] - 8s 88us/step - loss: 0.0115 - accuracy: 0.9915 - precision: 0.9917 - recall: 0.9913 - auc: 0.9991 - val_loss: 0.0184 - val_accuracy: 0.9916 - val_precision: 0.9918 - val_recall: 0.9914 - val_auc: 0.9992\n",
      "Epoch 28/200\n",
      "91459/91459 [==============================] - 8s 88us/step - loss: 0.0110 - accuracy: 0.9917 - precision: 0.9919 - recall: 0.9915 - auc: 0.9992 - val_loss: 0.0204 - val_accuracy: 0.9918 - val_precision: 0.9920 - val_recall: 0.9915 - val_auc: 0.9992\n",
      "Epoch 29/200\n",
      "91459/91459 [==============================] - 8s 89us/step - loss: 0.0114 - accuracy: 0.9918 - precision: 0.9921 - recall: 0.9916 - auc: 0.9992 - val_loss: 0.0175 - val_accuracy: 0.9919 - val_precision: 0.9922 - val_recall: 0.9917 - val_auc: 0.9992\n",
      "Epoch 30/200\n",
      "91459/91459 [==============================] - 8s 84us/step - loss: 0.0114 - accuracy: 0.9920 - precision: 0.9922 - recall: 0.9917 - auc: 0.9992 - val_loss: 0.0197 - val_accuracy: 0.9921 - val_precision: 0.9923 - val_recall: 0.9918 - val_auc: 0.9992\n",
      "Epoch 31/200\n",
      "91459/91459 [==============================] - 8s 91us/step - loss: 0.0108 - accuracy: 0.9921 - precision: 0.9924 - recall: 0.9919 - auc: 0.9992 - val_loss: 0.0185 - val_accuracy: 0.9922 - val_precision: 0.9925 - val_recall: 0.9919 - val_auc: 0.9992\n"
     ]
    },
    {
     "name": "stdout",
     "output_type": "stream",
     "text": [
      "Epoch 32/200\n",
      "91459/91459 [==============================] - 8s 86us/step - loss: 0.0103 - accuracy: 0.9923 - precision: 0.9925 - recall: 0.9920 - auc: 0.9992 - val_loss: 0.0186 - val_accuracy: 0.9923 - val_precision: 0.9926 - val_recall: 0.9921 - val_auc: 0.9992\n",
      "Epoch 33/200\n",
      "91459/91459 [==============================] - 6s 68us/step - loss: 0.0101 - accuracy: 0.9924 - precision: 0.9927 - recall: 0.9921 - auc: 0.9993 - val_loss: 0.0194 - val_accuracy: 0.9925 - val_precision: 0.9927 - val_recall: 0.9922 - val_auc: 0.9993\n",
      "Epoch 34/200\n",
      "91459/91459 [==============================] - 6s 65us/step - loss: 0.0104 - accuracy: 0.9925 - precision: 0.9928 - recall: 0.9922 - auc: 0.9993 - val_loss: 0.0177 - val_accuracy: 0.9926 - val_precision: 0.9929 - val_recall: 0.9923 - val_auc: 0.9993\n",
      "Epoch 35/200\n",
      "91459/91459 [==============================] - 8s 86us/step - loss: 0.0101 - accuracy: 0.9926 - precision: 0.9929 - recall: 0.9924 - auc: 0.9993 - val_loss: 0.0177 - val_accuracy: 0.9927 - val_precision: 0.9930 - val_recall: 0.9924 - val_auc: 0.9993\n",
      "Epoch 36/200\n",
      "91459/91459 [==============================] - 8s 84us/step - loss: 0.0097 - accuracy: 0.9928 - precision: 0.9930 - recall: 0.9925 - auc: 0.9993 - val_loss: 0.0187 - val_accuracy: 0.9928 - val_precision: 0.9931 - val_recall: 0.9925 - val_auc: 0.9993\n",
      "Epoch 37/200\n",
      "91459/91459 [==============================] - 7s 75us/step - loss: 0.0091 - accuracy: 0.9929 - precision: 0.9931 - recall: 0.9926 - auc: 0.9993 - val_loss: 0.0194 - val_accuracy: 0.9929 - val_precision: 0.9932 - val_recall: 0.9926 - val_auc: 0.9993\n",
      "Epoch 38/200\n",
      "91459/91459 [==============================] - 6s 63us/step - loss: 0.0094 - accuracy: 0.9930 - precision: 0.9932 - recall: 0.9927 - auc: 0.9993 - val_loss: 0.0160 - val_accuracy: 0.9930 - val_precision: 0.9933 - val_recall: 0.9927 - val_auc: 0.9993\n",
      "Epoch 39/200\n",
      "91459/91459 [==============================] - 7s 80us/step - loss: 0.0095 - accuracy: 0.9931 - precision: 0.9933 - recall: 0.9928 - auc: 0.9993 - val_loss: 0.0193 - val_accuracy: 0.9931 - val_precision: 0.9934 - val_recall: 0.9928 - val_auc: 0.9993\n",
      "Epoch 40/200\n",
      "91459/91459 [==============================] - 8s 85us/step - loss: 0.0090 - accuracy: 0.9932 - precision: 0.9934 - recall: 0.9929 - auc: 0.9993 - val_loss: 0.0205 - val_accuracy: 0.9932 - val_precision: 0.9935 - val_recall: 0.9929 - val_auc: 0.9993\n",
      "Epoch 41/200\n",
      "91459/91459 [==============================] - 7s 77us/step - loss: 0.0091 - accuracy: 0.9932 - precision: 0.9935 - recall: 0.9930 - auc: 0.9993 - val_loss: 0.0183 - val_accuracy: 0.9933 - val_precision: 0.9936 - val_recall: 0.9930 - val_auc: 0.9994\n",
      "Epoch 42/200\n",
      "91459/91459 [==============================] - 6s 66us/step - loss: 0.0086 - accuracy: 0.9933 - precision: 0.9936 - recall: 0.9930 - auc: 0.9994 - val_loss: 0.0184 - val_accuracy: 0.9934 - val_precision: 0.9937 - val_recall: 0.9931 - val_auc: 0.9994\n",
      "Epoch 43/200\n",
      "91459/91459 [==============================] - 7s 76us/step - loss: 0.0086 - accuracy: 0.9934 - precision: 0.9937 - recall: 0.9931 - auc: 0.9994 - val_loss: 0.0193 - val_accuracy: 0.9935 - val_precision: 0.9938 - val_recall: 0.9931 - val_auc: 0.9994\n",
      "Epoch 44/200\n",
      "91459/91459 [==============================] - 8s 85us/step - loss: 0.0086 - accuracy: 0.9935 - precision: 0.9938 - recall: 0.9932 - auc: 0.9994 - val_loss: 0.0177 - val_accuracy: 0.9935 - val_precision: 0.9938 - val_recall: 0.9932 - val_auc: 0.9994\n",
      "Epoch 45/200\n",
      "91459/91459 [==============================] - 8s 88us/step - loss: 0.0082 - accuracy: 0.9936 - precision: 0.9939 - recall: 0.9932 - auc: 0.9994 - val_loss: 0.0198 - val_accuracy: 0.9936 - val_precision: 0.9939 - val_recall: 0.9933 - val_auc: 0.9994\n",
      "Epoch 46/200\n",
      "91459/91459 [==============================] - 6s 67us/step - loss: 0.0091 - accuracy: 0.9936 - precision: 0.9940 - recall: 0.9933 - auc: 0.9994 - val_loss: 0.0214 - val_accuracy: 0.9937 - val_precision: 0.9940 - val_recall: 0.9933 - val_auc: 0.9994\n",
      "Epoch 47/200\n",
      "91459/91459 [==============================] - 6s 66us/step - loss: 0.0084 - accuracy: 0.9937 - precision: 0.9940 - recall: 0.9934 - auc: 0.9994 - val_loss: 0.0166 - val_accuracy: 0.9937 - val_precision: 0.9941 - val_recall: 0.9934 - val_auc: 0.9994\n",
      "Epoch 48/200\n",
      "91459/91459 [==============================] - 6s 66us/step - loss: 0.0084 - accuracy: 0.9938 - precision: 0.9941 - recall: 0.9935 - auc: 0.9994 - val_loss: 0.0179 - val_accuracy: 0.9938 - val_precision: 0.9941 - val_recall: 0.9935 - val_auc: 0.9994\n",
      "Epoch 49/200\n",
      "91459/91459 [==============================] - 5s 58us/step - loss: 0.0079 - accuracy: 0.9938 - precision: 0.9942 - recall: 0.9935 - auc: 0.9994 - val_loss: 0.0185 - val_accuracy: 0.9939 - val_precision: 0.9942 - val_recall: 0.9936 - val_auc: 0.9994\n",
      "Epoch 50/200\n",
      "91459/91459 [==============================] - 5s 58us/step - loss: 0.0081 - accuracy: 0.9939 - precision: 0.9942 - recall: 0.9936 - auc: 0.9994 - val_loss: 0.0220 - val_accuracy: 0.9939 - val_precision: 0.9943 - val_recall: 0.9936 - val_auc: 0.9994\n",
      "Epoch 51/200\n",
      "91459/91459 [==============================] - 5s 58us/step - loss: 0.0086 - accuracy: 0.9940 - precision: 0.9943 - recall: 0.9936 - auc: 0.9994 - val_loss: 0.0191 - val_accuracy: 0.9940 - val_precision: 0.9943 - val_recall: 0.9937 - val_auc: 0.9994\n",
      "Epoch 52/200\n",
      "91459/91459 [==============================] - 5s 60us/step - loss: 0.0080 - accuracy: 0.9940 - precision: 0.9944 - recall: 0.9937 - auc: 0.9994 - val_loss: 0.0180 - val_accuracy: 0.9941 - val_precision: 0.9944 - val_recall: 0.9937 - val_auc: 0.9994\n",
      "Epoch 53/200\n",
      "91459/91459 [==============================] - 6s 62us/step - loss: 0.0078 - accuracy: 0.9941 - precision: 0.9944 - recall: 0.9938 - auc: 0.9994 - val_loss: 0.0179 - val_accuracy: 0.9941 - val_precision: 0.9945 - val_recall: 0.9938 - val_auc: 0.9994\n",
      "Epoch 54/200\n",
      "91459/91459 [==============================] - 5s 58us/step - loss: 0.0080 - accuracy: 0.9941 - precision: 0.9945 - recall: 0.9938 - auc: 0.9994 - val_loss: 0.0168 - val_accuracy: 0.9942 - val_precision: 0.9945 - val_recall: 0.9938 - val_auc: 0.9994\n",
      "Epoch 55/200\n",
      "91459/91459 [==============================] - 5s 60us/step - loss: 0.0076 - accuracy: 0.9942 - precision: 0.9945 - recall: 0.9939 - auc: 0.9994 - val_loss: 0.0161 - val_accuracy: 0.9942 - val_precision: 0.9946 - val_recall: 0.9939 - val_auc: 0.9995\n",
      "Epoch 56/200\n",
      "91459/91459 [==============================] - 5s 58us/step - loss: 0.0073 - accuracy: 0.9943 - precision: 0.9946 - recall: 0.9939 - auc: 0.9995 - val_loss: 0.0165 - val_accuracy: 0.9943 - val_precision: 0.9946 - val_recall: 0.9939 - val_auc: 0.9995\n",
      "Epoch 57/200\n",
      "91459/91459 [==============================] - 5s 57us/step - loss: 0.0073 - accuracy: 0.9943 - precision: 0.9947 - recall: 0.9940 - auc: 0.9995 - val_loss: 0.0175 - val_accuracy: 0.9943 - val_precision: 0.9947 - val_recall: 0.9940 - val_auc: 0.9995\n",
      "Epoch 58/200\n",
      "91459/91459 [==============================] - 5s 58us/step - loss: 0.0080 - accuracy: 0.9944 - precision: 0.9947 - recall: 0.9940 - auc: 0.9995 - val_loss: 0.0203 - val_accuracy: 0.9944 - val_precision: 0.9947 - val_recall: 0.9940 - val_auc: 0.9995\n",
      "Epoch 59/200\n",
      "91459/91459 [==============================] - 5s 57us/step - loss: 0.0075 - accuracy: 0.9944 - precision: 0.9947 - recall: 0.9941 - auc: 0.9995 - val_loss: 0.0181 - val_accuracy: 0.9944 - val_precision: 0.9948 - val_recall: 0.9941 - val_auc: 0.9995\n",
      "Epoch 60/200\n",
      "91459/91459 [==============================] - 5s 60us/step - loss: 0.0080 - accuracy: 0.9945 - precision: 0.9948 - recall: 0.9941 - auc: 0.9995 - val_loss: 0.0181 - val_accuracy: 0.9945 - val_precision: 0.9948 - val_recall: 0.9941 - val_auc: 0.9995\n",
      "Epoch 61/200\n",
      "91459/91459 [==============================] - 5s 60us/step - loss: 0.0074 - accuracy: 0.9945 - precision: 0.9949 - recall: 0.9941 - auc: 0.9995 - val_loss: 0.0169 - val_accuracy: 0.9945 - val_precision: 0.9949 - val_recall: 0.9942 - val_auc: 0.9995\n",
      "Epoch 62/200\n",
      "91459/91459 [==============================] - 6s 63us/step - loss: 0.0071 - accuracy: 0.9946 - precision: 0.9949 - recall: 0.9942 - auc: 0.9995 - val_loss: 0.0174 - val_accuracy: 0.9946 - val_precision: 0.9949 - val_recall: 0.9942 - val_auc: 0.9995\n",
      "Epoch 63/200\n",
      "91459/91459 [==============================] - 5s 58us/step - loss: 0.0072 - accuracy: 0.9946 - precision: 0.9949 - recall: 0.9942 - auc: 0.9995 - val_loss: 0.0195 - val_accuracy: 0.9946 - val_precision: 0.9950 - val_recall: 0.9943 - val_auc: 0.9995\n",
      "Epoch 64/200\n",
      "91459/91459 [==============================] - 5s 58us/step - loss: 0.0071 - accuracy: 0.9946 - precision: 0.9950 - recall: 0.9943 - auc: 0.9995 - val_loss: 0.0189 - val_accuracy: 0.9947 - val_precision: 0.9950 - val_recall: 0.9943 - val_auc: 0.9995\n",
      "Epoch 65/200\n",
      "91459/91459 [==============================] - 6s 61us/step - loss: 0.0068 - accuracy: 0.9947 - precision: 0.9950 - recall: 0.9943 - auc: 0.9995 - val_loss: 0.0190 - val_accuracy: 0.9947 - val_precision: 0.9951 - val_recall: 0.9943 - val_auc: 0.9995\n",
      "Epoch 66/200\n",
      "91459/91459 [==============================] - 5s 60us/step - loss: 0.0068 - accuracy: 0.9947 - precision: 0.9951 - recall: 0.9943 - auc: 0.9995 - val_loss: 0.0205 - val_accuracy: 0.9947 - val_precision: 0.9951 - val_recall: 0.9944 - val_auc: 0.9995\n",
      "Epoch 67/200\n",
      "91459/91459 [==============================] - 5s 60us/step - loss: 0.0068 - accuracy: 0.9947 - precision: 0.9951 - recall: 0.9944 - auc: 0.9995 - val_loss: 0.0183 - val_accuracy: 0.9948 - val_precision: 0.9952 - val_recall: 0.9944 - val_auc: 0.9995\n",
      "Epoch 68/200\n",
      "91459/91459 [==============================] - 7s 72us/step - loss: 0.0068 - accuracy: 0.9948 - precision: 0.9952 - recall: 0.9944 - auc: 0.9995 - val_loss: 0.0168 - val_accuracy: 0.9948 - val_precision: 0.9952 - val_recall: 0.9944 - val_auc: 0.9995\n",
      "Epoch 69/200\n",
      "91459/91459 [==============================] - 6s 62us/step - loss: 0.0066 - accuracy: 0.9948 - precision: 0.9952 - recall: 0.9944 - auc: 0.9995 - val_loss: 0.0191 - val_accuracy: 0.9948 - val_precision: 0.9952 - val_recall: 0.9945 - val_auc: 0.9995\n",
      "Epoch 70/200\n",
      "91459/91459 [==============================] - 6s 65us/step - loss: 0.0067 - accuracy: 0.9949 - precision: 0.9952 - recall: 0.9945 - auc: 0.9995 - val_loss: 0.0175 - val_accuracy: 0.9949 - val_precision: 0.9953 - val_recall: 0.9945 - val_auc: 0.9995\n",
      "Epoch 71/200\n",
      "91459/91459 [==============================] - 6s 63us/step - loss: 0.0066 - accuracy: 0.9949 - precision: 0.9953 - recall: 0.9945 - auc: 0.9995 - val_loss: 0.0178 - val_accuracy: 0.9949 - val_precision: 0.9953 - val_recall: 0.9945 - val_auc: 0.9995\n",
      "Epoch 72/200\n",
      "91459/91459 [==============================] - 5s 58us/step - loss: 0.0064 - accuracy: 0.9949 - precision: 0.9953 - recall: 0.9945 - auc: 0.9995 - val_loss: 0.0171 - val_accuracy: 0.9949 - val_precision: 0.9953 - val_recall: 0.9946 - val_auc: 0.9995\n",
      "Epoch 73/200\n",
      "91459/91459 [==============================] - 5s 58us/step - loss: 0.0067 - accuracy: 0.9950 - precision: 0.9954 - recall: 0.9946 - auc: 0.9995 - val_loss: 0.0176 - val_accuracy: 0.9950 - val_precision: 0.9954 - val_recall: 0.9946 - val_auc: 0.9995\n",
      "Epoch 74/200\n",
      "91459/91459 [==============================] - 5s 58us/step - loss: 0.0064 - accuracy: 0.9950 - precision: 0.9954 - recall: 0.9946 - auc: 0.9995 - val_loss: 0.0180 - val_accuracy: 0.9950 - val_precision: 0.9954 - val_recall: 0.9946 - val_auc: 0.9995\n",
      "Epoch 75/200\n",
      "91459/91459 [==============================] - 5s 56us/step - loss: 0.0063 - accuracy: 0.9950 - precision: 0.9954 - recall: 0.9946 - auc: 0.9995 - val_loss: 0.0171 - val_accuracy: 0.9950 - val_precision: 0.9954 - val_recall: 0.9947 - val_auc: 0.9995\n",
      "Epoch 76/200\n",
      "91459/91459 [==============================] - 5s 56us/step - loss: 0.0067 - accuracy: 0.9951 - precision: 0.9955 - recall: 0.9947 - auc: 0.9995 - val_loss: 0.0168 - val_accuracy: 0.9951 - val_precision: 0.9955 - val_recall: 0.9947 - val_auc: 0.9995\n",
      "Epoch 77/200\n",
      "91459/91459 [==============================] - 5s 58us/step - loss: 0.0064 - accuracy: 0.9951 - precision: 0.9955 - recall: 0.9947 - auc: 0.9996 - val_loss: 0.0178 - val_accuracy: 0.9951 - val_precision: 0.9955 - val_recall: 0.9947 - val_auc: 0.9995\n",
      "Epoch 78/200\n",
      "91459/91459 [==============================] - 5s 60us/step - loss: 0.0064 - accuracy: 0.9951 - precision: 0.9955 - recall: 0.9947 - auc: 0.9996 - val_loss: 0.0167 - val_accuracy: 0.9951 - val_precision: 0.9955 - val_recall: 0.9947 - val_auc: 0.9995\n",
      "Epoch 79/200\n",
      "91459/91459 [==============================] - 5s 59us/step - loss: 0.0064 - accuracy: 0.9952 - precision: 0.9955 - recall: 0.9947 - auc: 0.9996 - val_loss: 0.0174 - val_accuracy: 0.9952 - val_precision: 0.9956 - val_recall: 0.9948 - val_auc: 0.9996\n",
      "Epoch 80/200\n",
      "91459/91459 [==============================] - 5s 57us/step - loss: 0.0062 - accuracy: 0.9952 - precision: 0.9956 - recall: 0.9948 - auc: 0.9996 - val_loss: 0.0173 - val_accuracy: 0.9952 - val_precision: 0.9956 - val_recall: 0.9948 - val_auc: 0.9996\n",
      "Epoch 81/200\n",
      "91459/91459 [==============================] - 5s 56us/step - loss: 0.0064 - accuracy: 0.9952 - precision: 0.9956 - recall: 0.9948 - auc: 0.9996 - val_loss: 0.0194 - val_accuracy: 0.9952 - val_precision: 0.9956 - val_recall: 0.9948 - val_auc: 0.9996\n",
      "Epoch 82/200\n",
      "91459/91459 [==============================] - 5s 56us/step - loss: 0.0063 - accuracy: 0.9952 - precision: 0.9956 - recall: 0.9948 - auc: 0.9996 - val_loss: 0.0172 - val_accuracy: 0.9952 - val_precision: 0.9957 - val_recall: 0.9948 - val_auc: 0.9996\n",
      "Epoch 83/200\n",
      "91459/91459 [==============================] - 5s 57us/step - loss: 0.0083 - accuracy: 0.9953 - precision: 0.9957 - recall: 0.9949 - auc: 0.9996 - val_loss: 0.0175 - val_accuracy: 0.9953 - val_precision: 0.9957 - val_recall: 0.9949 - val_auc: 0.9996\n",
      "Epoch 84/200\n",
      "91459/91459 [==============================] - 5s 58us/step - loss: 0.0061 - accuracy: 0.9953 - precision: 0.9957 - recall: 0.9949 - auc: 0.9996 - val_loss: 0.0187 - val_accuracy: 0.9953 - val_precision: 0.9957 - val_recall: 0.9949 - val_auc: 0.9996\n",
      "Epoch 85/200\n",
      "91459/91459 [==============================] - 5s 57us/step - loss: 0.0063 - accuracy: 0.9953 - precision: 0.9957 - recall: 0.9949 - auc: 0.9996 - val_loss: 0.0181 - val_accuracy: 0.9953 - val_precision: 0.9957 - val_recall: 0.9949 - val_auc: 0.9996\n",
      "Epoch 86/200\n",
      "91459/91459 [==============================] - 6s 68us/step - loss: 0.0061 - accuracy: 0.9953 - precision: 0.9957 - recall: 0.9949 - auc: 0.9996 - val_loss: 0.0182 - val_accuracy: 0.9953 - val_precision: 0.9957 - val_recall: 0.9950 - val_auc: 0.9996\n",
      "Epoch 87/200\n",
      "91459/91459 [==============================] - 8s 83us/step - loss: 0.0063 - accuracy: 0.9954 - precision: 0.9958 - recall: 0.9950 - auc: 0.9996 - val_loss: 0.0186 - val_accuracy: 0.9954 - val_precision: 0.9958 - val_recall: 0.9950 - val_auc: 0.9996\n",
      "Epoch 88/200\n",
      "91459/91459 [==============================] - 8s 85us/step - loss: 0.0059 - accuracy: 0.9954 - precision: 0.9958 - recall: 0.9950 - auc: 0.9996 - val_loss: 0.0277 - val_accuracy: 0.9954 - val_precision: 0.9958 - val_recall: 0.9950 - val_auc: 0.9996\n",
      "Epoch 89/200\n",
      "91459/91459 [==============================] - 7s 82us/step - loss: 0.0059 - accuracy: 0.9954 - precision: 0.9958 - recall: 0.9950 - auc: 0.9996 - val_loss: 0.0181 - val_accuracy: 0.9954 - val_precision: 0.9958 - val_recall: 0.9950 - val_auc: 0.9996\n",
      "Epoch 90/200\n",
      "91459/91459 [==============================] - 5s 60us/step - loss: 0.0061 - accuracy: 0.9954 - precision: 0.9958 - recall: 0.9950 - auc: 0.9996 - val_loss: 0.0176 - val_accuracy: 0.9954 - val_precision: 0.9958 - val_recall: 0.9950 - val_auc: 0.9996\n",
      "Epoch 91/200\n",
      "91459/91459 [==============================] - 6s 67us/step - loss: 0.0059 - accuracy: 0.9955 - precision: 0.9958 - recall: 0.9950 - auc: 0.9996 - val_loss: 0.0188 - val_accuracy: 0.9955 - val_precision: 0.9959 - val_recall: 0.9951 - val_auc: 0.9996\n",
      "Epoch 92/200\n",
      "91459/91459 [==============================] - 6s 61us/step - loss: 0.0060 - accuracy: 0.9955 - precision: 0.9959 - recall: 0.9951 - auc: 0.9996 - val_loss: 0.0183 - val_accuracy: 0.9955 - val_precision: 0.9959 - val_recall: 0.9951 - val_auc: 0.9996\n",
      "Epoch 93/200\n",
      "91459/91459 [==============================] - 5s 60us/step - loss: 0.0059 - accuracy: 0.9955 - precision: 0.9959 - recall: 0.9951 - auc: 0.9996 - val_loss: 0.0229 - val_accuracy: 0.9955 - val_precision: 0.9959 - val_recall: 0.9951 - val_auc: 0.9996\n",
      "Epoch 94/200\n"
     ]
    },
    {
     "name": "stdout",
     "output_type": "stream",
     "text": [
      "91459/91459 [==============================] - 6s 63us/step - loss: 0.0062 - accuracy: 0.9955 - precision: 0.9959 - recall: 0.9951 - auc: 0.9996 - val_loss: 0.0193 - val_accuracy: 0.9955 - val_precision: 0.9959 - val_recall: 0.9951 - val_auc: 0.9996\n",
      "Epoch 95/200\n",
      "91459/91459 [==============================] - 5s 59us/step - loss: 0.0060 - accuracy: 0.9955 - precision: 0.9959 - recall: 0.9951 - auc: 0.9996 - val_loss: 0.0199 - val_accuracy: 0.9955 - val_precision: 0.9960 - val_recall: 0.9951 - val_auc: 0.9996\n",
      "Epoch 96/200\n",
      "91459/91459 [==============================] - 5s 57us/step - loss: 0.0058 - accuracy: 0.9955 - precision: 0.9960 - recall: 0.9951 - auc: 0.9996 - val_loss: 0.0179 - val_accuracy: 0.9956 - val_precision: 0.9960 - val_recall: 0.9951 - val_auc: 0.9996\n",
      "Epoch 97/200\n",
      "91459/91459 [==============================] - 6s 67us/step - loss: 0.0059 - accuracy: 0.9956 - precision: 0.9960 - recall: 0.9952 - auc: 0.9996 - val_loss: 0.0181 - val_accuracy: 0.9956 - val_precision: 0.9960 - val_recall: 0.9952 - val_auc: 0.9996\n",
      "Epoch 98/200\n",
      "91459/91459 [==============================] - 7s 80us/step - loss: 0.0056 - accuracy: 0.9956 - precision: 0.9960 - recall: 0.9952 - auc: 0.9996 - val_loss: 0.0192 - val_accuracy: 0.9956 - val_precision: 0.9960 - val_recall: 0.9952 - val_auc: 0.9996\n",
      "Epoch 99/200\n",
      "91459/91459 [==============================] - 6s 70us/step - loss: 0.0057 - accuracy: 0.9956 - precision: 0.9960 - recall: 0.9952 - auc: 0.9996 - val_loss: 0.0192 - val_accuracy: 0.9956 - val_precision: 0.9960 - val_recall: 0.9952 - val_auc: 0.9996\n",
      "Epoch 100/200\n",
      "91459/91459 [==============================] - 7s 80us/step - loss: 0.0064 - accuracy: 0.9956 - precision: 0.9960 - recall: 0.9952 - auc: 0.9996 - val_loss: 0.0177 - val_accuracy: 0.9956 - val_precision: 0.9961 - val_recall: 0.9952 - val_auc: 0.9996\n",
      "Epoch 101/200\n",
      "91459/91459 [==============================] - 7s 82us/step - loss: 0.0058 - accuracy: 0.9957 - precision: 0.9961 - recall: 0.9952 - auc: 0.9996 - val_loss: 0.0180 - val_accuracy: 0.9957 - val_precision: 0.9961 - val_recall: 0.9953 - val_auc: 0.9996\n",
      "Epoch 102/200\n",
      "91459/91459 [==============================] - 7s 81us/step - loss: 0.0065 - accuracy: 0.9957 - precision: 0.9961 - recall: 0.9953 - auc: 0.9996 - val_loss: 0.0172 - val_accuracy: 0.9957 - val_precision: 0.9961 - val_recall: 0.9953 - val_auc: 0.9996\n",
      "Epoch 103/200\n",
      "91459/91459 [==============================] - 8s 82us/step - loss: 0.0061 - accuracy: 0.9957 - precision: 0.9961 - recall: 0.9953 - auc: 0.9996 - val_loss: 0.0178 - val_accuracy: 0.9957 - val_precision: 0.9961 - val_recall: 0.9953 - val_auc: 0.9996\n",
      "Epoch 104/200\n",
      "91459/91459 [==============================] - 8s 83us/step - loss: 0.0055 - accuracy: 0.9957 - precision: 0.9961 - recall: 0.9953 - auc: 0.9996 - val_loss: 0.0183 - val_accuracy: 0.9957 - val_precision: 0.9961 - val_recall: 0.9953 - val_auc: 0.9996\n",
      "Epoch 105/200\n",
      "91459/91459 [==============================] - 7s 81us/step - loss: 0.0057 - accuracy: 0.9957 - precision: 0.9961 - recall: 0.9953 - auc: 0.9996 - val_loss: 0.0186 - val_accuracy: 0.9957 - val_precision: 0.9961 - val_recall: 0.9953 - val_auc: 0.9996\n",
      "Epoch 106/200\n",
      "91459/91459 [==============================] - 7s 80us/step - loss: 0.0058 - accuracy: 0.9957 - precision: 0.9962 - recall: 0.9953 - auc: 0.9996 - val_loss: 0.0184 - val_accuracy: 0.9958 - val_precision: 0.9962 - val_recall: 0.9953 - val_auc: 0.9996\n",
      "Epoch 107/200\n",
      "91459/91459 [==============================] - 9s 101us/step - loss: 0.0055 - accuracy: 0.9958 - precision: 0.9962 - recall: 0.9954 - auc: 0.9996 - val_loss: 0.0186 - val_accuracy: 0.9958 - val_precision: 0.9962 - val_recall: 0.9954 - val_auc: 0.9996\n",
      "Epoch 108/200\n",
      "91459/91459 [==============================] - 8s 83us/step - loss: 0.0058 - accuracy: 0.9958 - precision: 0.9962 - recall: 0.9954 - auc: 0.9996 - val_loss: 0.0181 - val_accuracy: 0.9958 - val_precision: 0.9962 - val_recall: 0.9954 - val_auc: 0.9996\n",
      "Epoch 109/200\n",
      "91459/91459 [==============================] - 7s 78us/step - loss: 0.0057 - accuracy: 0.9958 - precision: 0.9962 - recall: 0.9954 - auc: 0.9996 - val_loss: 0.0182 - val_accuracy: 0.9958 - val_precision: 0.9962 - val_recall: 0.9954 - val_auc: 0.9996\n",
      "Epoch 110/200\n",
      "91459/91459 [==============================] - 7s 80us/step - loss: 0.0056 - accuracy: 0.9958 - precision: 0.9962 - recall: 0.9954 - auc: 0.9996 - val_loss: 0.0184 - val_accuracy: 0.9958 - val_precision: 0.9962 - val_recall: 0.9954 - val_auc: 0.9996\n",
      "Epoch 111/200\n",
      "91459/91459 [==============================] - 7s 76us/step - loss: 0.0057 - accuracy: 0.9958 - precision: 0.9962 - recall: 0.9954 - auc: 0.9996 - val_loss: 0.0187 - val_accuracy: 0.9958 - val_precision: 0.9962 - val_recall: 0.9954 - val_auc: 0.9996\n",
      "Epoch 112/200\n",
      "91459/91459 [==============================] - 7s 79us/step - loss: 0.0054 - accuracy: 0.9958 - precision: 0.9963 - recall: 0.9954 - auc: 0.9996 - val_loss: 0.0180 - val_accuracy: 0.9958 - val_precision: 0.9963 - val_recall: 0.9954 - val_auc: 0.9996\n",
      "Epoch 113/200\n",
      "91459/91459 [==============================] - 7s 77us/step - loss: 0.0055 - accuracy: 0.9959 - precision: 0.9963 - recall: 0.9955 - auc: 0.9996 - val_loss: 0.0193 - val_accuracy: 0.9959 - val_precision: 0.9963 - val_recall: 0.9955 - val_auc: 0.9996\n",
      "Epoch 114/200\n",
      "91459/91459 [==============================] - 7s 79us/step - loss: 0.0056 - accuracy: 0.9959 - precision: 0.9963 - recall: 0.9955 - auc: 0.9996 - val_loss: 0.0187 - val_accuracy: 0.9959 - val_precision: 0.9963 - val_recall: 0.9955 - val_auc: 0.9996\n",
      "Epoch 115/200\n",
      "91459/91459 [==============================] - 8s 89us/step - loss: 0.0055 - accuracy: 0.9959 - precision: 0.9963 - recall: 0.9955 - auc: 0.9996 - val_loss: 0.0192 - val_accuracy: 0.9959 - val_precision: 0.9963 - val_recall: 0.9955 - val_auc: 0.9996\n",
      "Epoch 116/200\n",
      "91459/91459 [==============================] - 8s 89us/step - loss: 0.0059 - accuracy: 0.9959 - precision: 0.9963 - recall: 0.9955 - auc: 0.9996 - val_loss: 0.0183 - val_accuracy: 0.9959 - val_precision: 0.9963 - val_recall: 0.9955 - val_auc: 0.9996\n",
      "Epoch 117/200\n",
      "91459/91459 [==============================] - 9s 94us/step - loss: 0.0057 - accuracy: 0.9959 - precision: 0.9963 - recall: 0.9955 - auc: 0.9996 - val_loss: 0.0197 - val_accuracy: 0.9959 - val_precision: 0.9963 - val_recall: 0.9955 - val_auc: 0.9996\n",
      "Epoch 118/200\n",
      "91459/91459 [==============================] - 9s 95us/step - loss: 0.0054 - accuracy: 0.9959 - precision: 0.9963 - recall: 0.9955 - auc: 0.9996 - val_loss: 0.0183 - val_accuracy: 0.9959 - val_precision: 0.9963 - val_recall: 0.9955 - val_auc: 0.9996\n",
      "Epoch 119/200\n",
      "91459/91459 [==============================] - 7s 80us/step - loss: 0.0055 - accuracy: 0.9959 - precision: 0.9963 - recall: 0.9955 - auc: 0.9996 - val_loss: 0.0186 - val_accuracy: 0.9960 - val_precision: 0.9964 - val_recall: 0.9955 - val_auc: 0.9996\n",
      "Epoch 120/200\n",
      "91459/91459 [==============================] - 7s 77us/step - loss: 0.0055 - accuracy: 0.9960 - precision: 0.9964 - recall: 0.9955 - auc: 0.9996 - val_loss: 0.0181 - val_accuracy: 0.9960 - val_precision: 0.9964 - val_recall: 0.9956 - val_auc: 0.9996\n",
      "Epoch 121/200\n",
      "91459/91459 [==============================] - 8s 86us/step - loss: 0.0055 - accuracy: 0.9960 - precision: 0.9964 - recall: 0.9956 - auc: 0.9996 - val_loss: 0.0197 - val_accuracy: 0.9960 - val_precision: 0.9964 - val_recall: 0.9956 - val_auc: 0.9996\n",
      "Epoch 122/200\n",
      "91459/91459 [==============================] - 8s 90us/step - loss: 0.0054 - accuracy: 0.9960 - precision: 0.9964 - recall: 0.9956 - auc: 0.9996 - val_loss: 0.0179 - val_accuracy: 0.9960 - val_precision: 0.9964 - val_recall: 0.9956 - val_auc: 0.9996\n",
      "Epoch 123/200\n",
      "91459/91459 [==============================] - 8s 91us/step - loss: 0.0054 - accuracy: 0.9960 - precision: 0.9964 - recall: 0.9956 - auc: 0.9996 - val_loss: 0.0180 - val_accuracy: 0.9960 - val_precision: 0.9964 - val_recall: 0.9956 - val_auc: 0.9996\n",
      "Epoch 124/200\n",
      "91459/91459 [==============================] - 8s 88us/step - loss: 0.0055 - accuracy: 0.9960 - precision: 0.9964 - recall: 0.9956 - auc: 0.9996 - val_loss: 0.0180 - val_accuracy: 0.9960 - val_precision: 0.9964 - val_recall: 0.9956 - val_auc: 0.9996\n",
      "Epoch 125/200\n",
      "91459/91459 [==============================] - 7s 79us/step - loss: 0.0056 - accuracy: 0.9960 - precision: 0.9964 - recall: 0.9956 - auc: 0.9996 - val_loss: 0.0184 - val_accuracy: 0.9960 - val_precision: 0.9964 - val_recall: 0.9956 - val_auc: 0.9996\n",
      "Epoch 126/200\n",
      "91459/91459 [==============================] - 8s 83us/step - loss: 0.0052 - accuracy: 0.9960 - precision: 0.9965 - recall: 0.9956 - auc: 0.9996 - val_loss: 0.0187 - val_accuracy: 0.9960 - val_precision: 0.9965 - val_recall: 0.9956 - val_auc: 0.9996\n",
      "Epoch 127/200\n",
      "91459/91459 [==============================] - 8s 90us/step - loss: 0.0055 - accuracy: 0.9960 - precision: 0.9965 - recall: 0.9956 - auc: 0.9996 - val_loss: 0.0189 - val_accuracy: 0.9961 - val_precision: 0.9965 - val_recall: 0.9956 - val_auc: 0.9996\n",
      "Epoch 128/200\n",
      "91459/91459 [==============================] - 8s 88us/step - loss: 0.0053 - accuracy: 0.9961 - precision: 0.9965 - recall: 0.9957 - auc: 0.9996 - val_loss: 0.0186 - val_accuracy: 0.9961 - val_precision: 0.9965 - val_recall: 0.9957 - val_auc: 0.9996\n",
      "Epoch 129/200\n",
      "91459/91459 [==============================] - 9s 95us/step - loss: 0.0054 - accuracy: 0.9961 - precision: 0.9965 - recall: 0.9957 - auc: 0.9997 - val_loss: 0.0205 - val_accuracy: 0.9961 - val_precision: 0.9965 - val_recall: 0.9957 - val_auc: 0.9997cy: 0.9961 - prec\n",
      "Epoch 130/200\n",
      "91459/91459 [==============================] - 8s 90us/step - loss: 0.0055 - accuracy: 0.9961 - precision: 0.9965 - recall: 0.9957 - auc: 0.9997 - val_loss: 0.0201 - val_accuracy: 0.9961 - val_precision: 0.9965 - val_recall: 0.9957 - val_auc: 0.9997\n",
      "Epoch 131/200\n",
      "91459/91459 [==============================] - 9s 102us/step - loss: 0.0055 - accuracy: 0.9961 - precision: 0.9965 - recall: 0.9957 - auc: 0.9997 - val_loss: 0.0282 - val_accuracy: 0.9961 - val_precision: 0.9965 - val_recall: 0.9957 - val_auc: 0.9997\n",
      "Epoch 132/200\n",
      "91459/91459 [==============================] - 7s 79us/step - loss: 0.0051 - accuracy: 0.9961 - precision: 0.9965 - recall: 0.9957 - auc: 0.9997 - val_loss: 0.0182 - val_accuracy: 0.9961 - val_precision: 0.9965 - val_recall: 0.9957 - val_auc: 0.9997\n",
      "Epoch 133/200\n",
      "91459/91459 [==============================] - 7s 81us/step - loss: 0.0051 - accuracy: 0.9961 - precision: 0.9965 - recall: 0.9957 - auc: 0.9997 - val_loss: 0.0181 - val_accuracy: 0.9961 - val_precision: 0.9965 - val_recall: 0.9957 - val_auc: 0.9997\n",
      "Epoch 134/200\n",
      "91459/91459 [==============================] - 8s 82us/step - loss: 0.0052 - accuracy: 0.9961 - precision: 0.9965 - recall: 0.9957 - auc: 0.9997 - val_loss: 0.0220 - val_accuracy: 0.9961 - val_precision: 0.9965 - val_recall: 0.9957 - val_auc: 0.9997\n",
      "Epoch 135/200\n",
      "91459/91459 [==============================] - 8s 86us/step - loss: 0.0052 - accuracy: 0.9961 - precision: 0.9965 - recall: 0.9957 - auc: 0.9997 - val_loss: 0.0177 - val_accuracy: 0.9961 - val_precision: 0.9965 - val_recall: 0.9957 - val_auc: 0.9997\n",
      "Epoch 136/200\n",
      "91459/91459 [==============================] - 7s 79us/step - loss: 0.0049 - accuracy: 0.9962 - precision: 0.9965 - recall: 0.9958 - auc: 0.9997 - val_loss: 0.0206 - val_accuracy: 0.9962 - val_precision: 0.9965 - val_recall: 0.9958 - val_auc: 0.9997\n",
      "Epoch 137/200\n",
      "91459/91459 [==============================] - 7s 77us/step - loss: 0.0051 - accuracy: 0.9962 - precision: 0.9966 - recall: 0.9958 - auc: 0.9997 - val_loss: 0.0190 - val_accuracy: 0.9962 - val_precision: 0.9966 - val_recall: 0.9958 - val_auc: 0.9997\n",
      "Epoch 138/200\n",
      "91459/91459 [==============================] - 8s 84us/step - loss: 0.0051 - accuracy: 0.9962 - precision: 0.9966 - recall: 0.9958 - auc: 0.9997 - val_loss: 0.0199 - val_accuracy: 0.9962 - val_precision: 0.9966 - val_recall: 0.9958 - val_auc: 0.9997\n",
      "Epoch 139/200\n",
      "91459/91459 [==============================] - 7s 75us/step - loss: 0.0052 - accuracy: 0.9962 - precision: 0.9966 - recall: 0.9958 - auc: 0.9997 - val_loss: 0.0175 - val_accuracy: 0.9962 - val_precision: 0.9966 - val_recall: 0.9958 - val_auc: 0.9997\n",
      "Epoch 140/200\n",
      "91459/91459 [==============================] - 7s 75us/step - loss: 0.0051 - accuracy: 0.9962 - precision: 0.9966 - recall: 0.9958 - auc: 0.9997 - val_loss: 0.0196 - val_accuracy: 0.9962 - val_precision: 0.9966 - val_recall: 0.9958 - val_auc: 0.9997\n",
      "Epoch 141/200\n",
      "91459/91459 [==============================] - 7s 78us/step - loss: 0.0053 - accuracy: 0.9962 - precision: 0.9966 - recall: 0.9958 - auc: 0.9997 - val_loss: 0.0183 - val_accuracy: 0.9962 - val_precision: 0.9966 - val_recall: 0.9958 - val_auc: 0.9997\n",
      "Epoch 142/200\n",
      "91459/91459 [==============================] - 7s 81us/step - loss: 0.0053 - accuracy: 0.9962 - precision: 0.9966 - recall: 0.9958 - auc: 0.9997 - val_loss: 0.0190 - val_accuracy: 0.9962 - val_precision: 0.9966 - val_recall: 0.9958 - val_auc: 0.9997\n",
      "Epoch 143/200\n",
      "91459/91459 [==============================] - 7s 81us/step - loss: 0.0053 - accuracy: 0.9962 - precision: 0.9966 - recall: 0.9958 - auc: 0.9997 - val_loss: 0.0190 - val_accuracy: 0.9962 - val_precision: 0.9966 - val_recall: 0.9958 - val_auc: 0.9997\n",
      "Epoch 144/200\n",
      "91459/91459 [==============================] - 8s 92us/step - loss: 0.0049 - accuracy: 0.9962 - precision: 0.9966 - recall: 0.9958 - auc: 0.9997 - val_loss: 0.0184 - val_accuracy: 0.9962 - val_precision: 0.9966 - val_recall: 0.9958 - val_auc: 0.9997\n",
      "Epoch 145/200\n",
      "91459/91459 [==============================] - 9s 103us/step - loss: 0.0051 - accuracy: 0.9963 - precision: 0.9966 - recall: 0.9958 - auc: 0.9997 - val_loss: 0.0188 - val_accuracy: 0.9962 - val_precision: 0.9966 - val_recall: 0.9959 - val_auc: 0.9997\n",
      "Epoch 146/200\n",
      "91459/91459 [==============================] - 10s 107us/step - loss: 0.0051 - accuracy: 0.9963 - precision: 0.9966 - recall: 0.9958 - auc: 0.9997 - val_loss: 0.0186 - val_accuracy: 0.9963 - val_precision: 0.9967 - val_recall: 0.9959 - val_auc: 0.9997\n",
      "Epoch 147/200\n",
      "91459/91459 [==============================] - 9s 93us/step - loss: 0.0048 - accuracy: 0.9963 - precision: 0.9967 - recall: 0.9959 - auc: 0.9997 - val_loss: 0.0180 - val_accuracy: 0.9963 - val_precision: 0.9967 - val_recall: 0.9959 - val_auc: 0.9997\n",
      "Epoch 148/200\n",
      "91459/91459 [==============================] - 8s 83us/step - loss: 0.0050 - accuracy: 0.9963 - precision: 0.9967 - recall: 0.9959 - auc: 0.9997 - val_loss: 0.0200 - val_accuracy: 0.9963 - val_precision: 0.9967 - val_recall: 0.9959 - val_auc: 0.9997\n",
      "Epoch 149/200\n",
      "91459/91459 [==============================] - 7s 81us/step - loss: 0.0053 - accuracy: 0.9963 - precision: 0.9967 - recall: 0.9959 - auc: 0.9997 - val_loss: 0.0176 - val_accuracy: 0.9963 - val_precision: 0.9967 - val_recall: 0.9959 - val_auc: 0.9997\n",
      "Epoch 150/200\n",
      "91459/91459 [==============================] - 7s 77us/step - loss: 0.0052 - accuracy: 0.9963 - precision: 0.9967 - recall: 0.9959 - auc: 0.9997 - val_loss: 0.0187 - val_accuracy: 0.9963 - val_precision: 0.9967 - val_recall: 0.9959 - val_auc: 0.9997\n",
      "Epoch 151/200\n",
      "91459/91459 [==============================] - 7s 79us/step - loss: 0.0049 - accuracy: 0.9963 - precision: 0.9967 - recall: 0.9959 - auc: 0.9997 - val_loss: 0.0191 - val_accuracy: 0.9963 - val_precision: 0.9967 - val_recall: 0.9959 - val_auc: 0.9997\n",
      "Epoch 152/200\n",
      "91459/91459 [==============================] - 8s 83us/step - loss: 0.0051 - accuracy: 0.9963 - precision: 0.9967 - recall: 0.9959 - auc: 0.9997 - val_loss: 0.0181 - val_accuracy: 0.9964 - val_precision: 0.9967 - val_recall: 0.9959 - val_auc: 0.9997\n",
      "Epoch 153/200\n",
      "91459/91459 [==============================] - 8s 85us/step - loss: 0.0050 - accuracy: 0.9964 - precision: 0.9967 - recall: 0.9959 - auc: 0.9997 - val_loss: 0.0195 - val_accuracy: 0.9964 - val_precision: 0.9967 - val_recall: 0.9959 - val_auc: 0.9997\n",
      "Epoch 154/200\n",
      "91459/91459 [==============================] - 7s 78us/step - loss: 0.0051 - accuracy: 0.9964 - precision: 0.9967 - recall: 0.9959 - auc: 0.9997 - val_loss: 0.0190 - val_accuracy: 0.9964 - val_precision: 0.9967 - val_recall: 0.9959 - val_auc: 0.9997\n",
      "Epoch 155/200\n",
      "91459/91459 [==============================] - 7s 76us/step - loss: 0.0054 - accuracy: 0.9964 - precision: 0.9967 - recall: 0.9959 - auc: 0.9997 - val_loss: 0.0187 - val_accuracy: 0.9964 - val_precision: 0.9967 - val_recall: 0.9959 - val_auc: 0.9997\n",
      "Epoch 156/200\n"
     ]
    },
    {
     "name": "stdout",
     "output_type": "stream",
     "text": [
      "91459/91459 [==============================] - 7s 81us/step - loss: 0.0050 - accuracy: 0.9964 - precision: 0.9967 - recall: 0.9959 - auc: 0.9997 - val_loss: 0.0197 - val_accuracy: 0.9964 - val_precision: 0.9967 - val_recall: 0.9960 - val_auc: 0.9997\n",
      "Epoch 157/200\n",
      "91459/91459 [==============================] - 8s 83us/step - loss: 0.0048 - accuracy: 0.9964 - precision: 0.9968 - recall: 0.9960 - auc: 0.9997 - val_loss: 0.0199 - val_accuracy: 0.9964 - val_precision: 0.9968 - val_recall: 0.9960 - val_auc: 0.9997\n",
      "Epoch 158/200\n",
      "91459/91459 [==============================] - 8s 84us/step - loss: 0.0050 - accuracy: 0.9964 - precision: 0.9968 - recall: 0.9960 - auc: 0.9997 - val_loss: 0.0179 - val_accuracy: 0.9965 - val_precision: 0.9968 - val_recall: 0.9960 - val_auc: 0.9997\n",
      "Epoch 159/200\n",
      "91459/91459 [==============================] - 8s 83us/step - loss: 0.0050 - accuracy: 0.9965 - precision: 0.9968 - recall: 0.9960 - auc: 0.9997 - val_loss: 0.0193 - val_accuracy: 0.9965 - val_precision: 0.9968 - val_recall: 0.9960 - val_auc: 0.9997\n",
      "Epoch 160/200\n",
      "91459/91459 [==============================] - 8s 85us/step - loss: 0.0050 - accuracy: 0.9965 - precision: 0.9968 - recall: 0.9960 - auc: 0.9997 - val_loss: 0.0197 - val_accuracy: 0.9965 - val_precision: 0.9968 - val_recall: 0.9960 - val_auc: 0.9997\n",
      "Epoch 161/200\n",
      "91459/91459 [==============================] - 8s 89us/step - loss: 0.0049 - accuracy: 0.9965 - precision: 0.9968 - recall: 0.9960 - auc: 0.9997 - val_loss: 0.0185 - val_accuracy: 0.9965 - val_precision: 0.9968 - val_recall: 0.9960 - val_auc: 0.9997\n",
      "Epoch 162/200\n",
      "91459/91459 [==============================] - 8s 86us/step - loss: 0.0052 - accuracy: 0.9965 - precision: 0.9968 - recall: 0.9960 - auc: 0.9997 - val_loss: 0.0242 - val_accuracy: 0.9965 - val_precision: 0.9968 - val_recall: 0.9960 - val_auc: 0.9997\n",
      "Epoch 163/200\n",
      "91459/91459 [==============================] - 7s 76us/step - loss: 0.0048 - accuracy: 0.9965 - precision: 0.9968 - recall: 0.9960 - auc: 0.9997 - val_loss: 0.0181 - val_accuracy: 0.9965 - val_precision: 0.9968 - val_recall: 0.9960 - val_auc: 0.9997\n",
      "Epoch 164/200\n",
      "91459/91459 [==============================] - 7s 75us/step - loss: 0.0050 - accuracy: 0.9965 - precision: 0.9968 - recall: 0.9960 - auc: 0.9997 - val_loss: 0.0188 - val_accuracy: 0.9965 - val_precision: 0.9968 - val_recall: 0.9960 - val_auc: 0.9997\n",
      "Epoch 165/200\n",
      "91459/91459 [==============================] - 7s 79us/step - loss: 0.0050 - accuracy: 0.9966 - precision: 0.9968 - recall: 0.9960 - auc: 0.9997 - val_loss: 0.0189 - val_accuracy: 0.9966 - val_precision: 0.9968 - val_recall: 0.9960 - val_auc: 0.9997\n",
      "Epoch 166/200\n",
      "91459/91459 [==============================] - 7s 76us/step - loss: 0.0052 - accuracy: 0.9966 - precision: 0.9968 - recall: 0.9960 - auc: 0.9997 - val_loss: 0.0181 - val_accuracy: 0.9966 - val_precision: 0.9968 - val_recall: 0.9960 - val_auc: 0.9997\n",
      "Epoch 167/200\n",
      "91459/91459 [==============================] - 7s 75us/step - loss: 0.0050 - accuracy: 0.9966 - precision: 0.9968 - recall: 0.9960 - auc: 0.9997 - val_loss: 0.0186 - val_accuracy: 0.9966 - val_precision: 0.9968 - val_recall: 0.9960 - val_auc: 0.9997\n",
      "Epoch 168/200\n",
      "91459/91459 [==============================] - 7s 74us/step - loss: 0.0050 - accuracy: 0.9966 - precision: 0.9968 - recall: 0.9960 - auc: 0.9997 - val_loss: 0.0208 - val_accuracy: 0.9966 - val_precision: 0.9968 - val_recall: 0.9961 - val_auc: 0.9997\n",
      "Epoch 169/200\n",
      "91459/91459 [==============================] - 7s 74us/step - loss: 0.0049 - accuracy: 0.9966 - precision: 0.9968 - recall: 0.9961 - auc: 0.9997 - val_loss: 0.0191 - val_accuracy: 0.9966 - val_precision: 0.9969 - val_recall: 0.9961 - val_auc: 0.9997\n",
      "Epoch 170/200\n",
      "91459/91459 [==============================] - 7s 74us/step - loss: 0.0048 - accuracy: 0.9966 - precision: 0.9969 - recall: 0.9961 - auc: 0.9997 - val_loss: 0.0188 - val_accuracy: 0.9966 - val_precision: 0.9969 - val_recall: 0.9961 - val_auc: 0.9997\n",
      "Epoch 171/200\n",
      "91459/91459 [==============================] - 7s 76us/step - loss: 0.0048 - accuracy: 0.9966 - precision: 0.9969 - recall: 0.9961 - auc: 0.9997 - val_loss: 0.0183 - val_accuracy: 0.9966 - val_precision: 0.9969 - val_recall: 0.9961 - val_auc: 0.9997\n",
      "Epoch 172/200\n",
      "91459/91459 [==============================] - 7s 75us/step - loss: 0.0050 - accuracy: 0.9966 - precision: 0.9969 - recall: 0.9961 - auc: 0.9997 - val_loss: 0.0185 - val_accuracy: 0.9967 - val_precision: 0.9969 - val_recall: 0.9961 - val_auc: 0.9997\n",
      "Epoch 173/200\n",
      "91459/91459 [==============================] - 7s 75us/step - loss: 0.0047 - accuracy: 0.9967 - precision: 0.9969 - recall: 0.9961 - auc: 0.9997 - val_loss: 0.0192 - val_accuracy: 0.9967 - val_precision: 0.9969 - val_recall: 0.9961 - val_auc: 0.9997\n",
      "Epoch 174/200\n",
      "91459/91459 [==============================] - 7s 75us/step - loss: 0.0048 - accuracy: 0.9967 - precision: 0.9969 - recall: 0.9961 - auc: 0.9997 - val_loss: 0.0197 - val_accuracy: 0.9967 - val_precision: 0.9969 - val_recall: 0.9961 - val_auc: 0.9997\n",
      "Epoch 175/200\n",
      "91459/91459 [==============================] - 7s 73us/step - loss: 0.0048 - accuracy: 0.9967 - precision: 0.9969 - recall: 0.9961 - auc: 0.9997 - val_loss: 0.0200 - val_accuracy: 0.9967 - val_precision: 0.9969 - val_recall: 0.9961 - val_auc: 0.9997\n",
      "Epoch 176/200\n",
      "91459/91459 [==============================] - 7s 76us/step - loss: 0.0050 - accuracy: 0.9967 - precision: 0.9969 - recall: 0.9961 - auc: 0.9997 - val_loss: 0.0206 - val_accuracy: 0.9967 - val_precision: 0.9969 - val_recall: 0.9961 - val_auc: 0.9997\n",
      "Epoch 177/200\n",
      "91459/91459 [==============================] - 7s 75us/step - loss: 0.0049 - accuracy: 0.9967 - precision: 0.9969 - recall: 0.9961 - auc: 0.9997 - val_loss: 0.0181 - val_accuracy: 0.9967 - val_precision: 0.9969 - val_recall: 0.9961 - val_auc: 0.9997\n",
      "Epoch 178/200\n",
      "91459/91459 [==============================] - 7s 74us/step - loss: 0.0046 - accuracy: 0.9967 - precision: 0.9969 - recall: 0.9961 - auc: 0.9997 - val_loss: 0.0193 - val_accuracy: 0.9967 - val_precision: 0.9969 - val_recall: 0.9961 - val_auc: 0.9997\n",
      "Epoch 179/200\n",
      "91459/91459 [==============================] - 7s 76us/step - loss: 0.0048 - accuracy: 0.9967 - precision: 0.9969 - recall: 0.9961 - auc: 0.9997 - val_loss: 0.0197 - val_accuracy: 0.9968 - val_precision: 0.9969 - val_recall: 0.9961 - val_auc: 0.9997\n",
      "Epoch 180/200\n",
      "91459/91459 [==============================] - 7s 74us/step - loss: 0.0052 - accuracy: 0.9968 - precision: 0.9969 - recall: 0.9961 - auc: 0.9997 - val_loss: 0.0191 - val_accuracy: 0.9968 - val_precision: 0.9969 - val_recall: 0.9961 - val_auc: 0.9997\n",
      "Epoch 181/200\n",
      "91459/91459 [==============================] - 7s 76us/step - loss: 0.0050 - accuracy: 0.9968 - precision: 0.9969 - recall: 0.9961 - auc: 0.9997 - val_loss: 0.0218 - val_accuracy: 0.9968 - val_precision: 0.9969 - val_recall: 0.9961 - val_auc: 0.9997\n",
      "Epoch 182/200\n",
      "91459/91459 [==============================] - 7s 73us/step - loss: 0.0049 - accuracy: 0.9968 - precision: 0.9969 - recall: 0.9962 - auc: 0.9997 - val_loss: 0.0189 - val_accuracy: 0.9968 - val_precision: 0.9969 - val_recall: 0.9962 - val_auc: 0.9997\n",
      "Epoch 183/200\n",
      "91459/91459 [==============================] - 7s 78us/step - loss: 0.0049 - accuracy: 0.9968 - precision: 0.9969 - recall: 0.9962 - auc: 0.9997 - val_loss: 0.0185 - val_accuracy: 0.9968 - val_precision: 0.9969 - val_recall: 0.9962 - val_auc: 0.9997\n",
      "Epoch 184/200\n",
      "91459/91459 [==============================] - 7s 78us/step - loss: 0.0048 - accuracy: 0.9968 - precision: 0.9969 - recall: 0.9962 - auc: 0.9997 - val_loss: 0.0195 - val_accuracy: 0.9968 - val_precision: 0.9970 - val_recall: 0.9962 - val_auc: 0.9997\n",
      "Epoch 185/200\n",
      "91459/91459 [==============================] - 7s 73us/step - loss: 0.0047 - accuracy: 0.9968 - precision: 0.9970 - recall: 0.9962 - auc: 0.9997 - val_loss: 0.0189 - val_accuracy: 0.9968 - val_precision: 0.9970 - val_recall: 0.9962 - val_auc: 0.9997\n",
      "Epoch 186/200\n",
      "91459/91459 [==============================] - 7s 77us/step - loss: 0.0048 - accuracy: 0.9968 - precision: 0.9970 - recall: 0.9962 - auc: 0.9997 - val_loss: 0.0216 - val_accuracy: 0.9968 - val_precision: 0.9970 - val_recall: 0.9962 - val_auc: 0.9997\n",
      "Epoch 187/200\n",
      "91459/91459 [==============================] - 7s 74us/step - loss: 0.0048 - accuracy: 0.9968 - precision: 0.9970 - recall: 0.9962 - auc: 0.9997 - val_loss: 0.0182 - val_accuracy: 0.9969 - val_precision: 0.9970 - val_recall: 0.9962 - val_auc: 0.9997\n",
      "Epoch 188/200\n",
      "91459/91459 [==============================] - 7s 76us/step - loss: 0.0048 - accuracy: 0.9969 - precision: 0.9970 - recall: 0.9962 - auc: 0.9997 - val_loss: 0.0202 - val_accuracy: 0.9969 - val_precision: 0.9970 - val_recall: 0.9962 - val_auc: 0.9997\n",
      "Epoch 189/200\n",
      "91459/91459 [==============================] - 7s 75us/step - loss: 0.0047 - accuracy: 0.9969 - precision: 0.9970 - recall: 0.9962 - auc: 0.9997 - val_loss: 0.0212 - val_accuracy: 0.9969 - val_precision: 0.9970 - val_recall: 0.9962 - val_auc: 0.9997\n",
      "Epoch 190/200\n",
      "91459/91459 [==============================] - 7s 79us/step - loss: 0.0047 - accuracy: 0.9969 - precision: 0.9970 - recall: 0.9962 - auc: 0.9997 - val_loss: 0.0193 - val_accuracy: 0.9969 - val_precision: 0.9970 - val_recall: 0.9962 - val_auc: 0.9997\n",
      "Epoch 191/200\n",
      "91459/91459 [==============================] - 7s 78us/step - loss: 0.0046 - accuracy: 0.9969 - precision: 0.9970 - recall: 0.9962 - auc: 0.9997 - val_loss: 0.0202 - val_accuracy: 0.9969 - val_precision: 0.9970 - val_recall: 0.9962 - val_auc: 0.9997\n",
      "Epoch 192/200\n",
      "91459/91459 [==============================] - 7s 77us/step - loss: 0.0048 - accuracy: 0.9969 - precision: 0.9970 - recall: 0.9962 - auc: 0.9997 - val_loss: 0.0194 - val_accuracy: 0.9969 - val_precision: 0.9970 - val_recall: 0.9962 - val_auc: 0.9997\n",
      "Epoch 193/200\n",
      "91459/91459 [==============================] - 8s 83us/step - loss: 0.0049 - accuracy: 0.9969 - precision: 0.9970 - recall: 0.9962 - auc: 0.9997 - val_loss: 0.0198 - val_accuracy: 0.9969 - val_precision: 0.9970 - val_recall: 0.9962 - val_auc: 0.9997\n",
      "Epoch 194/200\n",
      "91459/91459 [==============================] - 8s 85us/step - loss: 0.0051 - accuracy: 0.9969 - precision: 0.9970 - recall: 0.9962 - auc: 0.9997 - val_loss: 0.0194 - val_accuracy: 0.9969 - val_precision: 0.9970 - val_recall: 0.9962 - val_auc: 0.9997\n",
      "Epoch 195/200\n",
      "91459/91459 [==============================] - 8s 89us/step - loss: 0.0047 - accuracy: 0.9969 - precision: 0.9970 - recall: 0.9962 - auc: 0.9997 - val_loss: 0.0197 - val_accuracy: 0.9969 - val_precision: 0.9970 - val_recall: 0.9962 - val_auc: 0.9997\n",
      "Epoch 196/200\n",
      "91459/91459 [==============================] - 7s 77us/step - loss: 0.0045 - accuracy: 0.9969 - precision: 0.9970 - recall: 0.9962 - auc: 0.9997 - val_loss: 0.0195 - val_accuracy: 0.9969 - val_precision: 0.9970 - val_recall: 0.9962 - val_auc: 0.9997\n",
      "Epoch 197/200\n",
      "91459/91459 [==============================] - 7s 78us/step - loss: 0.0046 - accuracy: 0.9969 - precision: 0.9970 - recall: 0.9963 - auc: 0.9997 - val_loss: 0.0201 - val_accuracy: 0.9970 - val_precision: 0.9970 - val_recall: 0.9962 - val_auc: 0.9997\n",
      "Epoch 198/200\n",
      "91459/91459 [==============================] - 7s 79us/step - loss: 0.0045 - accuracy: 0.9970 - precision: 0.9970 - recall: 0.9963 - auc: 0.9997 - val_loss: 0.0242 - val_accuracy: 0.9970 - val_precision: 0.9970 - val_recall: 0.9963 - val_auc: 0.9997\n",
      "Epoch 199/200\n",
      "91459/91459 [==============================] - 7s 73us/step - loss: 0.0047 - accuracy: 0.9970 - precision: 0.9971 - recall: 0.9963 - auc: 0.9997 - val_loss: 0.0207 - val_accuracy: 0.9970 - val_precision: 0.9971 - val_recall: 0.9963 - val_auc: 0.9997\n",
      "Epoch 200/200\n",
      "91459/91459 [==============================] - 7s 77us/step - loss: 0.0047 - accuracy: 0.9970 - precision: 0.9971 - recall: 0.9963 - auc: 0.9997 - val_loss: 0.0191 - val_accuracy: 0.9970 - val_precision: 0.9971 - val_recall: 0.9963 - val_auc: 0.9997\n"
     ]
    },
    {
     "data": {
      "text/plain": [
       "<keras.callbacks.callbacks.History at 0x2428b730da0>"
      ]
     },
     "execution_count": 11,
     "metadata": {},
     "output_type": "execute_result"
    }
   ],
   "source": [
    "estimator = KerasClassifier(build_fn=neural_network)\n",
    "estimator.fit(X_train,Y_train,verbose=1,callbacks=[early_stopping], epochs=200,validation_split=0.2, batch_size=128)\n"
   ]
  },
  {
   "cell_type": "code",
   "execution_count": 12,
   "metadata": {},
   "outputs": [
    {
     "name": "stdout",
     "output_type": "stream",
     "text": [
      "Epoch 1/1\n",
      "76216/76216 [==============================] - 15s 191us/step - loss: 0.1312 - accuracy: 0.9969 - precision: 0.9970 - recall: 0.9962 - auc: 0.9997\n",
      "Epoch 1/1\n",
      "76216/76216 [==============================] - 15s 196us/step - loss: 0.1403 - accuracy: 0.9968 - precision: 0.9968 - recall: 0.9961 - auc: 0.9997\n",
      "Epoch 1/1\n",
      "76216/76216 [==============================] - 15s 196us/step - loss: 0.1325 - accuracy: 0.9967 - precision: 0.9967 - recall: 0.9960 - auc: 0.9997\n",
      "Cross-Validation set accuracy: 98.313565 %\n",
      "114324/114324 [==============================] - 8s 72us/step\n",
      "Train set accuracy           : 99.6741 %\n",
      "Test set accuracy            : 78.4756 %\n",
      "Test set precision : 0.9237\n",
      "Test set recall    : 0.6775\n",
      "Test set F1-score  : 0.7817\n"
     ]
    }
   ],
   "source": [
    "print(\"Cross-Validation set accuracy: {:.6f} %\".format((cross_val_score(estimator, X_train, Y_train, \n",
    "                                                                        cv=3,scoring='accuracy').mean())*100))\n",
    "test_predictions = estimator.predict(X_test)\n",
    "print(\"Train set accuracy           : {:.4f} %\".format(estimator.score(X_train,Y_train)*100))\n",
    "print(\"Test set accuracy            : {:.4f} %\".format(accuracy_score(Y_test, test_predictions)*100))\n",
    "print(\"Test set precision : {:.4f}\".format(precision_score(Y_test, test_predictions)))\n",
    "print(\"Test set recall    : {:.4f}\".format(recall_score(Y_test, test_predictions)))\n",
    "print(\"Test set F1-score  : {:.4f}\".format(f1_score(Y_test, test_predictions)))"
   ]
  },
  {
   "cell_type": "code",
   "execution_count": 13,
   "metadata": {},
   "outputs": [
    {
     "name": "stdout",
     "output_type": "stream",
     "text": [
      "True Negatives  : 0.93\n",
      "False Positives : 0.07\n",
      "False Negatives : 0.32\n",
      "True Positives  : 0.68\n"
     ]
    },
    {
     "data": {
      "image/png": "[encoded data removed]",
      "text/plain": [
       "<Figure size 180x144 with 2 Axes>"
      ]
     },
     "metadata": {
      "needs_background": "light"
     },
     "output_type": "display_data"
    }
   ],
   "source": [
    "def plot_cm(labels, predictions):\n",
    "    cm = confusion_matrix(labels, predictions, normalize= 'true')\n",
    "    plt.figure(figsize=(2.5,2))\n",
    "    sns.heatmap(cm, annot=True, fmt=\".2f\",annot_kws={'size':12})\n",
    "    plt.ylabel('Actual label')\n",
    "    plt.xlabel('Predicted label')\n",
    "\n",
    "    print('True Negatives  : {:.2f}'.format(cm[0][0]))\n",
    "    print('False Positives : {:.2f}'.format(cm[0][1]))\n",
    "    print('False Negatives : {:.2f}'.format(cm[1][0]))\n",
    "    print('True Positives  : {:.2f}'.format(cm[1][1]))\n",
    "    \n",
    "plot_cm(Y_test,test_predictions)"
   ]
  },
  {
   "cell_type": "code",
   "execution_count": 14,
   "metadata": {
    "scrolled": false
   },
   "outputs": [
    {
     "name": "stdout",
     "output_type": "stream",
     "text": [
      "              precision    recall  f1-score   support\n",
      "\n",
      "           0       0.69      0.93      0.79      9711\n",
      "           1       0.92      0.68      0.78     12803\n",
      "\n",
      "    accuracy                           0.78     22514\n",
      "   macro avg       0.80      0.80      0.78     22514\n",
      "weighted avg       0.82      0.78      0.78     22514\n",
      "\n"
     ]
    }
   ],
   "source": [
    "print(classification_report(Y_test, test_predictions.round()))"
   ]
  },
  {
   "cell_type": "code",
   "execution_count": 15,
   "metadata": {},
   "outputs": [],
   "source": [
    "from sklearn.metrics import roc_curve, auc"
   ]
  },
  {
   "cell_type": "code",
   "execution_count": 16,
   "metadata": {
    "scrolled": false
   },
   "outputs": [
    {
     "name": "stderr",
     "output_type": "stream",
     "text": [
      "c:\\users\\sharuka thirimanne\\appdata\\local\\programs\\python\\python37\\lib\\site-packages\\ipykernel_launcher.py:13: MatplotlibDeprecationWarning: Adding an axes using the same arguments as a previous axes currently reuses the earlier instance.  In a future version, a new instance will always be created and returned.  Meanwhile, this warning can be suppressed, and the future behavior ensured, by passing a unique label to each axes instance.\n",
      "  del sys.path[0]\n"
     ]
    },
    {
     "data": {
      "image/png": "[encoded data removed]",
      "text/plain": [
       "<Figure size 864x720 with 1 Axes>"
      ]
     },
     "metadata": {
      "needs_background": "light"
     },
     "output_type": "display_data"
    }
   ],
   "source": [
    "fpr_lr, tpr_lr, _ = roc_curve(Y_test, test_predictions)\n",
    "roc_auc_lr = auc(fpr_lr, tpr_lr)\n",
    "\n",
    "plt.figure()\n",
    "plt.xlim([-0.01, 1.00])\n",
    "plt.ylim([-0.01, 1.01])\n",
    "plt.plot(fpr_lr, tpr_lr, lw=3, label='KNN ROC curve (area = {:0.2f})'.format(roc_auc_lr))\n",
    "plt.xlabel('False Positive Rate', fontsize=18)\n",
    "plt.ylabel('True Positive Rate', fontsize=18)\n",
    "plt.title('ROC curve', fontsize=18)\n",
    "plt.legend(loc='lower right', fontsize=18)\n",
    "plt.plot([0, 1], [0, 1], color='navy', lw=3, linestyle='--')\n",
    "plt.axes().set_aspect('equal')\n",
    "plt.show()"
   ]
  },
  {
   "cell_type": "code",
   "execution_count": 18,
   "metadata": {},
   "outputs": [
    {
     "data": {
      "text/plain": [
       "{'build_fn': <function __main__.neural_network(optimizer='sgd', init='glorot_uniform')>}"
      ]
     },
     "execution_count": 18,
     "metadata": {},
     "output_type": "execute_result"
    }
   ],
   "source": [
    "estimator.get_params()"
   ]
  },
  {
   "cell_type": "code",
   "execution_count": 19,
   "metadata": {
    "scrolled": true
   },
   "outputs": [
    {
     "name": "stdout",
     "output_type": "stream",
     "text": [
      "Fitting 2 folds for each of 20 candidates, totalling 40 fits\n",
      "[CV] batch_size=32, nb_epoch=50 ......................................\n"
     ]
    },
    {
     "name": "stderr",
     "output_type": "stream",
     "text": [
      "[Parallel(n_jobs=1)]: Using backend SequentialBackend with 1 concurrent workers.\n"
     ]
    },
    {
     "name": "stdout",
     "output_type": "stream",
     "text": [
      "Epoch 1/1\n",
      "57162/57162 [==============================] - 12s 212us/step - loss: 0.0127 - accuracy: 0.9965 - precision: 0.9978 - recall: 0.9943 - auc: 0.9996\n",
      "[CV] ....................... batch_size=32, nb_epoch=50, total=  18.4s\n",
      "[CV] batch_size=32, nb_epoch=50 ......................................\n"
     ]
    },
    {
     "name": "stderr",
     "output_type": "stream",
     "text": [
      "[Parallel(n_jobs=1)]: Done   1 out of   1 | elapsed:   18.3s remaining:    0.0s\n"
     ]
    },
    {
     "name": "stdout",
     "output_type": "stream",
     "text": [
      "Epoch 1/1\n",
      "57162/57162 [==============================] - 12s 214us/step - loss: 0.0206 - accuracy: 0.9965 - precision: 0.9978 - recall: 0.9943 - auc: 0.9996\n",
      "[CV] ....................... batch_size=32, nb_epoch=50, total=  18.8s\n",
      "[CV] batch_size=32, nb_epoch=100 .....................................\n",
      "Epoch 1/1\n",
      "57162/57162 [==============================] - 12s 210us/step - loss: 0.0152 - accuracy: 0.9965 - precision: 0.9978 - recall: 0.9943 - auc: 0.9996\n",
      "[CV] ...................... batch_size=32, nb_epoch=100, total=  18.6s\n",
      "[CV] batch_size=32, nb_epoch=100 .....................................\n",
      "Epoch 1/1\n",
      "57162/57162 [==============================] - 12s 205us/step - loss: 0.0162 - accuracy: 0.9965 - precision: 0.9978 - recall: 0.9943 - auc: 0.9996\n",
      "[CV] ...................... batch_size=32, nb_epoch=100, total=  18.6s\n",
      "[CV] batch_size=32, nb_epoch=150 .....................................\n",
      "Epoch 1/1\n",
      "57162/57162 [==============================] - 12s 212us/step - loss: 0.0145 - accuracy: 0.9965 - precision: 0.9978 - recall: 0.9943 - auc: 0.9996\n",
      "[CV] ...................... batch_size=32, nb_epoch=150, total=  18.0s\n",
      "[CV] batch_size=32, nb_epoch=150 .....................................\n",
      "Epoch 1/1\n",
      "57162/57162 [==============================] - 12s 214us/step - loss: 0.0264 - accuracy: 0.9965 - precision: 0.9978 - recall: 0.9943 - auc: 0.9996\n",
      "[CV] ...................... batch_size=32, nb_epoch=150, total=  18.8s\n",
      "[CV] batch_size=32, nb_epoch=200 .....................................\n",
      "Epoch 1/1\n",
      "57162/57162 [==============================] - 12s 210us/step - loss: 0.0165 - accuracy: 0.9965 - precision: 0.9978 - recall: 0.9943 - auc: 0.9996\n",
      "[CV] ...................... batch_size=32, nb_epoch=200, total=  18.3s\n",
      "[CV] batch_size=32, nb_epoch=200 .....................................\n",
      "Epoch 1/1\n",
      "57162/57162 [==============================] - 12s 210us/step - loss: 0.0164 - accuracy: 0.9965 - precision: 0.9978 - recall: 0.9943 - auc: 0.9996\n",
      "[CV] ...................... batch_size=32, nb_epoch=200, total=  18.5s\n",
      "[CV] batch_size=64, nb_epoch=50 ......................................\n",
      "Epoch 1/1\n",
      "57162/57162 [==============================] - 8s 138us/step - loss: 0.0242 - accuracy: 0.9965 - precision: 0.9978 - recall: 0.9943 - auc: 0.9996\n",
      "[CV] ....................... batch_size=64, nb_epoch=50, total=  13.8s\n",
      "[CV] batch_size=64, nb_epoch=50 ......................................\n",
      "Epoch 1/1\n",
      "57162/57162 [==============================] - 8s 139us/step - loss: 0.0468 - accuracy: 0.9965 - precision: 0.9978 - recall: 0.9943 - auc: 0.9996\n",
      "[CV] ....................... batch_size=64, nb_epoch=50, total=  13.6s\n",
      "[CV] batch_size=64, nb_epoch=100 .....................................\n",
      "Epoch 1/1\n",
      "57162/57162 [==============================] - 8s 142us/step - loss: 0.0276 - accuracy: 0.9965 - precision: 0.9978 - recall: 0.9943 - auc: 0.9996\n",
      "[CV] ...................... batch_size=64, nb_epoch=100, total=  13.9s\n",
      "[CV] batch_size=64, nb_epoch=100 .....................................\n",
      "Epoch 1/1\n",
      "57162/57162 [==============================] - 8s 137us/step - loss: 0.0461 - accuracy: 0.9965 - precision: 0.9978 - recall: 0.9943 - auc: 0.9996\n",
      "[CV] ...................... batch_size=64, nb_epoch=100, total=  13.5s\n",
      "[CV] batch_size=64, nb_epoch=150 .....................................\n",
      "Epoch 1/1\n",
      "57162/57162 [==============================] - 8s 136us/step - loss: 0.0286 - accuracy: 0.9965 - precision: 0.9978 - recall: 0.9943 - auc: 0.9996\n",
      "[CV] ...................... batch_size=64, nb_epoch=150, total=  13.5s\n",
      "[CV] batch_size=64, nb_epoch=150 .....................................\n",
      "Epoch 1/1\n",
      "57162/57162 [==============================] - 8s 137us/step - loss: 0.0305 - accuracy: 0.9966 - precision: 0.9978 - recall: 0.9943 - auc: 0.9996\n",
      "[CV] ...................... batch_size=64, nb_epoch=150, total=  14.5s\n",
      "[CV] batch_size=64, nb_epoch=200 .....................................\n",
      "Epoch 1/1\n",
      "57162/57162 [==============================] - 8s 136us/step - loss: 0.0267 - accuracy: 0.9966 - precision: 0.9978 - recall: 0.9943 - auc: 0.9996\n",
      "[CV] ...................... batch_size=64, nb_epoch=200, total=  13.6s\n",
      "[CV] batch_size=64, nb_epoch=200 .....................................\n",
      "Epoch 1/1\n",
      "57162/57162 [==============================] - 8s 141us/step - loss: 0.0349 - accuracy: 0.9966 - precision: 0.9978 - recall: 0.9943 - auc: 0.9996\n",
      "[CV] ...................... batch_size=64, nb_epoch=200, total=  13.6s\n",
      "[CV] batch_size=128, nb_epoch=50 .....................................\n",
      "Epoch 1/1\n",
      "57162/57162 [==============================] - 5s 88us/step - loss: 0.0794 - accuracy: 0.9965 - precision: 0.9977 - recall: 0.9943 - auc: 0.9996\n",
      "[CV] ...................... batch_size=128, nb_epoch=50, total=   9.8s\n",
      "[CV] batch_size=128, nb_epoch=50 .....................................\n",
      "Epoch 1/1\n",
      "57162/57162 [==============================] - 5s 84us/step - loss: 0.0736 - accuracy: 0.9965 - precision: 0.9977 - recall: 0.9943 - auc: 0.9996\n",
      "[CV] ...................... batch_size=128, nb_epoch=50, total=   9.5s\n",
      "[CV] batch_size=128, nb_epoch=100 ....................................\n",
      "Epoch 1/1\n",
      "57162/57162 [==============================] - 5s 90us/step - loss: 0.0686 - accuracy: 0.9966 - precision: 0.9977 - recall: 0.9943 - auc: 0.9996\n",
      "[CV] ..................... batch_size=128, nb_epoch=100, total=   9.8s\n",
      "[CV] batch_size=128, nb_epoch=100 ....................................\n",
      "Epoch 1/1\n",
      "57162/57162 [==============================] - 5s 92us/step - loss: 0.0750 - accuracy: 0.9966 - precision: 0.9977 - recall: 0.9943 - auc: 0.9996\n",
      "[CV] ..................... batch_size=128, nb_epoch=100, total=  10.8s\n",
      "[CV] batch_size=128, nb_epoch=150 ....................................\n",
      "Epoch 1/1\n",
      "57162/57162 [==============================] - 5s 87us/step - loss: 0.0508 - accuracy: 0.9966 - precision: 0.9977 - recall: 0.9943 - auc: 0.9996\n",
      "[CV] ..................... batch_size=128, nb_epoch=150, total=   9.9s\n",
      "[CV] batch_size=128, nb_epoch=150 ....................................\n",
      "Epoch 1/1\n",
      "57162/57162 [==============================] - 5s 94us/step - loss: 0.0743 - accuracy: 0.9966 - precision: 0.9977 - recall: 0.9943 - auc: 0.9996\n",
      "[CV] ..................... batch_size=128, nb_epoch=150, total=  10.2s\n",
      "[CV] batch_size=128, nb_epoch=200 ....................................\n",
      "Epoch 1/1\n",
      "57162/57162 [==============================] - 5s 90us/step - loss: 0.0534 - accuracy: 0.9966 - precision: 0.9977 - recall: 0.9943 - auc: 0.9996\n",
      "[CV] ..................... batch_size=128, nb_epoch=200, total=   9.8s\n",
      "[CV] batch_size=128, nb_epoch=200 ....................................\n",
      "Epoch 1/1\n",
      "57162/57162 [==============================] - 5s 85us/step - loss: 0.0791 - accuracy: 0.9966 - precision: 0.9976 - recall: 0.9943 - auc: 0.9996\n",
      "[CV] ..................... batch_size=128, nb_epoch=200, total=   9.9s\n",
      "[CV] batch_size=256, nb_epoch=50 .....................................\n",
      "Epoch 1/1\n",
      "57162/57162 [==============================] - 4s 68us/step - loss: 0.1130 - accuracy: 0.9966 - precision: 0.9976 - recall: 0.9943 - auc: 0.9996\n",
      "[CV] ...................... batch_size=256, nb_epoch=50, total=   8.2s\n",
      "[CV] batch_size=256, nb_epoch=50 .....................................\n",
      "Epoch 1/1\n",
      "57162/57162 [==============================] - 4s 63us/step - loss: 0.1535 - accuracy: 0.9966 - precision: 0.9976 - recall: 0.9943 - auc: 0.9996\n",
      "[CV] ...................... batch_size=256, nb_epoch=50, total=   8.0s\n",
      "[CV] batch_size=256, nb_epoch=100 ....................................\n",
      "Epoch 1/1\n",
      "57162/57162 [==============================] - 4s 71us/step - loss: 0.1179 - accuracy: 0.9966 - precision: 0.9976 - recall: 0.9943 - auc: 0.9996\n",
      "[CV] ..................... batch_size=256, nb_epoch=100, total=   9.3s\n",
      "[CV] batch_size=256, nb_epoch=100 ....................................\n",
      "Epoch 1/1\n",
      "57162/57162 [==============================] - 4s 66us/step - loss: 0.1651 - accuracy: 0.9966 - precision: 0.9975 - recall: 0.9943 - auc: 0.9996\n",
      "[CV] ..................... batch_size=256, nb_epoch=100, total=   8.1s\n",
      "[CV] batch_size=256, nb_epoch=150 ....................................\n",
      "Epoch 1/1\n",
      "57162/57162 [==============================] - 4s 68us/step - loss: 0.1016 - accuracy: 0.9965 - precision: 0.9975 - recall: 0.9943 - auc: 0.9995\n"
     ]
    },
    {
     "name": "stdout",
     "output_type": "stream",
     "text": [
      "[CV] ..................... batch_size=256, nb_epoch=150, total=   8.1s\n",
      "[CV] batch_size=256, nb_epoch=150 ....................................\n",
      "Epoch 1/1\n",
      "57162/57162 [==============================] - 4s 66us/step - loss: 0.1567 - accuracy: 0.9965 - precision: 0.9975 - recall: 0.9943 - auc: 0.9995\n",
      "[CV] ..................... batch_size=256, nb_epoch=150, total=   8.1s\n",
      "[CV] batch_size=256, nb_epoch=200 ....................................\n",
      "Epoch 1/1\n",
      "57162/57162 [==============================] - 4s 71us/step - loss: 0.0921 - accuracy: 0.9966 - precision: 0.9975 - recall: 0.9943 - auc: 0.9995\n",
      "[CV] ..................... batch_size=256, nb_epoch=200, total=   8.7s\n",
      "[CV] batch_size=256, nb_epoch=200 ....................................\n",
      "Epoch 1/1\n",
      "57162/57162 [==============================] - 4s 70us/step - loss: 0.1334 - accuracy: 0.9966 - precision: 0.9975 - recall: 0.9943 - auc: 0.9995: 5s - loss: 0.4511 - accuracy: 0.9966 - preci\n",
      "[CV] ..................... batch_size=256, nb_epoch=200, total=   8.2s\n",
      "[CV] batch_size=512, nb_epoch=50 .....................................\n",
      "Epoch 1/1\n",
      "57162/57162 [==============================] - 3s 59us/step - loss: 0.1807 - accuracy: 0.9966 - precision: 0.9975 - recall: 0.9943 - auc: 0.9995\n",
      "[CV] ...................... batch_size=512, nb_epoch=50, total=   7.7s\n",
      "[CV] batch_size=512, nb_epoch=50 .....................................\n",
      "Epoch 1/1\n",
      "57162/57162 [==============================] - 3s 60us/step - loss: 0.3312 - accuracy: 0.9965 - precision: 0.9974 - recall: 0.9943 - auc: 0.9995\n",
      "[CV] ...................... batch_size=512, nb_epoch=50, total=   8.5s\n",
      "[CV] batch_size=512, nb_epoch=100 ....................................\n",
      "Epoch 1/1\n",
      "57162/57162 [==============================] - 3s 58us/step - loss: 0.2007 - accuracy: 0.9965 - precision: 0.9974 - recall: 0.9943 - auc: 0.9995\n",
      "[CV] ..................... batch_size=512, nb_epoch=100, total=   8.0s\n",
      "[CV] batch_size=512, nb_epoch=100 ....................................\n",
      "Epoch 1/1\n",
      "57162/57162 [==============================] - 3s 58us/step - loss: 0.3277 - accuracy: 0.9965 - precision: 0.9973 - recall: 0.9943 - auc: 0.9995: 1s - loss: 0.4526 - accuracy: 0.9965 - precision: 0.9973 - recall: 0.994\n",
      "[CV] ..................... batch_size=512, nb_epoch=100, total=   7.3s\n",
      "[CV] batch_size=512, nb_epoch=150 ....................................\n",
      "Epoch 1/1\n",
      "57162/57162 [==============================] - 3s 60us/step - loss: 0.1881 - accuracy: 0.9965 - precision: 0.9972 - recall: 0.9943 - auc: 0.9995\n",
      "[CV] ..................... batch_size=512, nb_epoch=150, total=   8.0s\n",
      "[CV] batch_size=512, nb_epoch=150 ....................................\n",
      "Epoch 1/1\n",
      "57162/57162 [==============================] - 3s 57us/step - loss: 0.2867 - accuracy: 0.9964 - precision: 0.9971 - recall: 0.9943 - auc: 0.9995\n",
      "[CV] ..................... batch_size=512, nb_epoch=150, total=   7.3s\n",
      "[CV] batch_size=512, nb_epoch=200 ....................................\n",
      "Epoch 1/1\n",
      "57162/57162 [==============================] - 3s 58us/step - loss: 0.1929 - accuracy: 0.9964 - precision: 0.9971 - recall: 0.9943 - auc: 0.9995\n",
      "[CV] ..................... batch_size=512, nb_epoch=200, total=   7.9s\n",
      "[CV] batch_size=512, nb_epoch=200 ....................................\n",
      "Epoch 1/1\n",
      "57162/57162 [==============================] - 3s 53us/step - loss: 0.2911 - accuracy: 0.9964 - precision: 0.9970 - recall: 0.9943 - auc: 0.9995: 1s - loss: 0.4776 - accuracy: 0.9964 - precision: 0.9970 - recall: \n",
      "[CV] ..................... batch_size=512, nb_epoch=200, total=   7.4s\n"
     ]
    },
    {
     "name": "stderr",
     "output_type": "stream",
     "text": [
      "[Parallel(n_jobs=1)]: Done  40 out of  40 | elapsed:  7.8min finished\n"
     ]
    },
    {
     "ename": "RuntimeError",
     "evalue": "Cannot clone object <keras.wrappers.scikit_learn.KerasClassifier object at 0x000001D39CDE35F8>, as the constructor either does not set or modifies parameter batch_size",
     "output_type": "error",
     "traceback": [
      "\u001b[1;31m---------------------------------------------------------------------------\u001b[0m",
      "\u001b[1;31mRuntimeError\u001b[0m                              Traceback (most recent call last)",
      "\u001b[1;32m<ipython-input-19-898d6a8a7a3d>\u001b[0m in \u001b[0;36m<module>\u001b[1;34m\u001b[0m\n\u001b[0;32m     12\u001b[0m     \u001b[0mscoring\u001b[0m \u001b[1;33m=\u001b[0m\u001b[1;34m'accuracy'\u001b[0m\u001b[1;33m,\u001b[0m\u001b[1;33m\u001b[0m\u001b[1;33m\u001b[0m\u001b[0m\n\u001b[0;32m     13\u001b[0m     verbose = 2)\n\u001b[1;32m---> 14\u001b[1;33m \u001b[0moptimal_params\u001b[0m\u001b[1;33m.\u001b[0m\u001b[0mfit\u001b[0m\u001b[1;33m(\u001b[0m\u001b[0mX_train\u001b[0m\u001b[1;33m,\u001b[0m\u001b[0mY_train\u001b[0m\u001b[1;33m)\u001b[0m\u001b[1;33m\u001b[0m\u001b[1;33m\u001b[0m\u001b[0m\n\u001b[0m\u001b[0;32m     15\u001b[0m \u001b[0mprint\u001b[0m\u001b[1;33m(\u001b[0m\u001b[0moptimal_params\u001b[0m\u001b[1;33m.\u001b[0m\u001b[0mbest_params_\u001b[0m\u001b[1;33m)\u001b[0m\u001b[1;33m\u001b[0m\u001b[1;33m\u001b[0m\u001b[0m\n",
      "\u001b[1;32mc:\\users\\sharuka thirimanne\\appdata\\local\\programs\\python\\python37\\lib\\site-packages\\sklearn\\utils\\validation.py\u001b[0m in \u001b[0;36minner_f\u001b[1;34m(*args, **kwargs)\u001b[0m\n\u001b[0;32m     70\u001b[0m                           FutureWarning)\n\u001b[0;32m     71\u001b[0m         \u001b[0mkwargs\u001b[0m\u001b[1;33m.\u001b[0m\u001b[0mupdate\u001b[0m\u001b[1;33m(\u001b[0m\u001b[1;33m{\u001b[0m\u001b[0mk\u001b[0m\u001b[1;33m:\u001b[0m \u001b[0marg\u001b[0m \u001b[1;32mfor\u001b[0m \u001b[0mk\u001b[0m\u001b[1;33m,\u001b[0m \u001b[0marg\u001b[0m \u001b[1;32min\u001b[0m \u001b[0mzip\u001b[0m\u001b[1;33m(\u001b[0m\u001b[0msig\u001b[0m\u001b[1;33m.\u001b[0m\u001b[0mparameters\u001b[0m\u001b[1;33m,\u001b[0m \u001b[0margs\u001b[0m\u001b[1;33m)\u001b[0m\u001b[1;33m}\u001b[0m\u001b[1;33m)\u001b[0m\u001b[1;33m\u001b[0m\u001b[1;33m\u001b[0m\u001b[0m\n\u001b[1;32m---> 72\u001b[1;33m         \u001b[1;32mreturn\u001b[0m \u001b[0mf\u001b[0m\u001b[1;33m(\u001b[0m\u001b[1;33m**\u001b[0m\u001b[0mkwargs\u001b[0m\u001b[1;33m)\u001b[0m\u001b[1;33m\u001b[0m\u001b[1;33m\u001b[0m\u001b[0m\n\u001b[0m\u001b[0;32m     73\u001b[0m     \u001b[1;32mreturn\u001b[0m \u001b[0minner_f\u001b[0m\u001b[1;33m\u001b[0m\u001b[1;33m\u001b[0m\u001b[0m\n\u001b[0;32m     74\u001b[0m \u001b[1;33m\u001b[0m\u001b[0m\n",
      "\u001b[1;32mc:\\users\\sharuka thirimanne\\appdata\\local\\programs\\python\\python37\\lib\\site-packages\\sklearn\\model_selection\\_search.py\u001b[0m in \u001b[0;36mfit\u001b[1;34m(self, X, y, groups, **fit_params)\u001b[0m\n\u001b[0;32m    760\u001b[0m             \u001b[1;31m# of the params are estimators as well.\u001b[0m\u001b[1;33m\u001b[0m\u001b[1;33m\u001b[0m\u001b[1;33m\u001b[0m\u001b[0m\n\u001b[0;32m    761\u001b[0m             self.best_estimator_ = clone(clone(base_estimator).set_params(\n\u001b[1;32m--> 762\u001b[1;33m                 **self.best_params_))\n\u001b[0m\u001b[0;32m    763\u001b[0m             \u001b[0mrefit_start_time\u001b[0m \u001b[1;33m=\u001b[0m \u001b[0mtime\u001b[0m\u001b[1;33m.\u001b[0m\u001b[0mtime\u001b[0m\u001b[1;33m(\u001b[0m\u001b[1;33m)\u001b[0m\u001b[1;33m\u001b[0m\u001b[1;33m\u001b[0m\u001b[0m\n\u001b[0;32m    764\u001b[0m             \u001b[1;32mif\u001b[0m \u001b[0my\u001b[0m \u001b[1;32mis\u001b[0m \u001b[1;32mnot\u001b[0m \u001b[1;32mNone\u001b[0m\u001b[1;33m:\u001b[0m\u001b[1;33m\u001b[0m\u001b[1;33m\u001b[0m\u001b[0m\n",
      "\u001b[1;32mc:\\users\\sharuka thirimanne\\appdata\\local\\programs\\python\\python37\\lib\\site-packages\\sklearn\\utils\\validation.py\u001b[0m in \u001b[0;36minner_f\u001b[1;34m(*args, **kwargs)\u001b[0m\n\u001b[0;32m     70\u001b[0m                           FutureWarning)\n\u001b[0;32m     71\u001b[0m         \u001b[0mkwargs\u001b[0m\u001b[1;33m.\u001b[0m\u001b[0mupdate\u001b[0m\u001b[1;33m(\u001b[0m\u001b[1;33m{\u001b[0m\u001b[0mk\u001b[0m\u001b[1;33m:\u001b[0m \u001b[0marg\u001b[0m \u001b[1;32mfor\u001b[0m \u001b[0mk\u001b[0m\u001b[1;33m,\u001b[0m \u001b[0marg\u001b[0m \u001b[1;32min\u001b[0m \u001b[0mzip\u001b[0m\u001b[1;33m(\u001b[0m\u001b[0msig\u001b[0m\u001b[1;33m.\u001b[0m\u001b[0mparameters\u001b[0m\u001b[1;33m,\u001b[0m \u001b[0margs\u001b[0m\u001b[1;33m)\u001b[0m\u001b[1;33m}\u001b[0m\u001b[1;33m)\u001b[0m\u001b[1;33m\u001b[0m\u001b[1;33m\u001b[0m\u001b[0m\n\u001b[1;32m---> 72\u001b[1;33m         \u001b[1;32mreturn\u001b[0m \u001b[0mf\u001b[0m\u001b[1;33m(\u001b[0m\u001b[1;33m**\u001b[0m\u001b[0mkwargs\u001b[0m\u001b[1;33m)\u001b[0m\u001b[1;33m\u001b[0m\u001b[1;33m\u001b[0m\u001b[0m\n\u001b[0m\u001b[0;32m     73\u001b[0m     \u001b[1;32mreturn\u001b[0m \u001b[0minner_f\u001b[0m\u001b[1;33m\u001b[0m\u001b[1;33m\u001b[0m\u001b[0m\n\u001b[0;32m     74\u001b[0m \u001b[1;33m\u001b[0m\u001b[0m\n",
      "\u001b[1;32mc:\\users\\sharuka thirimanne\\appdata\\local\\programs\\python\\python37\\lib\\site-packages\\sklearn\\base.py\u001b[0m in \u001b[0;36mclone\u001b[1;34m(estimator, safe)\u001b[0m\n\u001b[0;32m     96\u001b[0m             raise RuntimeError('Cannot clone object %s, as the constructor '\n\u001b[0;32m     97\u001b[0m                                \u001b[1;34m'either does not set or modifies parameter %s'\u001b[0m \u001b[1;33m%\u001b[0m\u001b[1;33m\u001b[0m\u001b[1;33m\u001b[0m\u001b[0m\n\u001b[1;32m---> 98\u001b[1;33m                                (estimator, name))\n\u001b[0m\u001b[0;32m     99\u001b[0m     \u001b[1;32mreturn\u001b[0m \u001b[0mnew_object\u001b[0m\u001b[1;33m\u001b[0m\u001b[1;33m\u001b[0m\u001b[0m\n\u001b[0;32m    100\u001b[0m \u001b[1;33m\u001b[0m\u001b[0m\n",
      "\u001b[1;31mRuntimeError\u001b[0m: Cannot clone object <keras.wrappers.scikit_learn.KerasClassifier object at 0x000001D39CDE35F8>, as the constructor either does not set or modifies parameter batch_size"
     ]
    }
   ],
   "source": [
    "optimizers = ['sgd','rmsprop', 'adam']\n",
    "init = ['glorot_uniform', 'normal', 'uniform']\n",
    "epochs = np.array([50, 100, 150,200])\n",
    "batches = np.array([32,64,128,256,512])\n",
    "#param_grid = dict(optimizer=optimizers, nb_epoch=epochs, batch_size=batches, init=init)\n",
    "param_grid = dict(nb_epoch=epochs, batch_size=batches)\n",
    "\n",
    "optimal_params = GridSearchCV(\n",
    "    estimator = estimator,\n",
    "    param_grid = param_grid,\n",
    "    cv=2,\n",
    "    scoring ='accuracy',\n",
    "    verbose = 2)\n",
    "optimal_params.fit(X_train,Y_train)\n",
    "print(optimal_params.best_params_)\n"
   ]
  },
  {
   "cell_type": "code",
   "execution_count": null,
   "metadata": {},
   "outputs": [],
   "source": [
    "def plot_metrics(history):\n",
    "  metrics =  ['accuracy', 'precision', 'recall','auc']\n",
    "  for n, metric in enumerate(metrics):\n",
    "    name = metric.replace(\"_\",\" \").capitalize()\n",
    "    plt.subplots(2,2)\n",
    "    plt.plot(history.epochs,  history.history[metric], color=colors[0], label='Train')\n",
    "    plt.plot(history.epochs, history.history['val_'+metric], color=colors[0], linestyle=\"--\", label='Val')\n",
    "    plt.xlabel('Epoch')\n",
    "    plt.ylabel(name)\n",
    "    if metric == 'loss':\n",
    "      plt.ylim([0, plt.ylim()[1]])\n",
    "    elif metric == 'accuracy':\n",
    "      plt.ylim([0.8,1])\n",
    "    elif metric == 'precision':\n",
    "      plt.ylim([0.8,1])\n",
    "    elif metric == 'recall':\n",
    "      plt.ylim([0.8,1])\n",
    "\n",
    "    plt.legend()\n",
    "    \n",
    "plot_metrics(estimator)"
   ]
  }
 ],
 "metadata": {
  "kernelspec": {
   "display_name": "Python 3",
   "language": "python",
   "name": "python3"
  },
  "language_info": {
   "codemirror_mode": {
    "name": "ipython",
    "version": 3
   },
   "file_extension": ".py",
   "mimetype": "text/x-python",
   "name": "python",
   "nbconvert_exporter": "python",
   "pygments_lexer": "ipython3",
   "version": "3.8.6"
  }
 },
 "nbformat": 4,
 "nbformat_minor": 4
}
